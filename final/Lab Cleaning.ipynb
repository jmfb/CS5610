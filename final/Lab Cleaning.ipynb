{
 "cells": [
  {
   "cell_type": "markdown",
   "id": "b74d9da1-a0f4-460a-adf2-1740335bd6ce",
   "metadata": {},
   "source": [
    "# CSC5610 Final - Water Potability Analysis\n",
    "\n",
    "Authors: **Jacob Buysse**, **Andrew Cook**, **Josh Grant**\n",
    "\n",
    "## Part 1 - Data Cleaning\n",
    "\n",
    "Data Source: https://data.ca.gov/dataset/water-quality-data/resource/a284b69b-37d5-491b-80a9-938aea54f44e\n",
    "\n",
    "For this we will be using the following libraries..."
   ]
  },
  {
   "cell_type": "code",
   "execution_count": 1,
   "id": "8e16cef5-3c79-4ef7-b9ae-20f1dd8f6e58",
   "metadata": {},
   "outputs": [],
   "source": [
    "import pandas as pd\n",
    "import seaborn as sns\n",
    "import matplotlib as plt\n",
    "from potable import is_potable"
   ]
  },
  {
   "cell_type": "markdown",
   "id": "942c928f-4bb7-48ae-998a-8f85dcc53c9d",
   "metadata": {},
   "source": [
    "We will configure our plots for readable labels, high resolution, and automatic layout."
   ]
  },
  {
   "cell_type": "code",
   "execution_count": 2,
   "id": "11024b43-62e9-4f87-a322-13dec2d2969a",
   "metadata": {},
   "outputs": [],
   "source": [
    "plt.rc(\"axes\", labelsize=18)\n",
    "plt.rc(\"figure\", dpi=150, autolayout=True)"
   ]
  },
  {
   "cell_type": "markdown",
   "id": "4e55be87-c661-40ed-ab80-cf53fa0f4b9e",
   "metadata": {},
   "source": [
    "Let us load the lab results and view the head/info/describe results."
   ]
  },
  {
   "cell_type": "code",
   "execution_count": 3,
   "id": "e6c97ce3-2083-4d79-a52d-1d0562f13ca0",
   "metadata": {},
   "outputs": [
    {
     "data": {
      "text/html": [
       "<div>\n",
       "<style scoped>\n",
       "    .dataframe tbody tr th:only-of-type {\n",
       "        vertical-align: middle;\n",
       "    }\n",
       "\n",
       "    .dataframe tbody tr th {\n",
       "        vertical-align: top;\n",
       "    }\n",
       "\n",
       "    .dataframe thead th {\n",
       "        text-align: right;\n",
       "    }\n",
       "</style>\n",
       "<table border=\"1\" class=\"dataframe\">\n",
       "  <thead>\n",
       "    <tr style=\"text-align: right;\">\n",
       "      <th></th>\n",
       "      <th>station_id</th>\n",
       "      <th>station_name</th>\n",
       "      <th>full_station_name</th>\n",
       "      <th>station_number</th>\n",
       "      <th>station_type</th>\n",
       "      <th>latitude</th>\n",
       "      <th>longitude</th>\n",
       "      <th>status</th>\n",
       "      <th>county_name</th>\n",
       "      <th>sample_code</th>\n",
       "      <th>sample_date</th>\n",
       "      <th>sample_depth</th>\n",
       "      <th>sample_depth_units</th>\n",
       "      <th>parameter</th>\n",
       "      <th>result</th>\n",
       "      <th>reporting_limit</th>\n",
       "      <th>units</th>\n",
       "      <th>method_name</th>\n",
       "    </tr>\n",
       "  </thead>\n",
       "  <tbody>\n",
       "    <tr>\n",
       "      <th>0</th>\n",
       "      <td>8135</td>\n",
       "      <td>01S04E32C001M</td>\n",
       "      <td>01S04E32C001M</td>\n",
       "      <td>01S04E32C001M</td>\n",
       "      <td>Groundwater</td>\n",
       "      <td>37.8073</td>\n",
       "      <td>-121.5617</td>\n",
       "      <td>Public, Review Status Unknown</td>\n",
       "      <td>Alameda</td>\n",
       "      <td>WDIS_0719152</td>\n",
       "      <td>05/03/1967 09:00</td>\n",
       "      <td>NaN</td>\n",
       "      <td>Feet</td>\n",
       "      <td>Conductance</td>\n",
       "      <td>3480</td>\n",
       "      <td>1.0</td>\n",
       "      <td>uS/cm</td>\n",
       "      <td>EPA 120.1</td>\n",
       "    </tr>\n",
       "    <tr>\n",
       "      <th>1</th>\n",
       "      <td>8135</td>\n",
       "      <td>01S04E32C001M</td>\n",
       "      <td>01S04E32C001M</td>\n",
       "      <td>01S04E32C001M</td>\n",
       "      <td>Groundwater</td>\n",
       "      <td>37.8073</td>\n",
       "      <td>-121.5617</td>\n",
       "      <td>Public, Review Status Unknown</td>\n",
       "      <td>Alameda</td>\n",
       "      <td>WDIS_0719152</td>\n",
       "      <td>05/03/1967 09:00</td>\n",
       "      <td>NaN</td>\n",
       "      <td>Feet</td>\n",
       "      <td>Dissolved Boron</td>\n",
       "      <td>7.7</td>\n",
       "      <td>0.1</td>\n",
       "      <td>mg/L</td>\n",
       "      <td>Std Method 4500-B, C</td>\n",
       "    </tr>\n",
       "    <tr>\n",
       "      <th>2</th>\n",
       "      <td>8135</td>\n",
       "      <td>01S04E32C001M</td>\n",
       "      <td>01S04E32C001M</td>\n",
       "      <td>01S04E32C001M</td>\n",
       "      <td>Groundwater</td>\n",
       "      <td>37.8073</td>\n",
       "      <td>-121.5617</td>\n",
       "      <td>Public, Review Status Unknown</td>\n",
       "      <td>Alameda</td>\n",
       "      <td>WDIS_0719152</td>\n",
       "      <td>05/03/1967 09:00</td>\n",
       "      <td>NaN</td>\n",
       "      <td>Feet</td>\n",
       "      <td>Dissolved Calcium</td>\n",
       "      <td>68</td>\n",
       "      <td>1.0</td>\n",
       "      <td>mg/L</td>\n",
       "      <td>EPA 215.2</td>\n",
       "    </tr>\n",
       "    <tr>\n",
       "      <th>3</th>\n",
       "      <td>8135</td>\n",
       "      <td>01S04E32C001M</td>\n",
       "      <td>01S04E32C001M</td>\n",
       "      <td>01S04E32C001M</td>\n",
       "      <td>Groundwater</td>\n",
       "      <td>37.8073</td>\n",
       "      <td>-121.5617</td>\n",
       "      <td>Public, Review Status Unknown</td>\n",
       "      <td>Alameda</td>\n",
       "      <td>WDIS_0719152</td>\n",
       "      <td>05/03/1967 09:00</td>\n",
       "      <td>NaN</td>\n",
       "      <td>Feet</td>\n",
       "      <td>Dissolved Chloride</td>\n",
       "      <td>758</td>\n",
       "      <td>0.1</td>\n",
       "      <td>mg/L</td>\n",
       "      <td>Std Method 4500-Cl, B</td>\n",
       "    </tr>\n",
       "    <tr>\n",
       "      <th>4</th>\n",
       "      <td>8135</td>\n",
       "      <td>01S04E32C001M</td>\n",
       "      <td>01S04E32C001M</td>\n",
       "      <td>01S04E32C001M</td>\n",
       "      <td>Groundwater</td>\n",
       "      <td>37.8073</td>\n",
       "      <td>-121.5617</td>\n",
       "      <td>Public, Review Status Unknown</td>\n",
       "      <td>Alameda</td>\n",
       "      <td>WDIS_0719152</td>\n",
       "      <td>05/03/1967 09:00</td>\n",
       "      <td>NaN</td>\n",
       "      <td>Feet</td>\n",
       "      <td>Dissolved Magnesium</td>\n",
       "      <td>59</td>\n",
       "      <td>0.1</td>\n",
       "      <td>mg/L</td>\n",
       "      <td>Std Method 3500-Mg, E</td>\n",
       "    </tr>\n",
       "  </tbody>\n",
       "</table>\n",
       "</div>"
      ],
      "text/plain": [
       "   station_id   station_name full_station_name station_number station_type  \\\n",
       "0        8135  01S04E32C001M     01S04E32C001M  01S04E32C001M  Groundwater   \n",
       "1        8135  01S04E32C001M     01S04E32C001M  01S04E32C001M  Groundwater   \n",
       "2        8135  01S04E32C001M     01S04E32C001M  01S04E32C001M  Groundwater   \n",
       "3        8135  01S04E32C001M     01S04E32C001M  01S04E32C001M  Groundwater   \n",
       "4        8135  01S04E32C001M     01S04E32C001M  01S04E32C001M  Groundwater   \n",
       "\n",
       "   latitude  longitude                         status county_name  \\\n",
       "0   37.8073  -121.5617  Public, Review Status Unknown     Alameda   \n",
       "1   37.8073  -121.5617  Public, Review Status Unknown     Alameda   \n",
       "2   37.8073  -121.5617  Public, Review Status Unknown     Alameda   \n",
       "3   37.8073  -121.5617  Public, Review Status Unknown     Alameda   \n",
       "4   37.8073  -121.5617  Public, Review Status Unknown     Alameda   \n",
       "\n",
       "    sample_code       sample_date  sample_depth sample_depth_units  \\\n",
       "0  WDIS_0719152  05/03/1967 09:00           NaN               Feet   \n",
       "1  WDIS_0719152  05/03/1967 09:00           NaN               Feet   \n",
       "2  WDIS_0719152  05/03/1967 09:00           NaN               Feet   \n",
       "3  WDIS_0719152  05/03/1967 09:00           NaN               Feet   \n",
       "4  WDIS_0719152  05/03/1967 09:00           NaN               Feet   \n",
       "\n",
       "             parameter result  reporting_limit  units            method_name  \n",
       "0          Conductance   3480              1.0  uS/cm              EPA 120.1  \n",
       "1      Dissolved Boron    7.7              0.1   mg/L   Std Method 4500-B, C  \n",
       "2    Dissolved Calcium     68              1.0   mg/L              EPA 215.2  \n",
       "3   Dissolved Chloride    758              0.1   mg/L  Std Method 4500-Cl, B  \n",
       "4  Dissolved Magnesium     59              0.1   mg/L  Std Method 3500-Mg, E  "
      ]
     },
     "execution_count": 3,
     "metadata": {},
     "output_type": "execute_result"
    }
   ],
   "source": [
    "df = pd.read_csv(\"./lab_results.csv\")\n",
    "df.head()"
   ]
  },
  {
   "cell_type": "code",
   "execution_count": 4,
   "id": "28fa6f7a-e183-48b7-bb00-c3f539fe29f5",
   "metadata": {},
   "outputs": [
    {
     "name": "stdout",
     "output_type": "stream",
     "text": [
      "<class 'pandas.core.frame.DataFrame'>\n",
      "RangeIndex: 4604610 entries, 0 to 4604609\n",
      "Data columns (total 18 columns):\n",
      " #   Column              Dtype  \n",
      "---  ------              -----  \n",
      " 0   station_id          int64  \n",
      " 1   station_name        object \n",
      " 2   full_station_name   object \n",
      " 3   station_number      object \n",
      " 4   station_type        object \n",
      " 5   latitude            float64\n",
      " 6   longitude           float64\n",
      " 7   status              object \n",
      " 8   county_name         object \n",
      " 9   sample_code         object \n",
      " 10  sample_date         object \n",
      " 11  sample_depth        float64\n",
      " 12  sample_depth_units  object \n",
      " 13  parameter           object \n",
      " 14  result              object \n",
      " 15  reporting_limit     float64\n",
      " 16  units               object \n",
      " 17  method_name         object \n",
      "dtypes: float64(4), int64(1), object(13)\n",
      "memory usage: 632.3+ MB\n"
     ]
    }
   ],
   "source": [
    "df.info()"
   ]
  },
  {
   "cell_type": "code",
   "execution_count": 5,
   "id": "4431b0bd-8f04-4b3a-ad2c-3a54c676cde7",
   "metadata": {},
   "outputs": [
    {
     "data": {
      "text/html": [
       "<div>\n",
       "<style scoped>\n",
       "    .dataframe tbody tr th:only-of-type {\n",
       "        vertical-align: middle;\n",
       "    }\n",
       "\n",
       "    .dataframe tbody tr th {\n",
       "        vertical-align: top;\n",
       "    }\n",
       "\n",
       "    .dataframe thead th {\n",
       "        text-align: right;\n",
       "    }\n",
       "</style>\n",
       "<table border=\"1\" class=\"dataframe\">\n",
       "  <thead>\n",
       "    <tr style=\"text-align: right;\">\n",
       "      <th></th>\n",
       "      <th>station_id</th>\n",
       "      <th>latitude</th>\n",
       "      <th>longitude</th>\n",
       "      <th>sample_depth</th>\n",
       "      <th>reporting_limit</th>\n",
       "    </tr>\n",
       "  </thead>\n",
       "  <tbody>\n",
       "    <tr>\n",
       "      <th>count</th>\n",
       "      <td>4.604610e+06</td>\n",
       "      <td>4.466527e+06</td>\n",
       "      <td>4.466527e+06</td>\n",
       "      <td>1.821849e+06</td>\n",
       "      <td>4.587145e+06</td>\n",
       "    </tr>\n",
       "    <tr>\n",
       "      <th>mean</th>\n",
       "      <td>1.581010e+04</td>\n",
       "      <td>3.692224e+01</td>\n",
       "      <td>-1.192331e+02</td>\n",
       "      <td>6.326068e+00</td>\n",
       "      <td>7.633552e-01</td>\n",
       "    </tr>\n",
       "    <tr>\n",
       "      <th>std</th>\n",
       "      <td>1.676235e+04</td>\n",
       "      <td>2.421692e+00</td>\n",
       "      <td>1.546794e+01</td>\n",
       "      <td>4.031159e+01</td>\n",
       "      <td>8.556719e+00</td>\n",
       "    </tr>\n",
       "    <tr>\n",
       "      <th>min</th>\n",
       "      <td>1.000000e+00</td>\n",
       "      <td>3.254170e+01</td>\n",
       "      <td>-1.244006e+02</td>\n",
       "      <td>-3.500000e-01</td>\n",
       "      <td>0.000000e+00</td>\n",
       "    </tr>\n",
       "    <tr>\n",
       "      <th>25%</th>\n",
       "      <td>1.726000e+03</td>\n",
       "      <td>3.433600e+01</td>\n",
       "      <td>-1.217089e+02</td>\n",
       "      <td>1.500000e-01</td>\n",
       "      <td>1.000000e-01</td>\n",
       "    </tr>\n",
       "    <tr>\n",
       "      <th>50%</th>\n",
       "      <td>6.553000e+03</td>\n",
       "      <td>3.740720e+01</td>\n",
       "      <td>-1.210151e+02</td>\n",
       "      <td>1.000000e+00</td>\n",
       "      <td>5.000000e-01</td>\n",
       "    </tr>\n",
       "    <tr>\n",
       "      <th>75%</th>\n",
       "      <td>2.846800e+04</td>\n",
       "      <td>3.880590e+01</td>\n",
       "      <td>-1.183674e+02</td>\n",
       "      <td>1.000000e+00</td>\n",
       "      <td>1.000000e+00</td>\n",
       "    </tr>\n",
       "    <tr>\n",
       "      <th>max</th>\n",
       "      <td>4.801500e+04</td>\n",
       "      <td>4.203440e+01</td>\n",
       "      <td>1.214820e+02</td>\n",
       "      <td>1.210000e+03</td>\n",
       "      <td>1.000000e+04</td>\n",
       "    </tr>\n",
       "  </tbody>\n",
       "</table>\n",
       "</div>"
      ],
      "text/plain": [
       "         station_id      latitude     longitude  sample_depth  reporting_limit\n",
       "count  4.604610e+06  4.466527e+06  4.466527e+06  1.821849e+06     4.587145e+06\n",
       "mean   1.581010e+04  3.692224e+01 -1.192331e+02  6.326068e+00     7.633552e-01\n",
       "std    1.676235e+04  2.421692e+00  1.546794e+01  4.031159e+01     8.556719e+00\n",
       "min    1.000000e+00  3.254170e+01 -1.244006e+02 -3.500000e-01     0.000000e+00\n",
       "25%    1.726000e+03  3.433600e+01 -1.217089e+02  1.500000e-01     1.000000e-01\n",
       "50%    6.553000e+03  3.740720e+01 -1.210151e+02  1.000000e+00     5.000000e-01\n",
       "75%    2.846800e+04  3.880590e+01 -1.183674e+02  1.000000e+00     1.000000e+00\n",
       "max    4.801500e+04  4.203440e+01  1.214820e+02  1.210000e+03     1.000000e+04"
      ]
     },
     "execution_count": 5,
     "metadata": {},
     "output_type": "execute_result"
    }
   ],
   "source": [
    "df.describe()"
   ]
  },
  {
   "cell_type": "markdown",
   "id": "51f7800b-d3c4-470f-bb01-4bc5996ff8ef",
   "metadata": {},
   "source": [
    "We have 4.6M rows of data.  Let us do a cursory analysis of the fields."
   ]
  },
  {
   "cell_type": "code",
   "execution_count": 6,
   "id": "9b7eafe0-2421-4575-94b2-c490ffe6d298",
   "metadata": {},
   "outputs": [
    {
     "name": "stdout",
     "output_type": "stream",
     "text": [
      "Distinct Station IDs: 44321\n",
      "Samples taken at station 1: 713\n",
      "Distinct parameters per sample: 437\n"
     ]
    },
    {
     "data": {
      "text/plain": [
       "array(['Conductance', 'Dissolved Boron', 'Dissolved Calcium',\n",
       "       'Dissolved Chloride', 'Dissolved Magnesium', 'Dissolved Sodium',\n",
       "       'Total Alkalinity', 'Total Hardness', 'pH', 'Dissolved Hardness',\n",
       "       'Dissolved Potassium', 'Dissolved Sulfate',\n",
       "       'Total Dissolved Solids', '*No Lab Analyses (Field Measures Only)',\n",
       "       'Dissolved Nitrate', 'Dissolved Fluoride', 'Total Copper',\n",
       "       'Total Iron', 'Total Manganese', 'Total Zinc', 'Total Arsenic',\n",
       "       'Total Lead', 'Dissolved Silica (SiO2)', 'Total Chromium',\n",
       "       'Total Lithium', 'Total Strontium', 'Total Barium',\n",
       "       'Total Cadmium', 'Total Chromium, hexavalent (Cr6+)',\n",
       "       'Total Mercury', 'Total Selenium', 'Total Silver', 'Color',\n",
       "       'Dissolved Iodide', 'Methylene Blue Active Substances (MBAS)',\n",
       "       'Threshold Odor', 'Turbidity', '5-Day Biochemical Oxygen Demand',\n",
       "       'Dissolved Nitrite', 'Dissolved Phosphorus',\n",
       "       'Dissolved ortho-Phosphate', 'Total Ammonia',\n",
       "       'Total Kjeldahl Nitrogen', 'Total Organic Nitrogen',\n",
       "       'Oil and Grease', 'Dissolved Iron', 'Suspended Solids',\n",
       "       'Volatile Suspended Solids', 'Bromodichloromethane', 'Bromoform',\n",
       "       'Chloroform', 'Dibromochloromethane', 'Dissolved Bromide',\n",
       "       'Dissolved Organic Carbon', 'UV Absorbance @254nm',\n",
       "       'Dissolved Selenium', 'Dissolved Arsenic', 'Dissolved Aluminum',\n",
       "       'Dissolved Ammonia', 'Dissolved Antimony', 'Dissolved Barium',\n",
       "       'Dissolved Beryllium', 'Dissolved Cadmium', 'Dissolved Chromium',\n",
       "       'Dissolved Copper', 'Dissolved Lead', 'Dissolved Manganese',\n",
       "       'Dissolved Mercury', 'Dissolved Nickel',\n",
       "       'Dissolved Nitrate + Nitrite', 'Dissolved Silver',\n",
       "       'Dissolved Zinc', 'Specific Conductance', 'Total Phosphorus',\n",
       "       'Dissolved Molybdenum', 'Total Aluminum', 'Total Antimony',\n",
       "       'Total Beryllium', 'Total Nickel', 'Total Organic Carbon',\n",
       "       'Total Suspended Solids', '1,1,1,2-Tetrachloroethane',\n",
       "       '1,1,1-Trichloroethane', '1,1,2,2-Tetrachloroethane',\n",
       "       '1,1,2-Trichloroethane', '1,1-Dichloroethane',\n",
       "       '1,1-Dichloroethene', '1,1-Dichloropropene',\n",
       "       '1,2,3-Trichlorobenzene', '1,2,3-Trichloropropane',\n",
       "       '1,2,4-Trichlorobenzene', '1,2,4-Trimethylbenzene',\n",
       "       '1,2-Dibromo-3-chloropropane (DBCP)', '1,2-Dibromoethane (EDB)',\n",
       "       '1,2-Dichlorobenzene', '1,2-Dichloroethane', '1,2-Dichloropropane',\n",
       "       '1,3,5-Trimethylbenzene', '1,3-Dichlorobenzene',\n",
       "       '1,3-Dichloropropane', '1,4-Dichlorobenzene',\n",
       "       '2,2-Dichloropropane', '2-Chlorotoluene', '4-Chlorotoluene',\n",
       "       '4-Isopropyltoluene', 'Benzene', 'Bromobenzene',\n",
       "       'Bromochloromethane', 'Bromomethane', 'Carbon tetrachloride',\n",
       "       'Chlorobenzene', 'Chloroethane', 'Chloromethane', 'Dibromomethane',\n",
       "       'Dichlorodifluoromethane', 'Ethyl benzene', 'Hexachlorobutadiene',\n",
       "       'Isopropylbenzene', 'Methyl tert-butyl ether (MTBE)',\n",
       "       'Methylene chloride', 'Naphthalene', 'Styrene',\n",
       "       'Tetrachloroethene', 'Toluene', 'Trichloroethene',\n",
       "       'Trichlorofluoromethane', 'Vinyl chloride',\n",
       "       'cis-1,2-Dichloroethene', 'cis-1,3-Dichloropropene',\n",
       "       'm + p Xylene', 'n-Butylbenzene', 'n-Propylbenzene', 'o-Xylene',\n",
       "       'sec-Butylbenzene', 'tert-Butylbenzene',\n",
       "       'trans-1,2-Dichloroethene', 'trans-1,3-Dichloropropene',\n",
       "       'Total ortho-Phosphate', 'Escherichia coli', '2,4,5-T',\n",
       "       '2,4,5-TP (Silvex)', '2,4-D', '2,4-DB', '3-Hydroxycarbofuran',\n",
       "       'Alachlor', 'Aldicarb', 'Aldicarb sulfone', 'Aldicarb sulfoxide',\n",
       "       'Aldrin', 'Atrazine', 'Azinphos methyl (Guthion)', 'BHC-alpha',\n",
       "       'BHC-beta', 'BHC-delta', 'BHC-gamma (Lindane)', 'Benfluralin',\n",
       "       'Bromacil', 'Captan', 'Carbaryl', 'Carbofuran',\n",
       "       'Carbophenothion (Trithion)', 'Chlordane', 'Chlorothalonil',\n",
       "       'Chlorpropham', 'Chlorpyrifos', 'Cyanazine', 'Dacthal (DCPA)',\n",
       "       'Demeton (Demeton O + Demeton S)', 'Diazinon', 'Dicamba',\n",
       "       'Dichloran', 'Dichlorprop', 'Dicofol', 'Dieldrin', 'Dimethoate',\n",
       "       'Dinoseb (DNPB)', 'Dissolved Chromium, hexavalent (Cr6+)',\n",
       "       'Disulfoton', 'Diuron', 'Endosulfan sulfate', 'Endosulfan-I',\n",
       "       'Endosulfan-II', 'Endrin', 'Endrin aldehyde', 'Ethion',\n",
       "       'Glyphosate', 'Heptachlor', 'Heptachlor epoxide', 'MCPA', 'MCPP',\n",
       "       'Malathion', 'Methidathion', 'Methomyl', 'Methoxychlor',\n",
       "       'Metolachlor', 'Mevinphos', 'Naled', 'Napropamide', 'Norflurazon',\n",
       "       'Oxamyl', 'Oxyfluorfen', 'PCB-1016', 'PCB-1221', 'PCB-1232',\n",
       "       'PCB-1242', 'PCB-1248', 'PCB-1254', 'PCB-1260', 'Parathion, Ethyl',\n",
       "       'Parathion, Methyl', 'Pendimethalin',\n",
       "       'Pentachloronitrobenzene (PCNB)', 'Pentachlorophenol (PCP)',\n",
       "       'Phorate', 'Phosalone', 'Phosmet', 'Picloram', 'Profenofos',\n",
       "       'Prometryn', 'Propetamphos', 'Simazine', 'Thiobencarb',\n",
       "       'Toxaphene', 'Triclopyr', 'Trifluralin', \"p,p'-DDD\", \"p,p'-DDE\",\n",
       "       \"p,p'-DDT\", 's,s,s-Tributyl Phosphorotrithioate (DEF)',\n",
       "       'Ethylene Dibromide', 'm-Xylene', 'p-Xylene',\n",
       "       'Aminomethylphosphonic Acid (AMPA)', 'Formetanate hydrochloride',\n",
       "       'Methiocarb', 'Asbestos, Chrysotile',\n",
       "       'Chlorinated Hydrocarbons (General)', 'DDD (all isomers)',\n",
       "       'DDT (all isomers)', 'Atrazine-Simazine Mix', 'BHC',\n",
       "       'Dissolved Bismuth', 'Dissolved Cobalt', 'Dissolved Gallium',\n",
       "       'Dissolved Germanium', 'Dissolved Vanadium', 'Dissolved Titanium',\n",
       "       'DDE (all isomers)', 'Dissolved Acid Hydrolyzable Phosphorus',\n",
       "       'Phenols', 'Phenol', 'Bromochloroacetic Acid (BCAA)',\n",
       "       'Dibromoacetic Acid (DBAA)', 'Dichloroacetic Acid (DCAA)',\n",
       "       'Monobromoacetic Acid (MBAA)', 'Monochloroacetic Acid (MCAA)',\n",
       "       'Trichloroacetic Acid (TCAA)',\n",
       "       'Organic Phosphorus Pesticides (OPP)', 'Phenoxy Growth Regulators',\n",
       "       'Chlorophyll a', 'Pheophytin a', '4-Bromofluorobenzene',\n",
       "       '1,1,2-Trichlorotrifluoroethane', 'Chloropicrin', 'Chorpropham',\n",
       "       'Ethylbenzene', 'Tetrachloroethylene', 'Tetrachlorofluoromethane',\n",
       "       'Total Xylene, (total)', 'Total Phenols',\n",
       "       '(Aminomethyl)phosphonic acid', '1-Naphthol', 'Acephate',\n",
       "       'Dichloroprop', 'Propargite',\n",
       "       '2,3,7,8-Tetrachlorodibenzo-p-dioxin', 'Acifluorfen', 'Bentazon',\n",
       "       'Benzo(a)pyrene', 'Bis(2-ethylhexyl) adipate',\n",
       "       'Bromochloroacetonitrile', 'Butachlor', 'Dalapon',\n",
       "       'Dibromoacetonitrile', 'Dichloroacetonitrile', 'Diquat',\n",
       "       'Dissolved Thallium', 'Endothal', 'Ethylenethiourea',\n",
       "       'Hexachlorobenzene', 'Hexachlorocyclopentadiene', 'Metribuzin',\n",
       "       'Molinate', \"PCB's\", 'Propachlor', 'Total Asbestos, Chrysotile',\n",
       "       'Total Cyanide', 'Trichloroacetonitrile',\n",
       "       'bis(2-Ethylhexyl) phthalate', '3,5-Dichlorobenzoic Acid',\n",
       "       '4-Nitrophenol', 'Bolstar', 'Coumaphos', 'Demeton-O', 'Demeton-S',\n",
       "       'Dichlorvos', 'Ethoprop', 'Fensulfothion', 'Fenthion', 'Merphos',\n",
       "       'Propoxur', 'Ronnel', 'Tetrachlorvinphos', 'Thionazine (Zinophos)',\n",
       "       'Tokuthion', 'Total Parathion, ethyl & methyl', 'Trichloronate',\n",
       "       'Esfenvalerate', 'Permethrin', \"o,p'-DDE\", 'Chloropropham',\n",
       "       'Dioxathion', 'Total Thallium', 'Propanil', 'Methamidophos',\n",
       "       'Propham', 'Dicrotophos', 'Dissolved Lithium',\n",
       "       'Purgeable Halocarbons', '2,3-Dibromopropionic acid',\n",
       "       'Ash Free Dry Mass', 'Soil Solids', 'Volatile Solids',\n",
       "       'Settleable Solids', 'Dissolved Bicarbonate (HCO3-)',\n",
       "       'Dissolved Carbonate (CO3--)', 'Dissolved Hydroxide (OH-)',\n",
       "       'Dissolved Strontium', 'Dissolved Organic Nitrogen',\n",
       "       'Total Calcium', 'Total Magnesium', 'Filtered Water Turbidity',\n",
       "       'Total Oil and Grease', 'Chemical Oxygen Demand (COD)', 'Cyanide',\n",
       "       'Dissolved Tin', 'Total Boron', 'Total Cobalt', 'Total Molybdenum',\n",
       "       'Total Potassium', 'Total Sodium', 'Total Tin', 'Total Vanadium',\n",
       "       '6-Day Biochemical Oxygen Demand',\n",
       "       'Fibers > 10   ?m Asbestos, Chrysotile',\n",
       "       '7-Day Biochemical Oxygen Demand', 'Tannin and Lignin',\n",
       "       'Dissolved Total Kjeldahl Nitrogen', 'Biochemical Oxygen Demand',\n",
       "       'Carbonaceous Biochemical Oxygen Demand', 'Perthane',\n",
       "       'Endosulfan (mixed isomers)', 'Telodrin', 'Phorate Sulfone',\n",
       "       'Inositol 1,4,5-Trisphosphate', 'Thiodicarb',\n",
       "       'TEPP (Tetraethyl Pyrophosphate)', 'Total Silica (SiO2)',\n",
       "       '4-Day Biochemical Oxygen Demand', 'Total Bismuth',\n",
       "       'Total Gallium', 'Total Germanium', 'Total Titanium',\n",
       "       'Total Sulfides', 'Captafol', 'Dissolved Uranium',\n",
       "       'Tetrachlorophenols', 'Bicarbonate (HCO3-)', 'Metalaxyl',\n",
       "       '2-Chloroallyl diethyldithiocarbamate (CDEC)', \"o,p'-DDD\",\n",
       "       \"o,p'-DDT\", 'Paraoxon', \"4,4'-Dibromoctafluorobiphenyl\",\n",
       "       'Diesel Range Organics (C-10-C-28)', 'Gasoline (C4-C12)',\n",
       "       'Tetradifon (Tedion)', 'Cryptosporidium', 'Giardia lamblia',\n",
       "       'Clostridium perfringens', 'Fecal Coliform', 'Total Coliform',\n",
       "       'Suspended + Volatile Suspended Solids', 'Sulfallate',\n",
       "       '2,3,6-Trichlorobenzoic Acid', 'Acenaphthene', 'Acenaphthylene',\n",
       "       'Anthracene', 'Benz(a)anthracene', 'Benzo(b)fluoranthene',\n",
       "       'Benzo(ghi)perylene', 'Benzo(k)fluoranthene', 'Chrysene',\n",
       "       'Dibenz(a,h)anthracene', 'Fluoranthene', 'Fluorene',\n",
       "       'Indeno(1,2,3-cd)pyrene', 'Phenanthrene', 'Pyrene',\n",
       "       'Xylene, (total)', 'Allethrin', 'Bifenthrin', 'Cyfluthrin',\n",
       "       'Cypermethrin', 'Deltamethrin/Tralomethrin', 'Fenvalerate',\n",
       "       'Prallethrin', 'Sumithrin', 'Tefluthrin', 'l-Cyhalothrin',\n",
       "       'Deltamethrin', 'Tralomethrin',\n",
       "       '100-Day Biochemical Oxygen Demand', 'Bromide',\n",
       "       'Total Total Kjeldahl Nitrogen', 'Dissolved Methylmercury',\n",
       "       'Total Methylmercury',\n",
       "       'Haloacetic Acid Formation Potential (HAAFP)',\n",
       "       'Trihalomethane Formation Potential (THMFP)', 'Pronamide',\n",
       "       'Dichloropropane - dichloropropene (D-D Mixture)', 'Dichlone',\n",
       "       'Butyl benzyl phthalate', 'Di-n-butyl phthalate',\n",
       "       'Di-n-octyl phthalate', 'Diethyl phthalate', 'Dimethyl phthalate'],\n",
       "      dtype=object)"
      ]
     },
     "execution_count": 6,
     "metadata": {},
     "output_type": "execute_result"
    }
   ],
   "source": [
    "print(f\"Distinct Station IDs: {df.station_id.nunique()}\")\n",
    "print(f\"Samples taken at station 1: {df[df.station_id == 1].sample_code.nunique()}\")\n",
    "parameters = df.parameter.unique()\n",
    "print(f\"Distinct parameters per sample: {len(parameters)}\")\n",
    "parameters"
   ]
  },
  {
   "cell_type": "markdown",
   "id": "242ae106-b812-4c31-aeed-2e9c4dfef587",
   "metadata": {},
   "source": [
    "There are 44321 distinct stations.  There will be multiple samples taken at each station (station 1 had 713 samples taken).  Each sample has 437 parameters.  Let us do a closer analysis of the number of samples taken at each station."
   ]
  },
  {
   "cell_type": "code",
   "execution_count": 7,
   "id": "205ee5c8-e93e-444e-821c-d4d8500e514c",
   "metadata": {},
   "outputs": [
    {
     "data": {
      "text/plain": [
       "count    44321.000000\n",
       "mean         7.766679\n",
       "std         36.611368\n",
       "min          1.000000\n",
       "25%          1.000000\n",
       "50%          1.000000\n",
       "75%          4.000000\n",
       "max       1677.000000\n",
       "Name: sample_code, dtype: float64"
      ]
     },
     "execution_count": 7,
     "metadata": {},
     "output_type": "execute_result"
    }
   ],
   "source": [
    "samples_by_station = df.groupby(\"station_id\").sample_code.nunique()\n",
    "samples_by_station.describe()"
   ]
  },
  {
   "cell_type": "markdown",
   "id": "30c8459c-1071-420c-bbb2-18a5d2cda9a7",
   "metadata": {},
   "source": [
    "So there are between 1 and 1677 samples taken for each station with the mean at around 8 samples.  Let us look at a histogram, because this data seems to be quite skewed."
   ]
  },
  {
   "cell_type": "code",
   "execution_count": 8,
   "id": "5f609cc5-d366-4e45-8523-75257181e186",
   "metadata": {},
   "outputs": [
    {
     "data": {
      "image/png": "[encoded data removed]",
      "text/plain": [
       "<Figure size 960x720 with 1 Axes>"
      ]
     },
     "metadata": {},
     "output_type": "display_data"
    }
   ],
   "source": [
    "plot = sns.histplot(x=samples_by_station, bins=30)\n",
    "plot.set(title=\"Samples by Station Histogram\", xlabel=\"Sample Count\");"
   ]
  },
  {
   "cell_type": "code",
   "execution_count": 9,
   "id": "45deba34-07de-4e6b-a9e7-47f3b33ba743",
   "metadata": {},
   "outputs": [
    {
     "data": {
      "image/png": "[encoded data removed]",
      "text/plain": [
       "<Figure size 960x720 with 1 Axes>"
      ]
     },
     "metadata": {},
     "output_type": "display_data"
    }
   ],
   "source": [
    "many_samples_by_station = samples_by_station[samples_by_station > 20]\n",
    "plot = sns.histplot(x=many_samples_by_station, bins=30)\n",
    "plot.set(title=\"> 20 Samples by Station Histogram\", xlabel=\"Sample Count\");"
   ]
  },
  {
   "cell_type": "code",
   "execution_count": 10,
   "id": "730169ea-fd5c-4af4-b696-589784494706",
   "metadata": {},
   "outputs": [
    {
     "data": {
      "image/png": "[encoded data removed]",
      "text/plain": [
       "<Figure size 960x720 with 1 Axes>"
      ]
     },
     "metadata": {},
     "output_type": "display_data"
    }
   ],
   "source": [
    "few_samples_by_station = samples_by_station[samples_by_station <= 20]\n",
    "plot = sns.histplot(x=few_samples_by_station, bins=20)\n",
    "plot.set(title=\"<= 20 Samples by Station Histogram\", xlabel=\"Sample Count\");"
   ]
  },
  {
   "cell_type": "markdown",
   "id": "55bd435f-06b1-4f79-8685-544f175ecdac",
   "metadata": {},
   "source": [
    "We can see that more than 20k of the stations only have a single sample with a very skewed distribution."
   ]
  },
  {
   "cell_type": "code",
   "execution_count": 11,
   "id": "c3681462-e241-4837-b171-2749b647fef4",
   "metadata": {},
   "outputs": [
    {
     "data": {
      "text/plain": [
       "station_id\n",
       "12    1677\n",
       "Name: sample_code, dtype: int64"
      ]
     },
     "execution_count": 11,
     "metadata": {},
     "output_type": "execute_result"
    }
   ],
   "source": [
    "samples_by_station[samples_by_station == 1677]"
   ]
  },
  {
   "cell_type": "markdown",
   "id": "89283327-b2d8-4611-8ac5-f2ab4039ad44",
   "metadata": {},
   "source": [
    "Station 12 had the most samples at 1677."
   ]
  },
  {
   "cell_type": "code",
   "execution_count": 12,
   "id": "f5dde6b5-c86a-4892-8b16-3f059ec8d1bb",
   "metadata": {},
   "outputs": [
    {
     "data": {
      "text/plain": [
       "result\n",
       "< R.L.    832330\n",
       ".1         62443\n",
       "2          52669\n",
       ".01        52441\n",
       "1          52044\n",
       "           ...  \n",
       "1127.8         1\n",
       "6726           1\n",
       "217.2          1\n",
       "6016           1\n",
       "358.77         1\n",
       "Name: count, Length: 17201, dtype: int64"
      ]
     },
     "execution_count": 12,
     "metadata": {},
     "output_type": "execute_result"
    }
   ],
   "source": [
    "df.result.value_counts()"
   ]
  },
  {
   "cell_type": "markdown",
   "id": "81889b3c-a642-4db1-8a07-f6ef80c51973",
   "metadata": {},
   "source": [
    "The `< R.L.` value indicates the measurement was below the reporting limit.  For our purposes, we should be able to safely substitute this with 0.  There are also values like `< MDL, ...` which indicates the measurement was below the method detection limit.  We can also treat this like 0.  There are some with `DNQ=..., NDL=...` which are \"Detected, Not Qualified\".  I don't think these can be parsed so we will treat them as 0.  Some have a value of `=` and I have no clue what those mean.  A few have `ND, <...` which I couldn't find any reference to so I will assume are \"Not Detected\"."
   ]
  },
  {
   "cell_type": "code",
   "execution_count": 13,
   "id": "543fab77-e148-4ef5-85a1-e7da6dfa0ba2",
   "metadata": {},
   "outputs": [],
   "source": [
    "df.result = df.result.apply(lambda value: \\\n",
    "    0 if value == \"< R.L.\" or \\\n",
    "    value == \"<R.L.\" or \\\n",
    "    value == \"=\" or \\\n",
    "    str(value).find(\"ND,\") != -1 or \\\n",
    "    str(value).find(\"< MDL\") != -1 or \\\n",
    "    str(value).find(\"DNQ=\") != -1 \\\n",
    "    else float(value))"
   ]
  },
  {
   "cell_type": "markdown",
   "id": "d9e69a97-0342-43ac-9f75-ea51529da269",
   "metadata": {},
   "source": [
    "Now let us take a look at some odd parameters (duplicate parameters per sample)."
   ]
  },
  {
   "cell_type": "code",
   "execution_count": 14,
   "id": "17cdf219-dfe0-4700-80b4-1dba52cb8d85",
   "metadata": {},
   "outputs": [
    {
     "data": {
      "text/html": [
       "<div>\n",
       "<style scoped>\n",
       "    .dataframe tbody tr th:only-of-type {\n",
       "        vertical-align: middle;\n",
       "    }\n",
       "\n",
       "    .dataframe tbody tr th {\n",
       "        vertical-align: top;\n",
       "    }\n",
       "\n",
       "    .dataframe thead th {\n",
       "        text-align: right;\n",
       "    }\n",
       "</style>\n",
       "<table border=\"1\" class=\"dataframe\">\n",
       "  <thead>\n",
       "    <tr style=\"text-align: right;\">\n",
       "      <th></th>\n",
       "      <th>station_id</th>\n",
       "      <th>station_name</th>\n",
       "      <th>full_station_name</th>\n",
       "      <th>station_number</th>\n",
       "      <th>station_type</th>\n",
       "      <th>latitude</th>\n",
       "      <th>longitude</th>\n",
       "      <th>status</th>\n",
       "      <th>county_name</th>\n",
       "      <th>sample_code</th>\n",
       "      <th>sample_date</th>\n",
       "      <th>sample_depth</th>\n",
       "      <th>sample_depth_units</th>\n",
       "      <th>parameter</th>\n",
       "      <th>result</th>\n",
       "      <th>reporting_limit</th>\n",
       "      <th>units</th>\n",
       "      <th>method_name</th>\n",
       "    </tr>\n",
       "  </thead>\n",
       "  <tbody>\n",
       "    <tr>\n",
       "      <th>1960977</th>\n",
       "      <td>3420</td>\n",
       "      <td>TD CTL3728</td>\n",
       "      <td>TILE DRAIN CTL3728</td>\n",
       "      <td>CTL3728</td>\n",
       "      <td>Other</td>\n",
       "      <td>NaN</td>\n",
       "      <td>NaN</td>\n",
       "      <td>Public, Review Status Unknown</td>\n",
       "      <td>Merced</td>\n",
       "      <td>FSA0505B0042</td>\n",
       "      <td>05/18/2005 10:15</td>\n",
       "      <td>1.0</td>\n",
       "      <td>Feet</td>\n",
       "      <td>Dissolved Boron</td>\n",
       "      <td>5.6</td>\n",
       "      <td>0.5</td>\n",
       "      <td>mg/L</td>\n",
       "      <td>EPA 200.7 (D)</td>\n",
       "    </tr>\n",
       "    <tr>\n",
       "      <th>1960978</th>\n",
       "      <td>3420</td>\n",
       "      <td>TD CTL3728</td>\n",
       "      <td>TILE DRAIN CTL3728</td>\n",
       "      <td>CTL3728</td>\n",
       "      <td>Other</td>\n",
       "      <td>NaN</td>\n",
       "      <td>NaN</td>\n",
       "      <td>Public, Review Status Unknown</td>\n",
       "      <td>Merced</td>\n",
       "      <td>FSA0505B0042</td>\n",
       "      <td>05/18/2005 10:15</td>\n",
       "      <td>1.0</td>\n",
       "      <td>Feet</td>\n",
       "      <td>Dissolved Boron</td>\n",
       "      <td>0.0</td>\n",
       "      <td>1.0</td>\n",
       "      <td>mg/L</td>\n",
       "      <td>EPA 200.7 (D)</td>\n",
       "    </tr>\n",
       "  </tbody>\n",
       "</table>\n",
       "</div>"
      ],
      "text/plain": [
       "         station_id station_name   full_station_name station_number  \\\n",
       "1960977        3420   TD CTL3728  TILE DRAIN CTL3728        CTL3728   \n",
       "1960978        3420   TD CTL3728  TILE DRAIN CTL3728        CTL3728   \n",
       "\n",
       "        station_type  latitude  longitude                         status  \\\n",
       "1960977        Other       NaN        NaN  Public, Review Status Unknown   \n",
       "1960978        Other       NaN        NaN  Public, Review Status Unknown   \n",
       "\n",
       "        county_name   sample_code       sample_date  sample_depth  \\\n",
       "1960977      Merced  FSA0505B0042  05/18/2005 10:15           1.0   \n",
       "1960978      Merced  FSA0505B0042  05/18/2005 10:15           1.0   \n",
       "\n",
       "        sample_depth_units        parameter  result  reporting_limit units  \\\n",
       "1960977               Feet  Dissolved Boron     5.6              0.5  mg/L   \n",
       "1960978               Feet  Dissolved Boron     0.0              1.0  mg/L   \n",
       "\n",
       "           method_name  \n",
       "1960977  EPA 200.7 (D)  \n",
       "1960978  EPA 200.7 (D)  "
      ]
     },
     "execution_count": 14,
     "metadata": {},
     "output_type": "execute_result"
    }
   ],
   "source": [
    "df[(df.sample_code == \"FSA0505B0042\") & (df.parameter == \"Dissolved Boron\")]"
   ]
  },
  {
   "cell_type": "markdown",
   "id": "04cd8451-84e4-4822-a7f6-b14fe4c6803d",
   "metadata": {},
   "source": [
    "We can see that Dissolved Boron is being reported twice for this sample.  Let us just take the max result for any paramter in a given sample."
   ]
  },
  {
   "cell_type": "code",
   "execution_count": 15,
   "id": "d4e37bbc-05c7-448f-8581-229069298415",
   "metadata": {},
   "outputs": [
    {
     "data": {
      "text/plain": [
       "(4537359, 18)"
      ]
     },
     "execution_count": 15,
     "metadata": {},
     "output_type": "execute_result"
    }
   ],
   "source": [
    "df = df[df.groupby([\"sample_code\", \"parameter\"], as_index=False).result.transform(\"max\") == df.result].copy()\n",
    "df.shape"
   ]
  },
  {
   "cell_type": "markdown",
   "id": "eda28482-944a-405e-bf72-5d12f60688d2",
   "metadata": {},
   "source": [
    "Now let us take a look at the latitude and longitude data."
   ]
  },
  {
   "cell_type": "code",
   "execution_count": 16,
   "id": "5b35c4ef-9d98-46e8-bfd0-f846a10a4636",
   "metadata": {},
   "outputs": [
    {
     "name": "stdout",
     "output_type": "stream",
     "text": [
      "Missing latitude: 130890\n",
      "Missing longitude: 130890\n"
     ]
    }
   ],
   "source": [
    "print(f\"Missing latitude: {len(df[df.latitude.isna()])}\")\n",
    "print(f\"Missing longitude: {len(df[df.longitude.isna()])}\")"
   ]
  },
  {
   "cell_type": "markdown",
   "id": "96dd0c45-bc0f-4612-a4fc-0f737596964a",
   "metadata": {},
   "source": [
    "There are 138k rows missing lat/lon data.  We might have to throw this data away, but let us take a closer look first."
   ]
  },
  {
   "cell_type": "code",
   "execution_count": 17,
   "id": "8e7bdf20-154b-4886-99aa-6551cde82d4b",
   "metadata": {},
   "outputs": [
    {
     "data": {
      "text/plain": [
       "station_type\n",
       "Other            119140\n",
       "Surface Water     11672\n",
       "Groundwater          78\n",
       "Name: count, dtype: int64"
      ]
     },
     "execution_count": 17,
     "metadata": {},
     "output_type": "execute_result"
    }
   ],
   "source": [
    "df[df.latitude.isna()].station_type.value_counts()"
   ]
  },
  {
   "cell_type": "markdown",
   "id": "3a426857-44c1-43cb-8b4d-2d057f34780e",
   "metadata": {},
   "source": [
    "Surface and groundwater are probably important to keep.  We should be able to use supplementary information to approximate lat/lon for the given county.  Let us look more closely at the `Other` station types."
   ]
  },
  {
   "cell_type": "code",
   "execution_count": 18,
   "id": "0121a25d-ce2a-4670-b6b9-25969a737740",
   "metadata": {},
   "outputs": [
    {
     "data": {
      "text/html": [
       "<div>\n",
       "<style scoped>\n",
       "    .dataframe tbody tr th:only-of-type {\n",
       "        vertical-align: middle;\n",
       "    }\n",
       "\n",
       "    .dataframe tbody tr th {\n",
       "        vertical-align: top;\n",
       "    }\n",
       "\n",
       "    .dataframe thead th {\n",
       "        text-align: right;\n",
       "    }\n",
       "</style>\n",
       "<table border=\"1\" class=\"dataframe\">\n",
       "  <thead>\n",
       "    <tr style=\"text-align: right;\">\n",
       "      <th></th>\n",
       "      <th>station_id</th>\n",
       "      <th>station_name</th>\n",
       "      <th>full_station_name</th>\n",
       "      <th>station_number</th>\n",
       "      <th>station_type</th>\n",
       "      <th>latitude</th>\n",
       "      <th>longitude</th>\n",
       "      <th>status</th>\n",
       "      <th>county_name</th>\n",
       "      <th>sample_code</th>\n",
       "      <th>sample_date</th>\n",
       "      <th>sample_depth</th>\n",
       "      <th>sample_depth_units</th>\n",
       "      <th>parameter</th>\n",
       "      <th>result</th>\n",
       "      <th>reporting_limit</th>\n",
       "      <th>units</th>\n",
       "      <th>method_name</th>\n",
       "    </tr>\n",
       "  </thead>\n",
       "  <tbody>\n",
       "    <tr>\n",
       "      <th>653460</th>\n",
       "      <td>769</td>\n",
       "      <td>TD BVS6001</td>\n",
       "      <td>T.D. BVS6001</td>\n",
       "      <td>BVS6001</td>\n",
       "      <td>Other</td>\n",
       "      <td>NaN</td>\n",
       "      <td>NaN</td>\n",
       "      <td>Public, Review Status Unknown</td>\n",
       "      <td>Fresno</td>\n",
       "      <td>FSA0103B0001</td>\n",
       "      <td>01/07/2003 11:30</td>\n",
       "      <td>0.3</td>\n",
       "      <td>Meters</td>\n",
       "      <td>Dissolved Arsenic</td>\n",
       "      <td>0.0</td>\n",
       "      <td>0.005</td>\n",
       "      <td>mg/L</td>\n",
       "      <td>EPA 200.8 (D)</td>\n",
       "    </tr>\n",
       "    <tr>\n",
       "      <th>653461</th>\n",
       "      <td>769</td>\n",
       "      <td>TD BVS6001</td>\n",
       "      <td>T.D. BVS6001</td>\n",
       "      <td>BVS6001</td>\n",
       "      <td>Other</td>\n",
       "      <td>NaN</td>\n",
       "      <td>NaN</td>\n",
       "      <td>Public, Review Status Unknown</td>\n",
       "      <td>Fresno</td>\n",
       "      <td>FSA0103B0001</td>\n",
       "      <td>01/07/2003 11:30</td>\n",
       "      <td>0.3</td>\n",
       "      <td>Meters</td>\n",
       "      <td>Dissolved Barium</td>\n",
       "      <td>0.0</td>\n",
       "      <td>0.250</td>\n",
       "      <td>mg/L</td>\n",
       "      <td>EPA 200.8 (D)</td>\n",
       "    </tr>\n",
       "    <tr>\n",
       "      <th>653462</th>\n",
       "      <td>769</td>\n",
       "      <td>TD BVS6001</td>\n",
       "      <td>T.D. BVS6001</td>\n",
       "      <td>BVS6001</td>\n",
       "      <td>Other</td>\n",
       "      <td>NaN</td>\n",
       "      <td>NaN</td>\n",
       "      <td>Public, Review Status Unknown</td>\n",
       "      <td>Fresno</td>\n",
       "      <td>FSA0103B0001</td>\n",
       "      <td>01/07/2003 11:30</td>\n",
       "      <td>0.3</td>\n",
       "      <td>Meters</td>\n",
       "      <td>Dissolved Boron</td>\n",
       "      <td>11.3</td>\n",
       "      <td>1.000</td>\n",
       "      <td>mg/L</td>\n",
       "      <td>EPA 200.7 (D)</td>\n",
       "    </tr>\n",
       "    <tr>\n",
       "      <th>653463</th>\n",
       "      <td>769</td>\n",
       "      <td>TD BVS6001</td>\n",
       "      <td>T.D. BVS6001</td>\n",
       "      <td>BVS6001</td>\n",
       "      <td>Other</td>\n",
       "      <td>NaN</td>\n",
       "      <td>NaN</td>\n",
       "      <td>Public, Review Status Unknown</td>\n",
       "      <td>Fresno</td>\n",
       "      <td>FSA0103B0001</td>\n",
       "      <td>01/07/2003 11:30</td>\n",
       "      <td>0.3</td>\n",
       "      <td>Meters</td>\n",
       "      <td>Dissolved Calcium</td>\n",
       "      <td>461.0</td>\n",
       "      <td>10.000</td>\n",
       "      <td>mg/L</td>\n",
       "      <td>EPA 200.7 (D)</td>\n",
       "    </tr>\n",
       "    <tr>\n",
       "      <th>653464</th>\n",
       "      <td>769</td>\n",
       "      <td>TD BVS6001</td>\n",
       "      <td>T.D. BVS6001</td>\n",
       "      <td>BVS6001</td>\n",
       "      <td>Other</td>\n",
       "      <td>NaN</td>\n",
       "      <td>NaN</td>\n",
       "      <td>Public, Review Status Unknown</td>\n",
       "      <td>Fresno</td>\n",
       "      <td>FSA0103B0001</td>\n",
       "      <td>01/07/2003 11:30</td>\n",
       "      <td>0.3</td>\n",
       "      <td>Meters</td>\n",
       "      <td>Dissolved Chloride</td>\n",
       "      <td>632.0</td>\n",
       "      <td>100.000</td>\n",
       "      <td>mg/L</td>\n",
       "      <td>EPA 300.0 28d Hold</td>\n",
       "    </tr>\n",
       "  </tbody>\n",
       "</table>\n",
       "</div>"
      ],
      "text/plain": [
       "        station_id station_name full_station_name station_number station_type  \\\n",
       "653460         769   TD BVS6001      T.D. BVS6001        BVS6001        Other   \n",
       "653461         769   TD BVS6001      T.D. BVS6001        BVS6001        Other   \n",
       "653462         769   TD BVS6001      T.D. BVS6001        BVS6001        Other   \n",
       "653463         769   TD BVS6001      T.D. BVS6001        BVS6001        Other   \n",
       "653464         769   TD BVS6001      T.D. BVS6001        BVS6001        Other   \n",
       "\n",
       "        latitude  longitude                         status county_name  \\\n",
       "653460       NaN        NaN  Public, Review Status Unknown      Fresno   \n",
       "653461       NaN        NaN  Public, Review Status Unknown      Fresno   \n",
       "653462       NaN        NaN  Public, Review Status Unknown      Fresno   \n",
       "653463       NaN        NaN  Public, Review Status Unknown      Fresno   \n",
       "653464       NaN        NaN  Public, Review Status Unknown      Fresno   \n",
       "\n",
       "         sample_code       sample_date  sample_depth sample_depth_units  \\\n",
       "653460  FSA0103B0001  01/07/2003 11:30           0.3             Meters   \n",
       "653461  FSA0103B0001  01/07/2003 11:30           0.3             Meters   \n",
       "653462  FSA0103B0001  01/07/2003 11:30           0.3             Meters   \n",
       "653463  FSA0103B0001  01/07/2003 11:30           0.3             Meters   \n",
       "653464  FSA0103B0001  01/07/2003 11:30           0.3             Meters   \n",
       "\n",
       "                 parameter  result  reporting_limit units         method_name  \n",
       "653460   Dissolved Arsenic     0.0            0.005  mg/L       EPA 200.8 (D)  \n",
       "653461    Dissolved Barium     0.0            0.250  mg/L       EPA 200.8 (D)  \n",
       "653462     Dissolved Boron    11.3            1.000  mg/L       EPA 200.7 (D)  \n",
       "653463   Dissolved Calcium   461.0           10.000  mg/L       EPA 200.7 (D)  \n",
       "653464  Dissolved Chloride   632.0          100.000  mg/L  EPA 300.0 28d Hold  "
      ]
     },
     "execution_count": 18,
     "metadata": {},
     "output_type": "execute_result"
    }
   ],
   "source": [
    "df[df.latitude.isna() & (df.station_type == \"Other\")].head()"
   ]
  },
  {
   "cell_type": "markdown",
   "id": "98bb0202-bd10-419a-87d4-8757cdd10fea",
   "metadata": {},
   "source": [
    "They appear to be \"Tile Drain\" stations (`TD`).  I don't know why they don't have lat/lon, but we will estimate the county lat/lon."
   ]
  },
  {
   "cell_type": "code",
   "execution_count": 19,
   "id": "8ac9dfcf-bf58-429d-9fce-490f51bd64d8",
   "metadata": {},
   "outputs": [
    {
     "data": {
      "image/png": "[encoded data removed]",
      "text/plain": [
       "<Figure size 960x720 with 1 Axes>"
      ]
     },
     "metadata": {},
     "output_type": "display_data"
    }
   ],
   "source": [
    "plot = sns.histplot(x=df[~df.latitude.isna()].latitude, bins=30)\n",
    "plot.set(title=\"Latitude Historgram\", xlabel=\"Latitude\");"
   ]
  },
  {
   "cell_type": "code",
   "execution_count": 20,
   "id": "278edaf0-a187-48d2-85d7-a5d63764d8de",
   "metadata": {},
   "outputs": [
    {
     "data": {
      "image/png": "[encoded data removed]",
      "text/plain": [
       "<Figure size 960x720 with 1 Axes>"
      ]
     },
     "metadata": {},
     "output_type": "display_data"
    }
   ],
   "source": [
    "plot = sns.histplot(x=df[~df.longitude.isna()].longitude, bins=30)\n",
    "plot.set(title=\"Longitude Historgram\", xlabel=\"Longitude\");"
   ]
  },
  {
   "cell_type": "markdown",
   "id": "d2d0ab6b-e84f-4dd9-874a-1e4b0247b7d4",
   "metadata": {},
   "source": [
    "We appear to have some bad data.  All of the longitudes should be negative.  There are also some records from Kern county where the longitude is the negative latitude instead.  Let us fix the bad data."
   ]
  },
  {
   "cell_type": "code",
   "execution_count": 21,
   "id": "a14d6bea-4418-493e-92b8-65e02d41ae46",
   "metadata": {},
   "outputs": [
    {
     "data": {
      "image/png": "[encoded data removed]",
      "text/plain": [
       "<Figure size 960x720 with 1 Axes>"
      ]
     },
     "metadata": {},
     "output_type": "display_data"
    }
   ],
   "source": [
    "df.longitude = df.longitude.apply(lambda value: -value if value > 0 else (-118.8597 if value > -100 else value))\n",
    "plot = sns.histplot(x=df[~df.longitude.isna()].longitude, bins=30)\n",
    "plot.set(title=\"Longitude Historgram\", xlabel=\"Longitude\");"
   ]
  },
  {
   "cell_type": "markdown",
   "id": "e19ce178-523f-4e0a-b41a-79edd847deef",
   "metadata": {},
   "source": [
    "For the remaining missing data, let us just use the average (mean) value of lat/lon for other samples in the same county."
   ]
  },
  {
   "cell_type": "code",
   "execution_count": 22,
   "id": "1b169131-18cf-482e-8233-e8fee3ac8e0c",
   "metadata": {},
   "outputs": [
    {
     "name": "stdout",
     "output_type": "stream",
     "text": [
      "Missing latitude: 0\n",
      "Missing longitude: 0\n"
     ]
    }
   ],
   "source": [
    "avg_lat_lon_df = df[~df.latitude.isna()].groupby(\"county_name\").agg({ \"latitude\": \"mean\", \"longitude\": \"mean\" })\n",
    "with_avg_df = df.merge(avg_lat_lon_df, how=\"left\", left_on=\"county_name\", right_index=True, suffixes=[\"\", \"_avg\"])\n",
    "df.latitude = with_avg_df.latitude.combine_first(with_avg_df.latitude_avg)\n",
    "df.longitude = with_avg_df.longitude.combine_first(with_avg_df.longitude_avg)\n",
    "print(f\"Missing latitude: {len(df[df.latitude.isna()])}\")\n",
    "print(f\"Missing longitude: {len(df[df.longitude.isna()])}\")"
   ]
  },
  {
   "cell_type": "markdown",
   "id": "1ceea036-f194-4223-b2bf-8e6e281c6541",
   "metadata": {},
   "source": [
    "## WHO Potability Requirements\n",
    "\n",
    "The parameters for the samples do not contain a \"potability\" classification.  We need to figure out a way to generate this classification for labels for our models (a bit of a circular problem).  We will do this by referring to the WHO guidelines for drinking-water quality 4th edition.\n",
    "\n",
    "https://iris.who.int/bitstream/handle/10665/352532/9789240045064-eng.pdf?sequence=1"
   ]
  },
  {
   "cell_type": "code",
   "execution_count": 23,
   "id": "368dbd55-6933-43a6-bb60-75ea730e4495",
   "metadata": {},
   "outputs": [],
   "source": [
    "df[\"potable\"] = df.apply(is_potable, axis=1).astype(\"bool\")"
   ]
  },
  {
   "cell_type": "code",
   "execution_count": 24,
   "id": "5f8dd07a-bfd5-463e-b676-c3b4b70c2e07",
   "metadata": {},
   "outputs": [
    {
     "data": {
      "text/plain": [
       "potable\n",
       "True     4496496\n",
       "False      40863\n",
       "Name: count, dtype: int64"
      ]
     },
     "execution_count": 24,
     "metadata": {},
     "output_type": "execute_result"
    }
   ],
   "source": [
    "df.potable.value_counts()"
   ]
  },
  {
   "cell_type": "markdown",
   "id": "7e65f426-b1b8-4a87-9dae-53faa5e7ad4d",
   "metadata": {},
   "source": [
    "By using our helper function (`is_potable`) we can classify each parameter as within the acceptable range (for the parameters we were able to match to the guidelines).  We can see that only 41,051 parameters were classified as \"not potable\".  This is not a large sample (<1%) and it would be very difficult for an algorithm to \"beat the monkey\" (which would just always guess potable).\n",
    "\n",
    "Let us figure out how many different parameters were ever missed."
   ]
  },
  {
   "cell_type": "code",
   "execution_count": 25,
   "id": "4e02e3d9-f626-418f-b973-5ee5a1539eb5",
   "metadata": {},
   "outputs": [
    {
     "data": {
      "text/plain": [
       "parameter\n",
       "1,2-Dibromo-3-chloropropane (DBCP)       1\n",
       "BHC-gamma (Lindane)                      1\n",
       "Bromodichloromethane                  3467\n",
       "Bromoform                              196\n",
       "Carbon tetrachloride                     1\n",
       "Chlordane                                2\n",
       "Chloroform                            2996\n",
       "Cyanazine                               22\n",
       "DDT (all isomers)                        8\n",
       "Dibromochloromethane                   895\n",
       "Dissolved Antimony                      20\n",
       "Dissolved Arsenic                     2022\n",
       "Dissolved Barium                         1\n",
       "Dissolved Boron                       8765\n",
       "Dissolved Cadmium                      223\n",
       "Dissolved Chromium                     138\n",
       "Dissolved Copper                        94\n",
       "Dissolved Fluoride                    4037\n",
       "Dissolved Lead                         328\n",
       "Dissolved Manganese                   2295\n",
       "Dissolved Mercury                       97\n",
       "Dissolved Nickel                        27\n",
       "Dissolved Nitrate                     8293\n",
       "Dissolved Nitrate + Nitrite             46\n",
       "Dissolved Selenium                    1831\n",
       "Dissolved Uranium                        3\n",
       "Endrin                                   1\n",
       "Molinate                                 1\n",
       "Pentachlorophenol (PCP)                  1\n",
       "Simazine                                 3\n",
       "Total Antimony                          48\n",
       "Total Arsenic                          793\n",
       "Total Barium                            12\n",
       "Total Cadmium                          386\n",
       "Total Chromium                          80\n",
       "Total Copper                            51\n",
       "Total Lead                             478\n",
       "Total Manganese                       3005\n",
       "Total Mercury                          106\n",
       "Total Nickel                            61\n",
       "Total Selenium                          28\n",
       "Name: potable, dtype: int64"
      ]
     },
     "execution_count": 25,
     "metadata": {},
     "output_type": "execute_result"
    }
   ],
   "source": [
    "df[~df.potable].groupby(\"parameter\")[\"potable\"].count()"
   ]
  },
  {
   "cell_type": "markdown",
   "id": "daf197b3-9ec7-4cf9-818c-6c573f729f36",
   "metadata": {},
   "source": [
    "We can see the top 5 features would be Nitrate, Boron, Fluoride, Manganese, Bromodichloromethane.  There are a handful of parameters that are only bad for a single sample, so I am not sure if any algorithm will be able to pick these up without overfitting.\n",
    "\n",
    "Next, let us combine the parameters into samples to see how many samples are potable.  We will assume that if any parameter of a sample was not potable then the entire sample was not potable."
   ]
  },
  {
   "cell_type": "code",
   "execution_count": 26,
   "id": "3eb84f22-7725-46ec-99ac-49e2679bcc30",
   "metadata": {},
   "outputs": [
    {
     "data": {
      "text/plain": [
       "potable\n",
       "True     313671\n",
       "False     29573\n",
       "Name: count, dtype: int64"
      ]
     },
     "execution_count": 26,
     "metadata": {},
     "output_type": "execute_result"
    }
   ],
   "source": [
    "sample_df = df.groupby(\"sample_code\").min(\"potable\")\n",
    "sample_df.potable.value_counts()"
   ]
  },
  {
   "cell_type": "markdown",
   "id": "7771ca3e-47fa-4340-9fc5-bf81dedb85c6",
   "metadata": {},
   "source": [
    "This looks a lot better.  About 10% of the samples are measured as not potable.  Now let us see how many of the stations produced at least one \"not potable\" sample."
   ]
  },
  {
   "cell_type": "code",
   "execution_count": 27,
   "id": "3ba58df4-15d5-41dd-8a39-6cd325a4d030",
   "metadata": {},
   "outputs": [
    {
     "data": {
      "text/plain": [
       "station_id\n",
       "12       243\n",
       "3761     215\n",
       "5051     214\n",
       "5492     213\n",
       "5411     189\n",
       "        ... \n",
       "20966      1\n",
       "25055      1\n",
       "25054      1\n",
       "22727      1\n",
       "5054       1\n",
       "Name: count, Length: 7977, dtype: int64"
      ]
     },
     "execution_count": 27,
     "metadata": {},
     "output_type": "execute_result"
    }
   ],
   "source": [
    "sample_df[~sample_df.potable].station_id.value_counts()"
   ]
  },
  {
   "cell_type": "markdown",
   "id": "1c047e8c-0317-4a87-aa3a-dbe15f476ccf",
   "metadata": {},
   "source": [
    "We can see that station 12 (the one with the most samples) has the most non-potable samples at 243.  There are a total of 7977 stations that produced at least one non-potable sample which is around 18% - which is also good news."
   ]
  },
  {
   "cell_type": "markdown",
   "id": "5a4df9eb-947e-48ba-aeeb-23e9dec5df2f",
   "metadata": {},
   "source": [
    "## Pivot Dataset\n",
    "\n",
    "Let us pivot the dataset so each row is a sample and each parameter is a column with the result as the value.  We will store the min potability as our label.  We will keep a potable_ column per parameter in case we want to try to predict specific parameter potability separately."
   ]
  },
  {
   "cell_type": "code",
   "execution_count": 28,
   "id": "e939e93d-0344-4da3-80b0-955bf684b1cf",
   "metadata": {},
   "outputs": [],
   "source": [
    "group_features = [\"station_id\", \"latitude\", \"longitude\", \"county_name\", \"sample_code\"]\n",
    "pivot_df = df.pivot_table(index=group_features, columns=\"parameter\", values=[\"result\", \"potable\"])\n",
    "pivot_df.columns = [f\"potable_{column_names[1]}\" if column_names[0] == \"potable\" else f\"param_{column_names[1]}\" for column_names in pivot_df.columns.values]\n",
    "for feature in pivot_df.columns[pivot_df.columns.str.contains(\"potable_\")].values:\n",
    "    pivot_df[feature] = pivot_df[feature].astype(\"bool\").fillna(True)\n",
    "for feature in pivot_df.columns[pivot_df.columns.str.contains(\"param_\")].values:\n",
    "    pivot_df[feature] = pivot_df[feature].fillna(0)\n",
    "final_df = pivot_df.reset_index().merge(sample_df[[\"potable\"]], how=\"inner\", left_on=\"sample_code\", right_index=True)"
   ]
  },
  {
   "cell_type": "code",
   "execution_count": 29,
   "id": "de731748-fbf6-4e5e-979b-9885dc48549e",
   "metadata": {},
   "outputs": [
    {
     "data": {
      "text/html": [
       "<div>\n",
       "<style scoped>\n",
       "    .dataframe tbody tr th:only-of-type {\n",
       "        vertical-align: middle;\n",
       "    }\n",
       "\n",
       "    .dataframe tbody tr th {\n",
       "        vertical-align: top;\n",
       "    }\n",
       "\n",
       "    .dataframe thead th {\n",
       "        text-align: right;\n",
       "    }\n",
       "</style>\n",
       "<table border=\"1\" class=\"dataframe\">\n",
       "  <thead>\n",
       "    <tr style=\"text-align: right;\">\n",
       "      <th></th>\n",
       "      <th>station_id</th>\n",
       "      <th>latitude</th>\n",
       "      <th>longitude</th>\n",
       "      <th>county_name</th>\n",
       "      <th>sample_code</th>\n",
       "      <th>potable_(Aminomethyl)phosphonic acid</th>\n",
       "      <th>potable_1,1,1,2-Tetrachloroethane</th>\n",
       "      <th>potable_1,1,1-Trichloroethane</th>\n",
       "      <th>potable_1,1,2,2-Tetrachloroethane</th>\n",
       "      <th>potable_1,1,2-Trichloroethane</th>\n",
       "      <th>...</th>\n",
       "      <th>param_p,p'-DDE</th>\n",
       "      <th>param_p,p'-DDT</th>\n",
       "      <th>param_p-Xylene</th>\n",
       "      <th>param_pH</th>\n",
       "      <th>param_s,s,s-Tributyl Phosphorotrithioate (DEF)</th>\n",
       "      <th>param_sec-Butylbenzene</th>\n",
       "      <th>param_tert-Butylbenzene</th>\n",
       "      <th>param_trans-1,2-Dichloroethene</th>\n",
       "      <th>param_trans-1,3-Dichloropropene</th>\n",
       "      <th>potable</th>\n",
       "    </tr>\n",
       "  </thead>\n",
       "  <tbody>\n",
       "    <tr>\n",
       "      <th>0</th>\n",
       "      <td>1</td>\n",
       "      <td>38.5596</td>\n",
       "      <td>-121.4169</td>\n",
       "      <td>Sacramento</td>\n",
       "      <td>C0114B0005</td>\n",
       "      <td>True</td>\n",
       "      <td>True</td>\n",
       "      <td>True</td>\n",
       "      <td>True</td>\n",
       "      <td>True</td>\n",
       "      <td>...</td>\n",
       "      <td>0.0</td>\n",
       "      <td>0.0</td>\n",
       "      <td>0.0</td>\n",
       "      <td>0.0</td>\n",
       "      <td>0.0</td>\n",
       "      <td>0.0</td>\n",
       "      <td>0.0</td>\n",
       "      <td>0.0</td>\n",
       "      <td>0.0</td>\n",
       "      <td>True</td>\n",
       "    </tr>\n",
       "    <tr>\n",
       "      <th>1</th>\n",
       "      <td>1</td>\n",
       "      <td>38.5596</td>\n",
       "      <td>-121.4169</td>\n",
       "      <td>Sacramento</td>\n",
       "      <td>C0115B0005</td>\n",
       "      <td>True</td>\n",
       "      <td>True</td>\n",
       "      <td>True</td>\n",
       "      <td>True</td>\n",
       "      <td>True</td>\n",
       "      <td>...</td>\n",
       "      <td>0.0</td>\n",
       "      <td>0.0</td>\n",
       "      <td>0.0</td>\n",
       "      <td>0.0</td>\n",
       "      <td>0.0</td>\n",
       "      <td>0.0</td>\n",
       "      <td>0.0</td>\n",
       "      <td>0.0</td>\n",
       "      <td>0.0</td>\n",
       "      <td>True</td>\n",
       "    </tr>\n",
       "    <tr>\n",
       "      <th>2</th>\n",
       "      <td>1</td>\n",
       "      <td>38.5596</td>\n",
       "      <td>-121.4169</td>\n",
       "      <td>Sacramento</td>\n",
       "      <td>C0116B0005</td>\n",
       "      <td>True</td>\n",
       "      <td>True</td>\n",
       "      <td>True</td>\n",
       "      <td>True</td>\n",
       "      <td>True</td>\n",
       "      <td>...</td>\n",
       "      <td>0.0</td>\n",
       "      <td>0.0</td>\n",
       "      <td>0.0</td>\n",
       "      <td>0.0</td>\n",
       "      <td>0.0</td>\n",
       "      <td>0.0</td>\n",
       "      <td>0.0</td>\n",
       "      <td>0.0</td>\n",
       "      <td>0.0</td>\n",
       "      <td>True</td>\n",
       "    </tr>\n",
       "    <tr>\n",
       "      <th>3</th>\n",
       "      <td>1</td>\n",
       "      <td>38.5596</td>\n",
       "      <td>-121.4169</td>\n",
       "      <td>Sacramento</td>\n",
       "      <td>C0117B0081</td>\n",
       "      <td>True</td>\n",
       "      <td>True</td>\n",
       "      <td>True</td>\n",
       "      <td>True</td>\n",
       "      <td>True</td>\n",
       "      <td>...</td>\n",
       "      <td>0.0</td>\n",
       "      <td>0.0</td>\n",
       "      <td>0.0</td>\n",
       "      <td>0.0</td>\n",
       "      <td>0.0</td>\n",
       "      <td>0.0</td>\n",
       "      <td>0.0</td>\n",
       "      <td>0.0</td>\n",
       "      <td>0.0</td>\n",
       "      <td>True</td>\n",
       "    </tr>\n",
       "    <tr>\n",
       "      <th>4</th>\n",
       "      <td>1</td>\n",
       "      <td>38.5596</td>\n",
       "      <td>-121.4169</td>\n",
       "      <td>Sacramento</td>\n",
       "      <td>C0118B0005</td>\n",
       "      <td>True</td>\n",
       "      <td>True</td>\n",
       "      <td>True</td>\n",
       "      <td>True</td>\n",
       "      <td>True</td>\n",
       "      <td>...</td>\n",
       "      <td>0.0</td>\n",
       "      <td>0.0</td>\n",
       "      <td>0.0</td>\n",
       "      <td>0.0</td>\n",
       "      <td>0.0</td>\n",
       "      <td>0.0</td>\n",
       "      <td>0.0</td>\n",
       "      <td>0.0</td>\n",
       "      <td>0.0</td>\n",
       "      <td>True</td>\n",
       "    </tr>\n",
       "  </tbody>\n",
       "</table>\n",
       "<p>5 rows × 874 columns</p>\n",
       "</div>"
      ],
      "text/plain": [
       "   station_id  latitude  longitude county_name sample_code  \\\n",
       "0           1   38.5596  -121.4169  Sacramento  C0114B0005   \n",
       "1           1   38.5596  -121.4169  Sacramento  C0115B0005   \n",
       "2           1   38.5596  -121.4169  Sacramento  C0116B0005   \n",
       "3           1   38.5596  -121.4169  Sacramento  C0117B0081   \n",
       "4           1   38.5596  -121.4169  Sacramento  C0118B0005   \n",
       "\n",
       "   potable_(Aminomethyl)phosphonic acid  potable_1,1,1,2-Tetrachloroethane  \\\n",
       "0                                  True                               True   \n",
       "1                                  True                               True   \n",
       "2                                  True                               True   \n",
       "3                                  True                               True   \n",
       "4                                  True                               True   \n",
       "\n",
       "   potable_1,1,1-Trichloroethane  potable_1,1,2,2-Tetrachloroethane  \\\n",
       "0                           True                               True   \n",
       "1                           True                               True   \n",
       "2                           True                               True   \n",
       "3                           True                               True   \n",
       "4                           True                               True   \n",
       "\n",
       "   potable_1,1,2-Trichloroethane  ...  param_p,p'-DDE  param_p,p'-DDT  \\\n",
       "0                           True  ...             0.0             0.0   \n",
       "1                           True  ...             0.0             0.0   \n",
       "2                           True  ...             0.0             0.0   \n",
       "3                           True  ...             0.0             0.0   \n",
       "4                           True  ...             0.0             0.0   \n",
       "\n",
       "   param_p-Xylene  param_pH  param_s,s,s-Tributyl Phosphorotrithioate (DEF)  \\\n",
       "0             0.0       0.0                                             0.0   \n",
       "1             0.0       0.0                                             0.0   \n",
       "2             0.0       0.0                                             0.0   \n",
       "3             0.0       0.0                                             0.0   \n",
       "4             0.0       0.0                                             0.0   \n",
       "\n",
       "   param_sec-Butylbenzene  param_tert-Butylbenzene  \\\n",
       "0                     0.0                      0.0   \n",
       "1                     0.0                      0.0   \n",
       "2                     0.0                      0.0   \n",
       "3                     0.0                      0.0   \n",
       "4                     0.0                      0.0   \n",
       "\n",
       "   param_trans-1,2-Dichloroethene  param_trans-1,3-Dichloropropene  potable  \n",
       "0                             0.0                              0.0     True  \n",
       "1                             0.0                              0.0     True  \n",
       "2                             0.0                              0.0     True  \n",
       "3                             0.0                              0.0     True  \n",
       "4                             0.0                              0.0     True  \n",
       "\n",
       "[5 rows x 874 columns]"
      ]
     },
     "execution_count": 29,
     "metadata": {},
     "output_type": "execute_result"
    }
   ],
   "source": [
    "final_df.head()"
   ]
  },
  {
   "cell_type": "code",
   "execution_count": 30,
   "id": "552c957c-dfe1-4c49-9c74-160e607aa1ec",
   "metadata": {},
   "outputs": [
    {
     "data": {
      "text/plain": [
       "potable\n",
       "True     313671\n",
       "False     29573\n",
       "Name: count, dtype: int64"
      ]
     },
     "execution_count": 30,
     "metadata": {},
     "output_type": "execute_result"
    }
   ],
   "source": [
    "final_df.potable.value_counts()"
   ]
  },
  {
   "cell_type": "code",
   "execution_count": 31,
   "id": "d4d1610b-46b4-45cb-8ab6-8c02474665ff",
   "metadata": {},
   "outputs": [
    {
     "data": {
      "text/plain": [
       "44279"
      ]
     },
     "execution_count": 31,
     "metadata": {},
     "output_type": "execute_result"
    }
   ],
   "source": [
    "final_df.station_id.nunique()"
   ]
  },
  {
   "cell_type": "code",
   "execution_count": 32,
   "id": "5412777a-f51f-4bcd-bca1-a4df7eb7cc83",
   "metadata": {},
   "outputs": [
    {
     "data": {
      "text/plain": [
       "potable_Dissolved Boron\n",
       "True     334480\n",
       "False      8764\n",
       "Name: count, dtype: int64"
      ]
     },
     "execution_count": 32,
     "metadata": {},
     "output_type": "execute_result"
    }
   ],
   "source": [
    "final_df[\"potable_Dissolved Boron\"].value_counts()"
   ]
  },
  {
   "cell_type": "code",
   "execution_count": 33,
   "id": "0d96ed14-656b-4c5b-a92a-e4bbf78471ff",
   "metadata": {},
   "outputs": [],
   "source": [
    "final_df.to_feather(\"potability.feather\")"
   ]
  },
  {
   "cell_type": "code",
   "execution_count": null,
   "id": "6b0efc62-5f00-4bd5-94ef-9fc07adcb6f2",
   "metadata": {},
   "outputs": [],
   "source": []
  }
 ],
 "metadata": {
  "kernelspec": {
   "display_name": "Python 3 (ipykernel)",
   "language": "python",
   "name": "python3"
  },
  "language_info": {
   "codemirror_mode": {
    "name": "ipython",
    "version": 3
   },
   "file_extension": ".py",
   "mimetype": "text/x-python",
   "name": "python",
   "nbconvert_exporter": "python",
   "pygments_lexer": "ipython3",
   "version": "3.11.3"
  }
 },
 "nbformat": 4,
 "nbformat_minor": 5
}
