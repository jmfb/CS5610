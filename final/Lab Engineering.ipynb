{
 "cells": [
  {
   "cell_type": "markdown",
   "id": "3a4e0d2c-0a9f-414d-a865-8f8320893544",
   "metadata": {},
   "source": [
    "# CSC5610 Final - Water Potability Analysis\n",
    "\n",
    "Authors: **Jacob Buysse**, **Andrew Cook**, **Josh Grant**\n",
    "\n",
    "## Part 6 - Feature Engineering\n",
    "\n",
    "For this we will be using the following libraries..."
   ]
  },
  {
   "cell_type": "code",
   "execution_count": 11,
   "id": "0afada7c-562e-4329-aa80-9e7355fac6fe",
   "metadata": {},
   "outputs": [],
   "source": [
    "import pandas as pd\n",
    "import scipy.sparse as sp\n",
    "from sklearn.model_selection import train_test_split\n",
    "from sklearn.preprocessing import OneHotEncoder, StandardScaler\n",
    "from sklearn.linear_model import LogisticRegression\n",
    "from sklearn.tree import DecisionTreeClassifier\n",
    "from sklearn.ensemble import RandomForestClassifier\n",
    "from sklearn.metrics import accuracy_score, confusion_matrix, classification_report"
   ]
  },
  {
   "cell_type": "markdown",
   "id": "4cfa073c-90ad-4388-a817-5755ec29a358",
   "metadata": {},
   "source": [
    "Let us define a helper function for scoring models."
   ]
  },
  {
   "cell_type": "code",
   "execution_count": 19,
   "id": "d1688f97-6b20-434e-bdb1-418ac06ec1fb",
   "metadata": {},
   "outputs": [],
   "source": [
    "def score_model(test_y, pred_y):\n",
    "    tn, fp, fn, tp = confusion_matrix(test_y, pred_y).ravel()\n",
    "    print(f\"True Positive {tp} (Correctly classified potable)\")\n",
    "    print(f\"True Negative: {tn} (Correctly classified non-potable)\")\n",
    "    print(f\"False Positive {fp} (Incorrectly classified non-potable as potable - Bad)\")\n",
    "    print(f\"False Negative {fn} (Incorrectly classified potable as non-potable - Meh)\")\n",
    "    print(classification_report(test_y, pred_y, digits=5))"
   ]
  },
  {
   "cell_type": "markdown",
   "id": "40ada454-e161-4fc3-8cac-6de4e1b544d0",
   "metadata": {},
   "source": [
    "Let us load our potability data."
   ]
  },
  {
   "cell_type": "code",
   "execution_count": 4,
   "id": "0d670665-5120-413f-bfe6-8b8553e16183",
   "metadata": {},
   "outputs": [
    {
     "data": {
      "text/html": [
       "<div>\n",
       "<style scoped>\n",
       "    .dataframe tbody tr th:only-of-type {\n",
       "        vertical-align: middle;\n",
       "    }\n",
       "\n",
       "    .dataframe tbody tr th {\n",
       "        vertical-align: top;\n",
       "    }\n",
       "\n",
       "    .dataframe thead th {\n",
       "        text-align: right;\n",
       "    }\n",
       "</style>\n",
       "<table border=\"1\" class=\"dataframe\">\n",
       "  <thead>\n",
       "    <tr style=\"text-align: right;\">\n",
       "      <th></th>\n",
       "      <th>station_id</th>\n",
       "      <th>latitude</th>\n",
       "      <th>longitude</th>\n",
       "      <th>county_name</th>\n",
       "      <th>sample_code</th>\n",
       "      <th>potable_(Aminomethyl)phosphonic acid</th>\n",
       "      <th>potable_1,1,1,2-Tetrachloroethane</th>\n",
       "      <th>potable_1,1,1-Trichloroethane</th>\n",
       "      <th>potable_1,1,2,2-Tetrachloroethane</th>\n",
       "      <th>potable_1,1,2-Trichloroethane</th>\n",
       "      <th>...</th>\n",
       "      <th>param_p,p'-DDE</th>\n",
       "      <th>param_p,p'-DDT</th>\n",
       "      <th>param_p-Xylene</th>\n",
       "      <th>param_pH</th>\n",
       "      <th>param_s,s,s-Tributyl Phosphorotrithioate (DEF)</th>\n",
       "      <th>param_sec-Butylbenzene</th>\n",
       "      <th>param_tert-Butylbenzene</th>\n",
       "      <th>param_trans-1,2-Dichloroethene</th>\n",
       "      <th>param_trans-1,3-Dichloropropene</th>\n",
       "      <th>potable</th>\n",
       "    </tr>\n",
       "  </thead>\n",
       "  <tbody>\n",
       "    <tr>\n",
       "      <th>0</th>\n",
       "      <td>1</td>\n",
       "      <td>38.5596</td>\n",
       "      <td>-121.4169</td>\n",
       "      <td>Sacramento</td>\n",
       "      <td>C0114B0005</td>\n",
       "      <td>True</td>\n",
       "      <td>True</td>\n",
       "      <td>True</td>\n",
       "      <td>True</td>\n",
       "      <td>True</td>\n",
       "      <td>...</td>\n",
       "      <td>0.0</td>\n",
       "      <td>0.0</td>\n",
       "      <td>0.0</td>\n",
       "      <td>0.0</td>\n",
       "      <td>0.0</td>\n",
       "      <td>0.0</td>\n",
       "      <td>0.0</td>\n",
       "      <td>0.0</td>\n",
       "      <td>0.0</td>\n",
       "      <td>True</td>\n",
       "    </tr>\n",
       "    <tr>\n",
       "      <th>1</th>\n",
       "      <td>1</td>\n",
       "      <td>38.5596</td>\n",
       "      <td>-121.4169</td>\n",
       "      <td>Sacramento</td>\n",
       "      <td>C0115B0005</td>\n",
       "      <td>True</td>\n",
       "      <td>True</td>\n",
       "      <td>True</td>\n",
       "      <td>True</td>\n",
       "      <td>True</td>\n",
       "      <td>...</td>\n",
       "      <td>0.0</td>\n",
       "      <td>0.0</td>\n",
       "      <td>0.0</td>\n",
       "      <td>0.0</td>\n",
       "      <td>0.0</td>\n",
       "      <td>0.0</td>\n",
       "      <td>0.0</td>\n",
       "      <td>0.0</td>\n",
       "      <td>0.0</td>\n",
       "      <td>True</td>\n",
       "    </tr>\n",
       "    <tr>\n",
       "      <th>2</th>\n",
       "      <td>1</td>\n",
       "      <td>38.5596</td>\n",
       "      <td>-121.4169</td>\n",
       "      <td>Sacramento</td>\n",
       "      <td>C0116B0005</td>\n",
       "      <td>True</td>\n",
       "      <td>True</td>\n",
       "      <td>True</td>\n",
       "      <td>True</td>\n",
       "      <td>True</td>\n",
       "      <td>...</td>\n",
       "      <td>0.0</td>\n",
       "      <td>0.0</td>\n",
       "      <td>0.0</td>\n",
       "      <td>0.0</td>\n",
       "      <td>0.0</td>\n",
       "      <td>0.0</td>\n",
       "      <td>0.0</td>\n",
       "      <td>0.0</td>\n",
       "      <td>0.0</td>\n",
       "      <td>True</td>\n",
       "    </tr>\n",
       "    <tr>\n",
       "      <th>3</th>\n",
       "      <td>1</td>\n",
       "      <td>38.5596</td>\n",
       "      <td>-121.4169</td>\n",
       "      <td>Sacramento</td>\n",
       "      <td>C0117B0081</td>\n",
       "      <td>True</td>\n",
       "      <td>True</td>\n",
       "      <td>True</td>\n",
       "      <td>True</td>\n",
       "      <td>True</td>\n",
       "      <td>...</td>\n",
       "      <td>0.0</td>\n",
       "      <td>0.0</td>\n",
       "      <td>0.0</td>\n",
       "      <td>0.0</td>\n",
       "      <td>0.0</td>\n",
       "      <td>0.0</td>\n",
       "      <td>0.0</td>\n",
       "      <td>0.0</td>\n",
       "      <td>0.0</td>\n",
       "      <td>True</td>\n",
       "    </tr>\n",
       "    <tr>\n",
       "      <th>4</th>\n",
       "      <td>1</td>\n",
       "      <td>38.5596</td>\n",
       "      <td>-121.4169</td>\n",
       "      <td>Sacramento</td>\n",
       "      <td>C0118B0005</td>\n",
       "      <td>True</td>\n",
       "      <td>True</td>\n",
       "      <td>True</td>\n",
       "      <td>True</td>\n",
       "      <td>True</td>\n",
       "      <td>...</td>\n",
       "      <td>0.0</td>\n",
       "      <td>0.0</td>\n",
       "      <td>0.0</td>\n",
       "      <td>0.0</td>\n",
       "      <td>0.0</td>\n",
       "      <td>0.0</td>\n",
       "      <td>0.0</td>\n",
       "      <td>0.0</td>\n",
       "      <td>0.0</td>\n",
       "      <td>True</td>\n",
       "    </tr>\n",
       "  </tbody>\n",
       "</table>\n",
       "<p>5 rows × 874 columns</p>\n",
       "</div>"
      ],
      "text/plain": [
       "   station_id  latitude  longitude county_name sample_code  \\\n",
       "0           1   38.5596  -121.4169  Sacramento  C0114B0005   \n",
       "1           1   38.5596  -121.4169  Sacramento  C0115B0005   \n",
       "2           1   38.5596  -121.4169  Sacramento  C0116B0005   \n",
       "3           1   38.5596  -121.4169  Sacramento  C0117B0081   \n",
       "4           1   38.5596  -121.4169  Sacramento  C0118B0005   \n",
       "\n",
       "   potable_(Aminomethyl)phosphonic acid  potable_1,1,1,2-Tetrachloroethane  \\\n",
       "0                                  True                               True   \n",
       "1                                  True                               True   \n",
       "2                                  True                               True   \n",
       "3                                  True                               True   \n",
       "4                                  True                               True   \n",
       "\n",
       "   potable_1,1,1-Trichloroethane  potable_1,1,2,2-Tetrachloroethane  \\\n",
       "0                           True                               True   \n",
       "1                           True                               True   \n",
       "2                           True                               True   \n",
       "3                           True                               True   \n",
       "4                           True                               True   \n",
       "\n",
       "   potable_1,1,2-Trichloroethane  ...  param_p,p'-DDE  param_p,p'-DDT  \\\n",
       "0                           True  ...             0.0             0.0   \n",
       "1                           True  ...             0.0             0.0   \n",
       "2                           True  ...             0.0             0.0   \n",
       "3                           True  ...             0.0             0.0   \n",
       "4                           True  ...             0.0             0.0   \n",
       "\n",
       "   param_p-Xylene  param_pH  param_s,s,s-Tributyl Phosphorotrithioate (DEF)  \\\n",
       "0             0.0       0.0                                             0.0   \n",
       "1             0.0       0.0                                             0.0   \n",
       "2             0.0       0.0                                             0.0   \n",
       "3             0.0       0.0                                             0.0   \n",
       "4             0.0       0.0                                             0.0   \n",
       "\n",
       "   param_sec-Butylbenzene  param_tert-Butylbenzene  \\\n",
       "0                     0.0                      0.0   \n",
       "1                     0.0                      0.0   \n",
       "2                     0.0                      0.0   \n",
       "3                     0.0                      0.0   \n",
       "4                     0.0                      0.0   \n",
       "\n",
       "   param_trans-1,2-Dichloroethene  param_trans-1,3-Dichloropropene  potable  \n",
       "0                             0.0                              0.0     True  \n",
       "1                             0.0                              0.0     True  \n",
       "2                             0.0                              0.0     True  \n",
       "3                             0.0                              0.0     True  \n",
       "4                             0.0                              0.0     True  \n",
       "\n",
       "[5 rows x 874 columns]"
      ]
     },
     "execution_count": 4,
     "metadata": {},
     "output_type": "execute_result"
    }
   ],
   "source": [
    "pdf = pd.read_feather(\"./potability.feather\")\n",
    "pdf.head()"
   ]
  },
  {
   "cell_type": "markdown",
   "id": "020a2bfb-0a8a-423a-a71b-00421ab56c0b",
   "metadata": {},
   "source": [
    "Let us load our county data."
   ]
  },
  {
   "cell_type": "code",
   "execution_count": 5,
   "id": "b6db18e9-aa35-4e33-8efc-1bf4005254e4",
   "metadata": {},
   "outputs": [
    {
     "data": {
      "text/html": [
       "<div>\n",
       "<style scoped>\n",
       "    .dataframe tbody tr th:only-of-type {\n",
       "        vertical-align: middle;\n",
       "    }\n",
       "\n",
       "    .dataframe tbody tr th {\n",
       "        vertical-align: top;\n",
       "    }\n",
       "\n",
       "    .dataframe thead th {\n",
       "        text-align: right;\n",
       "    }\n",
       "</style>\n",
       "<table border=\"1\" class=\"dataframe\">\n",
       "  <thead>\n",
       "    <tr style=\"text-align: right;\">\n",
       "      <th></th>\n",
       "      <th>CountyName</th>\n",
       "      <th>AdminRegion</th>\n",
       "      <th>FireMAR</th>\n",
       "      <th>LawMAR</th>\n",
       "      <th>Shape__Area</th>\n",
       "      <th>Shape__Length</th>\n",
       "      <th>emp</th>\n",
       "      <th>qp1</th>\n",
       "      <th>ap</th>\n",
       "      <th>est</th>\n",
       "      <th>...</th>\n",
       "      <th>n50_99</th>\n",
       "      <th>n100_249</th>\n",
       "      <th>n250_499</th>\n",
       "      <th>n500_999</th>\n",
       "      <th>n1000</th>\n",
       "      <th>n1000_1</th>\n",
       "      <th>n1000_2</th>\n",
       "      <th>n1000_3</th>\n",
       "      <th>n1000_4</th>\n",
       "      <th>Population</th>\n",
       "    </tr>\n",
       "  </thead>\n",
       "  <tbody>\n",
       "    <tr>\n",
       "      <th>0</th>\n",
       "      <td>Alameda</td>\n",
       "      <td>Coastal</td>\n",
       "      <td>2</td>\n",
       "      <td>2</td>\n",
       "      <td>3.082165e+09</td>\n",
       "      <td>432059.180712</td>\n",
       "      <td>19808892</td>\n",
       "      <td>334583251</td>\n",
       "      <td>1276862745</td>\n",
       "      <td>1197073</td>\n",
       "      <td>...</td>\n",
       "      <td>32312.0</td>\n",
       "      <td>17613.0</td>\n",
       "      <td>3388.0</td>\n",
       "      <td>808.0</td>\n",
       "      <td>644.0</td>\n",
       "      <td>94.0</td>\n",
       "      <td>135.0</td>\n",
       "      <td>67.0</td>\n",
       "      <td>11.0</td>\n",
       "      <td>1628997</td>\n",
       "    </tr>\n",
       "    <tr>\n",
       "      <th>1</th>\n",
       "      <td>Alpine</td>\n",
       "      <td>Inland</td>\n",
       "      <td>4</td>\n",
       "      <td>4</td>\n",
       "      <td>3.145871e+09</td>\n",
       "      <td>274621.121060</td>\n",
       "      <td>25372729</td>\n",
       "      <td>358615051</td>\n",
       "      <td>1326420707</td>\n",
       "      <td>1473927</td>\n",
       "      <td>...</td>\n",
       "      <td>42557.0</td>\n",
       "      <td>23000.0</td>\n",
       "      <td>4396.0</td>\n",
       "      <td>1317.0</td>\n",
       "      <td>1079.0</td>\n",
       "      <td>289.0</td>\n",
       "      <td>280.0</td>\n",
       "      <td>166.0</td>\n",
       "      <td>59.0</td>\n",
       "      <td>1190</td>\n",
       "    </tr>\n",
       "    <tr>\n",
       "      <th>2</th>\n",
       "      <td>Amador</td>\n",
       "      <td>Inland</td>\n",
       "      <td>4</td>\n",
       "      <td>4</td>\n",
       "      <td>2.559998e+09</td>\n",
       "      <td>357482.565247</td>\n",
       "      <td>14140321</td>\n",
       "      <td>185837886</td>\n",
       "      <td>727112583</td>\n",
       "      <td>961824</td>\n",
       "      <td>...</td>\n",
       "      <td>21549.0</td>\n",
       "      <td>11581.0</td>\n",
       "      <td>2214.0</td>\n",
       "      <td>563.0</td>\n",
       "      <td>309.0</td>\n",
       "      <td>83.0</td>\n",
       "      <td>56.0</td>\n",
       "      <td>10.0</td>\n",
       "      <td>0.0</td>\n",
       "      <td>41412</td>\n",
       "    </tr>\n",
       "    <tr>\n",
       "      <th>3</th>\n",
       "      <td>Butte</td>\n",
       "      <td>Inland</td>\n",
       "      <td>3</td>\n",
       "      <td>3</td>\n",
       "      <td>7.338660e+09</td>\n",
       "      <td>526729.272631</td>\n",
       "      <td>7085896</td>\n",
       "      <td>94172636</td>\n",
       "      <td>348842612</td>\n",
       "      <td>477062</td>\n",
       "      <td>...</td>\n",
       "      <td>10146.0</td>\n",
       "      <td>5091.0</td>\n",
       "      <td>858.0</td>\n",
       "      <td>234.0</td>\n",
       "      <td>174.0</td>\n",
       "      <td>48.0</td>\n",
       "      <td>28.0</td>\n",
       "      <td>0.0</td>\n",
       "      <td>0.0</td>\n",
       "      <td>207303</td>\n",
       "    </tr>\n",
       "    <tr>\n",
       "      <th>4</th>\n",
       "      <td>Calaveras</td>\n",
       "      <td>Inland</td>\n",
       "      <td>4</td>\n",
       "      <td>4</td>\n",
       "      <td>4.352160e+09</td>\n",
       "      <td>371781.055548</td>\n",
       "      <td>8547832</td>\n",
       "      <td>105647215</td>\n",
       "      <td>421612466</td>\n",
       "      <td>591560</td>\n",
       "      <td>...</td>\n",
       "      <td>12189.0</td>\n",
       "      <td>6625.0</td>\n",
       "      <td>952.0</td>\n",
       "      <td>283.0</td>\n",
       "      <td>201.0</td>\n",
       "      <td>59.0</td>\n",
       "      <td>34.0</td>\n",
       "      <td>4.0</td>\n",
       "      <td>0.0</td>\n",
       "      <td>46563</td>\n",
       "    </tr>\n",
       "  </tbody>\n",
       "</table>\n",
       "<p>5 rows × 24 columns</p>\n",
       "</div>"
      ],
      "text/plain": [
       "  CountyName AdminRegion FireMAR LawMAR   Shape__Area  Shape__Length  \\\n",
       "0    Alameda     Coastal       2      2  3.082165e+09  432059.180712   \n",
       "1     Alpine      Inland       4      4  3.145871e+09  274621.121060   \n",
       "2     Amador      Inland       4      4  2.559998e+09  357482.565247   \n",
       "3      Butte      Inland       3      3  7.338660e+09  526729.272631   \n",
       "4  Calaveras      Inland       4      4  4.352160e+09  371781.055548   \n",
       "\n",
       "        emp        qp1          ap      est  ...   n50_99  n100_249  n250_499  \\\n",
       "0  19808892  334583251  1276862745  1197073  ...  32312.0   17613.0    3388.0   \n",
       "1  25372729  358615051  1326420707  1473927  ...  42557.0   23000.0    4396.0   \n",
       "2  14140321  185837886   727112583   961824  ...  21549.0   11581.0    2214.0   \n",
       "3   7085896   94172636   348842612   477062  ...  10146.0    5091.0     858.0   \n",
       "4   8547832  105647215   421612466   591560  ...  12189.0    6625.0     952.0   \n",
       "\n",
       "   n500_999   n1000  n1000_1  n1000_2  n1000_3  n1000_4  Population  \n",
       "0     808.0   644.0     94.0    135.0     67.0     11.0     1628997  \n",
       "1    1317.0  1079.0    289.0    280.0    166.0     59.0        1190  \n",
       "2     563.0   309.0     83.0     56.0     10.0      0.0       41412  \n",
       "3     234.0   174.0     48.0     28.0      0.0      0.0      207303  \n",
       "4     283.0   201.0     59.0     34.0      4.0      0.0       46563  \n",
       "\n",
       "[5 rows x 24 columns]"
      ]
     },
     "execution_count": 5,
     "metadata": {},
     "output_type": "execute_result"
    }
   ],
   "source": [
    "cdf = pd.read_feather(\"./counties.feather\")\n",
    "cdf.head()"
   ]
  },
  {
   "cell_type": "markdown",
   "id": "a6434d0e-efba-4dbd-8637-d107bf9e844e",
   "metadata": {},
   "source": [
    "Now let us merge the two."
   ]
  },
  {
   "cell_type": "code",
   "execution_count": 33,
   "id": "a76a7214-9b45-4216-9b84-e2adae0d5d0c",
   "metadata": {},
   "outputs": [
    {
     "data": {
      "text/html": [
       "<div>\n",
       "<style scoped>\n",
       "    .dataframe tbody tr th:only-of-type {\n",
       "        vertical-align: middle;\n",
       "    }\n",
       "\n",
       "    .dataframe tbody tr th {\n",
       "        vertical-align: top;\n",
       "    }\n",
       "\n",
       "    .dataframe thead th {\n",
       "        text-align: right;\n",
       "    }\n",
       "</style>\n",
       "<table border=\"1\" class=\"dataframe\">\n",
       "  <thead>\n",
       "    <tr style=\"text-align: right;\">\n",
       "      <th></th>\n",
       "      <th>station_id</th>\n",
       "      <th>latitude</th>\n",
       "      <th>longitude</th>\n",
       "      <th>county_name</th>\n",
       "      <th>sample_code</th>\n",
       "      <th>potable_(Aminomethyl)phosphonic acid</th>\n",
       "      <th>potable_1,1,1,2-Tetrachloroethane</th>\n",
       "      <th>potable_1,1,1-Trichloroethane</th>\n",
       "      <th>potable_1,1,2,2-Tetrachloroethane</th>\n",
       "      <th>potable_1,1,2-Trichloroethane</th>\n",
       "      <th>...</th>\n",
       "      <th>n50_99</th>\n",
       "      <th>n100_249</th>\n",
       "      <th>n250_499</th>\n",
       "      <th>n500_999</th>\n",
       "      <th>n1000</th>\n",
       "      <th>n1000_1</th>\n",
       "      <th>n1000_2</th>\n",
       "      <th>n1000_3</th>\n",
       "      <th>n1000_4</th>\n",
       "      <th>Population</th>\n",
       "    </tr>\n",
       "  </thead>\n",
       "  <tbody>\n",
       "    <tr>\n",
       "      <th>0</th>\n",
       "      <td>1</td>\n",
       "      <td>38.5596</td>\n",
       "      <td>-121.4169</td>\n",
       "      <td>Sacramento</td>\n",
       "      <td>C0114B0005</td>\n",
       "      <td>True</td>\n",
       "      <td>True</td>\n",
       "      <td>True</td>\n",
       "      <td>True</td>\n",
       "      <td>True</td>\n",
       "      <td>...</td>\n",
       "      <td>19033.0</td>\n",
       "      <td>9932.0</td>\n",
       "      <td>1738.0</td>\n",
       "      <td>478.0</td>\n",
       "      <td>297.0</td>\n",
       "      <td>58.0</td>\n",
       "      <td>33.0</td>\n",
       "      <td>37.0</td>\n",
       "      <td>9.0</td>\n",
       "      <td>1584169</td>\n",
       "    </tr>\n",
       "    <tr>\n",
       "      <th>1</th>\n",
       "      <td>1</td>\n",
       "      <td>38.5596</td>\n",
       "      <td>-121.4169</td>\n",
       "      <td>Sacramento</td>\n",
       "      <td>C0115B0005</td>\n",
       "      <td>True</td>\n",
       "      <td>True</td>\n",
       "      <td>True</td>\n",
       "      <td>True</td>\n",
       "      <td>True</td>\n",
       "      <td>...</td>\n",
       "      <td>19033.0</td>\n",
       "      <td>9932.0</td>\n",
       "      <td>1738.0</td>\n",
       "      <td>478.0</td>\n",
       "      <td>297.0</td>\n",
       "      <td>58.0</td>\n",
       "      <td>33.0</td>\n",
       "      <td>37.0</td>\n",
       "      <td>9.0</td>\n",
       "      <td>1584169</td>\n",
       "    </tr>\n",
       "    <tr>\n",
       "      <th>2</th>\n",
       "      <td>1</td>\n",
       "      <td>38.5596</td>\n",
       "      <td>-121.4169</td>\n",
       "      <td>Sacramento</td>\n",
       "      <td>C0116B0005</td>\n",
       "      <td>True</td>\n",
       "      <td>True</td>\n",
       "      <td>True</td>\n",
       "      <td>True</td>\n",
       "      <td>True</td>\n",
       "      <td>...</td>\n",
       "      <td>19033.0</td>\n",
       "      <td>9932.0</td>\n",
       "      <td>1738.0</td>\n",
       "      <td>478.0</td>\n",
       "      <td>297.0</td>\n",
       "      <td>58.0</td>\n",
       "      <td>33.0</td>\n",
       "      <td>37.0</td>\n",
       "      <td>9.0</td>\n",
       "      <td>1584169</td>\n",
       "    </tr>\n",
       "    <tr>\n",
       "      <th>3</th>\n",
       "      <td>1</td>\n",
       "      <td>38.5596</td>\n",
       "      <td>-121.4169</td>\n",
       "      <td>Sacramento</td>\n",
       "      <td>C0117B0081</td>\n",
       "      <td>True</td>\n",
       "      <td>True</td>\n",
       "      <td>True</td>\n",
       "      <td>True</td>\n",
       "      <td>True</td>\n",
       "      <td>...</td>\n",
       "      <td>19033.0</td>\n",
       "      <td>9932.0</td>\n",
       "      <td>1738.0</td>\n",
       "      <td>478.0</td>\n",
       "      <td>297.0</td>\n",
       "      <td>58.0</td>\n",
       "      <td>33.0</td>\n",
       "      <td>37.0</td>\n",
       "      <td>9.0</td>\n",
       "      <td>1584169</td>\n",
       "    </tr>\n",
       "    <tr>\n",
       "      <th>4</th>\n",
       "      <td>1</td>\n",
       "      <td>38.5596</td>\n",
       "      <td>-121.4169</td>\n",
       "      <td>Sacramento</td>\n",
       "      <td>C0118B0005</td>\n",
       "      <td>True</td>\n",
       "      <td>True</td>\n",
       "      <td>True</td>\n",
       "      <td>True</td>\n",
       "      <td>True</td>\n",
       "      <td>...</td>\n",
       "      <td>19033.0</td>\n",
       "      <td>9932.0</td>\n",
       "      <td>1738.0</td>\n",
       "      <td>478.0</td>\n",
       "      <td>297.0</td>\n",
       "      <td>58.0</td>\n",
       "      <td>33.0</td>\n",
       "      <td>37.0</td>\n",
       "      <td>9.0</td>\n",
       "      <td>1584169</td>\n",
       "    </tr>\n",
       "  </tbody>\n",
       "</table>\n",
       "<p>5 rows × 898 columns</p>\n",
       "</div>"
      ],
      "text/plain": [
       "   station_id  latitude  longitude county_name sample_code  \\\n",
       "0           1   38.5596  -121.4169  Sacramento  C0114B0005   \n",
       "1           1   38.5596  -121.4169  Sacramento  C0115B0005   \n",
       "2           1   38.5596  -121.4169  Sacramento  C0116B0005   \n",
       "3           1   38.5596  -121.4169  Sacramento  C0117B0081   \n",
       "4           1   38.5596  -121.4169  Sacramento  C0118B0005   \n",
       "\n",
       "   potable_(Aminomethyl)phosphonic acid  potable_1,1,1,2-Tetrachloroethane  \\\n",
       "0                                  True                               True   \n",
       "1                                  True                               True   \n",
       "2                                  True                               True   \n",
       "3                                  True                               True   \n",
       "4                                  True                               True   \n",
       "\n",
       "   potable_1,1,1-Trichloroethane  potable_1,1,2,2-Tetrachloroethane  \\\n",
       "0                           True                               True   \n",
       "1                           True                               True   \n",
       "2                           True                               True   \n",
       "3                           True                               True   \n",
       "4                           True                               True   \n",
       "\n",
       "   potable_1,1,2-Trichloroethane  ...   n50_99  n100_249  n250_499  n500_999  \\\n",
       "0                           True  ...  19033.0    9932.0    1738.0     478.0   \n",
       "1                           True  ...  19033.0    9932.0    1738.0     478.0   \n",
       "2                           True  ...  19033.0    9932.0    1738.0     478.0   \n",
       "3                           True  ...  19033.0    9932.0    1738.0     478.0   \n",
       "4                           True  ...  19033.0    9932.0    1738.0     478.0   \n",
       "\n",
       "   n1000  n1000_1  n1000_2  n1000_3  n1000_4  Population  \n",
       "0  297.0     58.0     33.0     37.0      9.0     1584169  \n",
       "1  297.0     58.0     33.0     37.0      9.0     1584169  \n",
       "2  297.0     58.0     33.0     37.0      9.0     1584169  \n",
       "3  297.0     58.0     33.0     37.0      9.0     1584169  \n",
       "4  297.0     58.0     33.0     37.0      9.0     1584169  \n",
       "\n",
       "[5 rows x 898 columns]"
      ]
     },
     "execution_count": 33,
     "metadata": {},
     "output_type": "execute_result"
    }
   ],
   "source": [
    "df = pdf.merge(cdf, how=\"left\", left_on=\"county_name\", right_on=\"CountyName\")\n",
    "df.head()"
   ]
  },
  {
   "cell_type": "markdown",
   "id": "f4ebac04-715f-4862-9548-20f074a6ec41",
   "metadata": {},
   "source": [
    "Let us start with the hypothesis that if we can indirectly determine the potability of each parameter without the direct measurement of that parameter then we could predict the overall potability without any direct label leakage.  Let us analyze the top offenders:"
   ]
  },
  {
   "cell_type": "code",
   "execution_count": 47,
   "id": "36d935e8-f679-4101-bb8f-656840bf002e",
   "metadata": {},
   "outputs": [
    {
     "name": "stdout",
     "output_type": "stream",
     "text": [
      "29573 non-potable samples.\n",
      "8764 due to Dissolved Boron (29.635140%)\n",
      "8292 due to Dissolved Nitrate (28.039090%)\n",
      "4037 due to Dissolved Fluoride (13.650965%)\n",
      "3467 due to Bromodichloromethane (11.723532%)\n",
      "3005 due to Total Manganese (10.161296%)\n",
      "2996 due to Chloroform (10.130863%)\n",
      "2295 due to Dissolved Manganese (7.760457%)\n",
      "1831 due to Dissolved Selenium (6.191458%)\n",
      "2022 due to Dissolved Arsenic (6.837318%)\n",
      "28123 non-potable samples based on just the top parameters (95.096879%).\n"
     ]
    }
   ],
   "source": [
    "non_potable = df.potable.value_counts()[False]\n",
    "print(f\"{non_potable} non-potable samples.\")\n",
    "top_features = [\n",
    "    \"Dissolved Boron\", \"Dissolved Nitrate\", \"Dissolved Fluoride\", \"Bromodichloromethane\", \"Total Manganese\",\n",
    "    \"Chloroform\", \"Dissolved Manganese\", \"Dissolved Selenium\", \"Dissolved Arsenic\"\n",
    "]\n",
    "df[\"f\"] = False\n",
    "top_mask = df.f\n",
    "for feature in top_features:\n",
    "    top_count = df[f\"potable_{feature}\"].value_counts()[False]\n",
    "    print(f\"{top_count} due to {feature} ({top_count / non_potable:%})\")\n",
    "    top_mask = top_mask | ~df[f\"potable_{feature}\"]\n",
    "non_potable_due_to_top = df[top_mask].potable.value_counts()[False]\n",
    "print(f\"{non_potable_due_to_top} non-potable samples based on just the top parameters ({non_potable_due_to_top / non_potable:%}).\")"
   ]
  },
  {
   "cell_type": "markdown",
   "id": "0f8b6d9d-6074-477f-99c6-e81d74b11537",
   "metadata": {},
   "source": [
    "Let us see if we can just predict the potability of the Dissolved Boron."
   ]
  },
  {
   "cell_type": "code",
   "execution_count": 10,
   "id": "f67e7f36-7c2a-40f6-8a70-fa1632c06d07",
   "metadata": {},
   "outputs": [
    {
     "name": "stdout",
     "output_type": "stream",
     "text": [
      "Train size: (257433, 898), Test size: (85811, 898)\n"
     ]
    }
   ],
   "source": [
    "label_feature = \"potable_Dissolved Boron\"\n",
    "df[label_feature] = df[label_feature].astype(\"category\")\n",
    "train_df, test_df = train_test_split(df, train_size=0.75, random_state=777, stratify=df[label_feature])\n",
    "print(f\"Train size: {train_df.shape}, Test size: {test_df.shape}\")"
   ]
  },
  {
   "cell_type": "markdown",
   "id": "91c69301-98aa-48c3-9401-41bf6bd25c35",
   "metadata": {},
   "source": [
    "Let us scale our numeric features."
   ]
  },
  {
   "cell_type": "code",
   "execution_count": 12,
   "id": "d05dafce-b1be-42ba-b55d-1b696b332732",
   "metadata": {},
   "outputs": [],
   "source": [
    "scaler = StandardScaler()\n",
    "num_features = [\n",
    "    \"latitude\", \"longitude\",\n",
    "    \"Shape__Area\", \"Shape__Length\",\n",
    "    \"emp\", \"qp1\", \"ap\", \"est\",\n",
    "    \"n<5\", \"n5_9\", \"n10_19\", \"n20_49\", \"n50_99\", \"n100_249\", \"n250_499\", \"n500_999\",\n",
    "    \"n1000\", \"n1000_1\", \"n1000_2\", \"n1000_3\", \"n1000_4\",\n",
    "    \"Population\"\n",
    "] + df.columns[df.columns.str.contains(\"param_\")].values.tolist()\n",
    "num_features.remove(\"param_Dissolved Boron\")\n",
    "scaler.fit(train_df[num_features])\n",
    "train_num = scaler.transform(train_df[num_features])\n",
    "test_num = scaler.transform(test_df[num_features])"
   ]
  },
  {
   "cell_type": "markdown",
   "id": "60dac516-948d-4c93-90de-502d821ab1fc",
   "metadata": {},
   "source": [
    "Let us one-hot encode our categorical features."
   ]
  },
  {
   "cell_type": "code",
   "execution_count": 16,
   "id": "c49dec6d-b094-4530-b467-29cb9f29da1e",
   "metadata": {},
   "outputs": [],
   "source": [
    "hot_enc = OneHotEncoder()\n",
    "df.county_name = df.county_name.astype(\"category\")\n",
    "cat_features = [\"county_name\", \"AdminRegion\", \"FireMAR\", \"LawMAR\"]\n",
    "hot_enc.fit(train_df[cat_features])\n",
    "train_hot = hot_enc.transform(train_df[cat_features])\n",
    "test_hot = hot_enc.transform(test_df[cat_features])"
   ]
  },
  {
   "cell_type": "markdown",
   "id": "a54e62e9-2f98-4884-8e6d-b18a323f659d",
   "metadata": {},
   "source": [
    "And finally combine our X,y datasets for training and testing."
   ]
  },
  {
   "cell_type": "code",
   "execution_count": 18,
   "id": "ed68c100-eec0-4a1c-8949-6da7c1fc137b",
   "metadata": {},
   "outputs": [
    {
     "name": "stdout",
     "output_type": "stream",
     "text": [
      "Train X (257433, 529), y 257433\n",
      "Test X (85811, 529), y 85811\n"
     ]
    }
   ],
   "source": [
    "train_X = sp.hstack((train_hot, train_num))\n",
    "train_y = train_df[label_feature].values\n",
    "test_X = sp.hstack((test_hot, test_num))\n",
    "test_y = test_df[label_feature].values\n",
    "print(f\"Train X {train_X.shape}, y {len(train_y)}\")\n",
    "print(f\"Test X {test_X.shape}, y {len(test_y)}\")"
   ]
  },
  {
   "cell_type": "markdown",
   "id": "25da6ba0-17d3-42f3-a262-2b0532f8cbf0",
   "metadata": {},
   "source": [
    "Let us test Logistic Regression"
   ]
  },
  {
   "cell_type": "code",
   "execution_count": 20,
   "id": "473dd933-1a14-4903-8710-08ef4f68e338",
   "metadata": {},
   "outputs": [
    {
     "name": "stdout",
     "output_type": "stream",
     "text": [
      "True Positive 83478 (Correctly classified potable)\n",
      "True Negative: 1130 (Correctly classified non-potable)\n",
      "False Positive 1061 (Incorrectly classified non-potable as potable - Bad)\n",
      "False Negative 142 (Incorrectly classified potable as non-potable - Meh)\n",
      "              precision    recall  f1-score   support\n",
      "\n",
      "         0.0    0.88836   0.51575   0.65261      2191\n",
      "         1.0    0.98745   0.99830   0.99285     83620\n",
      "\n",
      "    accuracy                        0.98598     85811\n",
      "   macro avg    0.93791   0.75702   0.82273     85811\n",
      "weighted avg    0.98492   0.98598   0.98416     85811\n",
      "\n"
     ]
    }
   ],
   "source": [
    "model = LogisticRegression(random_state=777, max_iter=10000)\n",
    "model.fit(train_X, train_y)\n",
    "pred_y = model.predict(test_X)\n",
    "score_model(test_y, pred_y)"
   ]
  },
  {
   "cell_type": "markdown",
   "id": "7fbb0915-9087-46e9-b25a-cb27c60baaed",
   "metadata": {},
   "source": [
    "We get a 51% recall and 65% f1-score for non-potable.  Not too bad (there is likely something there)."
   ]
  },
  {
   "cell_type": "markdown",
   "id": "973373f6-02c5-428c-bce4-cc33b575cdfb",
   "metadata": {},
   "source": [
    "Now let us try a decision tree."
   ]
  },
  {
   "cell_type": "code",
   "execution_count": 21,
   "id": "e8f852e4-c30c-4f2e-a869-2b173a387497",
   "metadata": {},
   "outputs": [
    {
     "name": "stdout",
     "output_type": "stream",
     "text": [
      "True Positive 83137 (Correctly classified potable)\n",
      "True Negative: 1720 (Correctly classified non-potable)\n",
      "False Positive 471 (Incorrectly classified non-potable as potable - Bad)\n",
      "False Negative 483 (Incorrectly classified potable as non-potable - Meh)\n",
      "              precision    recall  f1-score   support\n",
      "\n",
      "         0.0    0.78075   0.78503   0.78289      2191\n",
      "         1.0    0.99437   0.99422   0.99430     83620\n",
      "\n",
      "    accuracy                        0.98888     85811\n",
      "   macro avg    0.88756   0.88963   0.88859     85811\n",
      "weighted avg    0.98891   0.98888   0.98890     85811\n",
      "\n"
     ]
    }
   ],
   "source": [
    "model = DecisionTreeClassifier(random_state=777)\n",
    "model.fit(train_X, train_y)\n",
    "pred_y = model.predict(test_X)\n",
    "score_model(test_y, pred_y)"
   ]
  },
  {
   "cell_type": "markdown",
   "id": "2bfcddfe-e815-48ad-b04b-58883da30135",
   "metadata": {},
   "source": [
    "This impoves the recall/f1-score for non-potable to 78%.  Much better."
   ]
  },
  {
   "cell_type": "markdown",
   "id": "12c21e4f-e636-448b-886b-f3a56f9717d5",
   "metadata": {},
   "source": [
    "Now let us try a random forest."
   ]
  },
  {
   "cell_type": "code",
   "execution_count": 22,
   "id": "7228b9a9-5948-44fe-b2fc-02d8425cf1ed",
   "metadata": {},
   "outputs": [
    {
     "name": "stdout",
     "output_type": "stream",
     "text": [
      "True Positive 83488 (Correctly classified potable)\n",
      "True Negative: 1686 (Correctly classified non-potable)\n",
      "False Positive 505 (Incorrectly classified non-potable as potable - Bad)\n",
      "False Negative 132 (Incorrectly classified potable as non-potable - Meh)\n",
      "              precision    recall  f1-score   support\n",
      "\n",
      "         0.0    0.92739   0.76951   0.84111      2191\n",
      "         1.0    0.99399   0.99842   0.99620     83620\n",
      "\n",
      "    accuracy                        0.99258     85811\n",
      "   macro avg    0.96069   0.88397   0.91865     85811\n",
      "weighted avg    0.99229   0.99258   0.99224     85811\n",
      "\n"
     ]
    }
   ],
   "source": [
    "model = RandomForestClassifier(random_state=777)\n",
    "model.fit(train_X, train_y)\n",
    "pred_y = model.predict(test_X)\n",
    "score_model(test_y, pred_y)"
   ]
  },
  {
   "cell_type": "markdown",
   "id": "65b5925c-f417-41fa-9fd0-87c6146ce4fd",
   "metadata": {},
   "source": [
    "And this raised the recall/f1-score for non-potable to 76%/84%.  Pretty good."
   ]
  },
  {
   "cell_type": "markdown",
   "id": "7fc17246-a0e4-49ca-b5dd-508d8fa5e61f",
   "metadata": {},
   "source": [
    "Now let us try to predict another parameter specific potability, this time for Dissolved Nitrate."
   ]
  },
  {
   "cell_type": "code",
   "execution_count": 54,
   "id": "9f5d6d94-3d4a-4661-9bff-16490e8f2dad",
   "metadata": {},
   "outputs": [
    {
     "name": "stdout",
     "output_type": "stream",
     "text": [
      "Train size: (257433, 899), Test size: (85811, 899)\n",
      "Train X (257433, 529), y 257433\n",
      "Test X (85811, 529), y 85811\n"
     ]
    }
   ],
   "source": [
    "label_feature = \"potable_Dissolved Nitrate\"\n",
    "df[label_feature] = df[label_feature].astype(\"category\")\n",
    "train_df, test_df = train_test_split(df, train_size=0.75, random_state=777, stratify=df[label_feature])\n",
    "print(f\"Train size: {train_df.shape}, Test size: {test_df.shape}\")\n",
    "\n",
    "scaler = StandardScaler()\n",
    "num_features = [\n",
    "    \"latitude\", \"longitude\",\n",
    "    \"Shape__Area\", \"Shape__Length\",\n",
    "    \"emp\", \"qp1\", \"ap\", \"est\",\n",
    "    \"n<5\", \"n5_9\", \"n10_19\", \"n20_49\", \"n50_99\", \"n100_249\", \"n250_499\", \"n500_999\",\n",
    "    \"n1000\", \"n1000_1\", \"n1000_2\", \"n1000_3\", \"n1000_4\",\n",
    "    \"Population\"\n",
    "] + df.columns[df.columns.str.contains(\"param_\")].values.tolist()\n",
    "num_features.remove(\"param_Dissolved Nitrate\")\n",
    "scaler.fit(train_df[num_features])\n",
    "train_num = scaler.transform(train_df[num_features])\n",
    "test_num = scaler.transform(test_df[num_features])\n",
    "\n",
    "hot_enc = OneHotEncoder()\n",
    "df.county_name = df.county_name.astype(\"category\")\n",
    "cat_features = [\"county_name\", \"AdminRegion\", \"FireMAR\", \"LawMAR\"]\n",
    "hot_enc.fit(train_df[cat_features])\n",
    "train_hot = hot_enc.transform(train_df[cat_features])\n",
    "test_hot = hot_enc.transform(test_df[cat_features])\n",
    "\n",
    "train_X = sp.hstack((train_hot, train_num))\n",
    "train_y = train_df[label_feature].values\n",
    "test_X = sp.hstack((test_hot, test_num))\n",
    "test_y = test_df[label_feature].values\n",
    "print(f\"Train X {train_X.shape}, y {len(train_y)}\")\n",
    "print(f\"Test X {test_X.shape}, y {len(test_y)}\")"
   ]
  },
  {
   "cell_type": "markdown",
   "id": "ff7200a4-ae8a-4f85-8bfb-0359fa864e3d",
   "metadata": {},
   "source": [
    "Logistic"
   ]
  },
  {
   "cell_type": "code",
   "execution_count": 25,
   "id": "f1718e74-6b2d-406b-8832-b84725d04e38",
   "metadata": {},
   "outputs": [
    {
     "name": "stdout",
     "output_type": "stream",
     "text": [
      "True Positive 83605 (Correctly classified potable)\n",
      "True Negative: 166 (Correctly classified non-potable)\n",
      "False Positive 1907 (Incorrectly classified non-potable as potable - Bad)\n",
      "False Negative 133 (Incorrectly classified potable as non-potable - Meh)\n",
      "              precision    recall  f1-score   support\n",
      "\n",
      "         0.0    0.55518   0.08008   0.13997      2073\n",
      "         1.0    0.97770   0.99841   0.98795     83738\n",
      "\n",
      "    accuracy                        0.97623     85811\n",
      "   macro avg    0.76644   0.53924   0.56396     85811\n",
      "weighted avg    0.96749   0.97623   0.96746     85811\n",
      "\n"
     ]
    }
   ],
   "source": [
    "model = LogisticRegression(random_state=777, max_iter=10000)\n",
    "model.fit(train_X, train_y)\n",
    "pred_y = model.predict(test_X)\n",
    "score_model(test_y, pred_y)"
   ]
  },
  {
   "cell_type": "markdown",
   "id": "95ee51c0-ffc3-44fa-9e94-e1027135e907",
   "metadata": {},
   "source": [
    "Awful.  We only had an 8% recall (13% f1-score).  Now for decision tree."
   ]
  },
  {
   "cell_type": "code",
   "execution_count": 55,
   "id": "6cdf2c65-97bd-4f79-8913-2af70a6466f8",
   "metadata": {},
   "outputs": [
    {
     "name": "stdout",
     "output_type": "stream",
     "text": [
      "True Positive 82721 (Correctly classified potable)\n",
      "True Negative: 1186 (Correctly classified non-potable)\n",
      "False Positive 887 (Incorrectly classified non-potable as potable - Bad)\n",
      "False Negative 1017 (Incorrectly classified potable as non-potable - Meh)\n",
      "              precision    recall  f1-score   support\n",
      "\n",
      "         0.0    0.53836   0.57212   0.55472      2073\n",
      "         1.0    0.98939   0.98785   0.98862     83738\n",
      "\n",
      "    accuracy                        0.97781     85811\n",
      "   macro avg    0.76387   0.77999   0.77167     85811\n",
      "weighted avg    0.97849   0.97781   0.97814     85811\n",
      "\n"
     ]
    }
   ],
   "source": [
    "model = DecisionTreeClassifier(random_state=777)\n",
    "model.fit(train_X, train_y)\n",
    "pred_y = model.predict(test_X)\n",
    "score_model(test_y, pred_y)"
   ]
  },
  {
   "cell_type": "markdown",
   "id": "07f69d68-cb1e-49f3-bb18-09ce10d6320c",
   "metadata": {},
   "source": [
    "Meh.  Better than a coin flip at 57%/55%.  And a random forest."
   ]
  },
  {
   "cell_type": "code",
   "execution_count": 27,
   "id": "802c1aae-2e6e-4f87-91ca-14aaff481fb0",
   "metadata": {},
   "outputs": [
    {
     "name": "stdout",
     "output_type": "stream",
     "text": [
      "True Positive 83591 (Correctly classified potable)\n",
      "True Negative: 948 (Correctly classified non-potable)\n",
      "False Positive 1125 (Incorrectly classified non-potable as potable - Bad)\n",
      "False Negative 147 (Incorrectly classified potable as non-potable - Meh)\n",
      "              precision    recall  f1-score   support\n",
      "\n",
      "         0.0    0.86575   0.45731   0.59848      2073\n",
      "         1.0    0.98672   0.99824   0.99245     83738\n",
      "\n",
      "    accuracy                        0.98518     85811\n",
      "   macro avg    0.92624   0.72778   0.79547     85811\n",
      "weighted avg    0.98380   0.98518   0.98293     85811\n",
      "\n"
     ]
    }
   ],
   "source": [
    "model = RandomForestClassifier(random_state=777)\n",
    "model.fit(train_X, train_y)\n",
    "pred_y = model.predict(test_X)\n",
    "score_model(test_y, pred_y)"
   ]
  },
  {
   "cell_type": "markdown",
   "id": "833af030-8278-47fe-9daa-1cbfa6d8e440",
   "metadata": {},
   "source": [
    "Worse - that dropped recall to 45% but raised f1-score to 59%."
   ]
  },
  {
   "cell_type": "markdown",
   "id": "2bca68c4-18cc-43dd-855c-93ca56b76c42",
   "metadata": {},
   "source": [
    "Let us try to predict Dissolved Fluoride."
   ]
  },
  {
   "cell_type": "code",
   "execution_count": 48,
   "id": "ac72f67c-bc8d-4f99-8a48-023181cab4fe",
   "metadata": {},
   "outputs": [
    {
     "name": "stdout",
     "output_type": "stream",
     "text": [
      "Train size: (257433, 899), Test size: (85811, 899)\n",
      "Train X (257433, 529), y 257433\n",
      "Test X (85811, 529), y 85811\n"
     ]
    }
   ],
   "source": [
    "label_feature = \"potable_Dissolved Fluoride\"\n",
    "df[label_feature] = df[label_feature].astype(\"category\")\n",
    "train_df, test_df = train_test_split(df, train_size=0.75, random_state=777, stratify=df[label_feature])\n",
    "print(f\"Train size: {train_df.shape}, Test size: {test_df.shape}\")\n",
    "\n",
    "scaler = StandardScaler()\n",
    "num_features = [\n",
    "    \"latitude\", \"longitude\",\n",
    "    \"Shape__Area\", \"Shape__Length\",\n",
    "    \"emp\", \"qp1\", \"ap\", \"est\",\n",
    "    \"n<5\", \"n5_9\", \"n10_19\", \"n20_49\", \"n50_99\", \"n100_249\", \"n250_499\", \"n500_999\",\n",
    "    \"n1000\", \"n1000_1\", \"n1000_2\", \"n1000_3\", \"n1000_4\",\n",
    "    \"Population\"\n",
    "] + df.columns[df.columns.str.contains(\"param_\")].values.tolist()\n",
    "num_features.remove(\"param_Dissolved Fluoride\")\n",
    "scaler.fit(train_df[num_features])\n",
    "train_num = scaler.transform(train_df[num_features])\n",
    "test_num = scaler.transform(test_df[num_features])\n",
    "\n",
    "hot_enc = OneHotEncoder()\n",
    "df.county_name = df.county_name.astype(\"category\")\n",
    "cat_features = [\"county_name\", \"AdminRegion\", \"FireMAR\", \"LawMAR\"]\n",
    "hot_enc.fit(train_df[cat_features])\n",
    "train_hot = hot_enc.transform(train_df[cat_features])\n",
    "test_hot = hot_enc.transform(test_df[cat_features])\n",
    "\n",
    "train_X = sp.hstack((train_hot, train_num))\n",
    "train_y = train_df[label_feature].values\n",
    "test_X = sp.hstack((test_hot, test_num))\n",
    "test_y = test_df[label_feature].values\n",
    "print(f\"Train X {train_X.shape}, y {len(train_y)}\")\n",
    "print(f\"Test X {test_X.shape}, y {len(test_y)}\")"
   ]
  },
  {
   "cell_type": "markdown",
   "id": "2006a504-f51c-4698-8ee6-3b05867bf9e8",
   "metadata": {},
   "source": [
    "Logistic"
   ]
  },
  {
   "cell_type": "code",
   "execution_count": 50,
   "id": "735c7a5a-f91d-4d11-9c75-e59a1379a0c0",
   "metadata": {},
   "outputs": [
    {
     "name": "stdout",
     "output_type": "stream",
     "text": [
      "True Positive 84753 (Correctly classified potable)\n",
      "True Negative: 46 (Correctly classified non-potable)\n",
      "False Positive 963 (Incorrectly classified non-potable as potable - Bad)\n",
      "False Negative 49 (Incorrectly classified potable as non-potable - Meh)\n",
      "              precision    recall  f1-score   support\n",
      "\n",
      "         0.0    0.48421   0.04559   0.08333      1009\n",
      "         1.0    0.98877   0.99942   0.99407     84802\n",
      "\n",
      "    accuracy                        0.98821     85811\n",
      "   macro avg    0.73649   0.52251   0.53870     85811\n",
      "weighted avg    0.98283   0.98821   0.98336     85811\n",
      "\n"
     ]
    }
   ],
   "source": [
    "model = LogisticRegression(random_state=777, max_iter=10000)\n",
    "model.fit(train_X, train_y)\n",
    "pred_y = model.predict(test_X)\n",
    "score_model(test_y, pred_y)"
   ]
  },
  {
   "cell_type": "markdown",
   "id": "005cd9dc-5e15-4e5b-b737-1ed6dc807009",
   "metadata": {},
   "source": [
    "Decision Tree"
   ]
  },
  {
   "cell_type": "code",
   "execution_count": 51,
   "id": "bfba6870-6dd7-4b7b-99d8-e030bf83d550",
   "metadata": {},
   "outputs": [
    {
     "name": "stdout",
     "output_type": "stream",
     "text": [
      "True Positive 84380 (Correctly classified potable)\n",
      "True Negative: 596 (Correctly classified non-potable)\n",
      "False Positive 413 (Incorrectly classified non-potable as potable - Bad)\n",
      "False Negative 422 (Incorrectly classified potable as non-potable - Meh)\n",
      "              precision    recall  f1-score   support\n",
      "\n",
      "         0.0    0.58546   0.59068   0.58806      1009\n",
      "         1.0    0.99513   0.99502   0.99508     84802\n",
      "\n",
      "    accuracy                        0.99027     85811\n",
      "   macro avg    0.79030   0.79285   0.79157     85811\n",
      "weighted avg    0.99031   0.99027   0.99029     85811\n",
      "\n"
     ]
    }
   ],
   "source": [
    "model = DecisionTreeClassifier(random_state=777)\n",
    "model.fit(train_X, train_y)\n",
    "pred_y = model.predict(test_X)\n",
    "score_model(test_y, pred_y)"
   ]
  },
  {
   "cell_type": "markdown",
   "id": "aafa7820-7fd3-486b-bc50-01295025ea32",
   "metadata": {},
   "source": [
    "Random Forest"
   ]
  },
  {
   "cell_type": "code",
   "execution_count": 52,
   "id": "60e7a297-b48f-4762-9bd1-a39388bd7803",
   "metadata": {},
   "outputs": [
    {
     "name": "stdout",
     "output_type": "stream",
     "text": [
      "True Positive 84732 (Correctly classified potable)\n",
      "True Negative: 524 (Correctly classified non-potable)\n",
      "False Positive 485 (Incorrectly classified non-potable as potable - Bad)\n",
      "False Negative 70 (Incorrectly classified potable as non-potable - Meh)\n",
      "              precision    recall  f1-score   support\n",
      "\n",
      "         0.0    0.88215   0.51933   0.65377      1009\n",
      "         1.0    0.99431   0.99917   0.99674     84802\n",
      "\n",
      "    accuracy                        0.99353     85811\n",
      "   macro avg    0.93823   0.75925   0.82525     85811\n",
      "weighted avg    0.99299   0.99353   0.99270     85811\n",
      "\n"
     ]
    }
   ],
   "source": [
    "model = RandomForestClassifier(random_state=777)\n",
    "model.fit(train_X, train_y)\n",
    "pred_y = model.predict(test_X)\n",
    "score_model(test_y, pred_y)"
   ]
  },
  {
   "cell_type": "markdown",
   "id": "6a381963-dfb6-416f-b650-3bce9ca420da",
   "metadata": {},
   "source": [
    "## Summary\n",
    "\n",
    "While it should be theoretically possible to get a 95% accurate overall potability from trying to predict the potability of just the top predictors, the correlation to other parameters just doesn't appear to be there.  I am also not sure of a statistically valid way to combine these multiple models since each one is being trained on a different stratified boundary."
   ]
  },
  {
   "cell_type": "code",
   "execution_count": null,
   "id": "7cc8981d-5caa-46fc-bcae-234d6c79b097",
   "metadata": {},
   "outputs": [],
   "source": []
  }
 ],
 "metadata": {
  "kernelspec": {
   "display_name": "Python 3 (ipykernel)",
   "language": "python",
   "name": "python3"
  },
  "language_info": {
   "codemirror_mode": {
    "name": "ipython",
    "version": 3
   },
   "file_extension": ".py",
   "mimetype": "text/x-python",
   "name": "python",
   "nbconvert_exporter": "python",
   "pygments_lexer": "ipython3",
   "version": "3.11.3"
  }
 },
 "nbformat": 4,
 "nbformat_minor": 5
}
