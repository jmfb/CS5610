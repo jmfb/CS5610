{
 "cells": [
  {
   "cell_type": "markdown",
   "id": "2494ea06-368e-48e8-8862-5bb45d4464ea",
   "metadata": {},
   "source": [
    "# Regression Models and Complementary Datasets\n",
    "**Project**: M4 Project 4\n",
    "**Author**: Jacob Buysse\n",
    "\n",
    "In this project we will be performing regression modeling on home sale pricing and them combining that dataset with a complimentary dataset to see how it might improve the model performance.\n",
    "\n",
    "In this notebook we will be using..."
   ]
  },
  {
   "cell_type": "code",
   "execution_count": 1,
   "id": "da3f2d47-9678-4f19-8027-f69103a79099",
   "metadata": {},
   "outputs": [],
   "source": [
    "import pandas as pd\n",
    "import numpy as np\n",
    "import matplotlib as plt\n",
    "import seaborn as sns"
   ]
  },
  {
   "cell_type": "markdown",
   "id": "8c39c14f-a190-4d30-a5a5-2a81680fad80",
   "metadata": {},
   "source": [
    "We will configure our plots for readable labels, high resolution, and automatic layout."
   ]
  },
  {
   "cell_type": "code",
   "execution_count": 2,
   "id": "9ba5fb2e-6e58-45b3-bbb7-33ce34b6aef6",
   "metadata": {},
   "outputs": [],
   "source": [
    "plt.rc(\"axes\", labelsize=18)\n",
    "plt.rc(\"figure\", dpi=150, autolayout=True)"
   ]
  },
  {
   "cell_type": "markdown",
   "id": "cb9f50d5-e483-4eee-9bd5-637cabc31713",
   "metadata": {},
   "source": [
    "## Part I\n",
    "\n",
    "We need to load and clean the given dataset.  First let us load the file and look at the head/info/describe results."
   ]
  },
  {
   "cell_type": "code",
   "execution_count": 3,
   "id": "73f196d2-0fd5-4096-b5a0-416c79c21ac0",
   "metadata": {},
   "outputs": [
    {
     "data": {
      "text/html": [
       "<div>\n",
       "<style scoped>\n",
       "    .dataframe tbody tr th:only-of-type {\n",
       "        vertical-align: middle;\n",
       "    }\n",
       "\n",
       "    .dataframe tbody tr th {\n",
       "        vertical-align: top;\n",
       "    }\n",
       "\n",
       "    .dataframe thead th {\n",
       "        text-align: right;\n",
       "    }\n",
       "</style>\n",
       "<table border=\"1\" class=\"dataframe\">\n",
       "  <thead>\n",
       "    <tr style=\"text-align: right;\">\n",
       "      <th></th>\n",
       "      <th>id</th>\n",
       "      <th>date</th>\n",
       "      <th>price</th>\n",
       "      <th>bedrooms</th>\n",
       "      <th>bathrooms</th>\n",
       "      <th>sqft_living</th>\n",
       "      <th>sqft_lot</th>\n",
       "      <th>floors</th>\n",
       "      <th>waterfront</th>\n",
       "      <th>view</th>\n",
       "      <th>...</th>\n",
       "      <th>grade</th>\n",
       "      <th>sqft_above</th>\n",
       "      <th>sqft_basement</th>\n",
       "      <th>yr_built</th>\n",
       "      <th>yr_renovated</th>\n",
       "      <th>zipcode</th>\n",
       "      <th>lat</th>\n",
       "      <th>long</th>\n",
       "      <th>sqft_living15</th>\n",
       "      <th>sqft_lot15</th>\n",
       "    </tr>\n",
       "  </thead>\n",
       "  <tbody>\n",
       "    <tr>\n",
       "      <th>0</th>\n",
       "      <td>7129300520</td>\n",
       "      <td>20141013T000000</td>\n",
       "      <td>221900.0</td>\n",
       "      <td>3</td>\n",
       "      <td>1.00</td>\n",
       "      <td>1180</td>\n",
       "      <td>5650</td>\n",
       "      <td>1.0</td>\n",
       "      <td>0</td>\n",
       "      <td>0</td>\n",
       "      <td>...</td>\n",
       "      <td>7</td>\n",
       "      <td>1180</td>\n",
       "      <td>0</td>\n",
       "      <td>1955</td>\n",
       "      <td>0</td>\n",
       "      <td>98178</td>\n",
       "      <td>47.5112</td>\n",
       "      <td>-122.257</td>\n",
       "      <td>1340</td>\n",
       "      <td>5650</td>\n",
       "    </tr>\n",
       "    <tr>\n",
       "      <th>1</th>\n",
       "      <td>6414100192</td>\n",
       "      <td>20141209T000000</td>\n",
       "      <td>538000.0</td>\n",
       "      <td>3</td>\n",
       "      <td>2.25</td>\n",
       "      <td>2570</td>\n",
       "      <td>7242</td>\n",
       "      <td>2.0</td>\n",
       "      <td>0</td>\n",
       "      <td>0</td>\n",
       "      <td>...</td>\n",
       "      <td>7</td>\n",
       "      <td>2170</td>\n",
       "      <td>400</td>\n",
       "      <td>1951</td>\n",
       "      <td>1991</td>\n",
       "      <td>98125</td>\n",
       "      <td>47.7210</td>\n",
       "      <td>-122.319</td>\n",
       "      <td>1690</td>\n",
       "      <td>7639</td>\n",
       "    </tr>\n",
       "    <tr>\n",
       "      <th>2</th>\n",
       "      <td>5631500400</td>\n",
       "      <td>20150225T000000</td>\n",
       "      <td>180000.0</td>\n",
       "      <td>2</td>\n",
       "      <td>1.00</td>\n",
       "      <td>770</td>\n",
       "      <td>10000</td>\n",
       "      <td>1.0</td>\n",
       "      <td>0</td>\n",
       "      <td>0</td>\n",
       "      <td>...</td>\n",
       "      <td>6</td>\n",
       "      <td>770</td>\n",
       "      <td>0</td>\n",
       "      <td>1933</td>\n",
       "      <td>0</td>\n",
       "      <td>98028</td>\n",
       "      <td>47.7379</td>\n",
       "      <td>-122.233</td>\n",
       "      <td>2720</td>\n",
       "      <td>8062</td>\n",
       "    </tr>\n",
       "    <tr>\n",
       "      <th>3</th>\n",
       "      <td>2487200875</td>\n",
       "      <td>20141209T000000</td>\n",
       "      <td>604000.0</td>\n",
       "      <td>4</td>\n",
       "      <td>3.00</td>\n",
       "      <td>1960</td>\n",
       "      <td>5000</td>\n",
       "      <td>1.0</td>\n",
       "      <td>0</td>\n",
       "      <td>0</td>\n",
       "      <td>...</td>\n",
       "      <td>7</td>\n",
       "      <td>1050</td>\n",
       "      <td>910</td>\n",
       "      <td>1965</td>\n",
       "      <td>0</td>\n",
       "      <td>98136</td>\n",
       "      <td>47.5208</td>\n",
       "      <td>-122.393</td>\n",
       "      <td>1360</td>\n",
       "      <td>5000</td>\n",
       "    </tr>\n",
       "    <tr>\n",
       "      <th>4</th>\n",
       "      <td>1954400510</td>\n",
       "      <td>20150218T000000</td>\n",
       "      <td>510000.0</td>\n",
       "      <td>3</td>\n",
       "      <td>2.00</td>\n",
       "      <td>1680</td>\n",
       "      <td>8080</td>\n",
       "      <td>1.0</td>\n",
       "      <td>0</td>\n",
       "      <td>0</td>\n",
       "      <td>...</td>\n",
       "      <td>8</td>\n",
       "      <td>1680</td>\n",
       "      <td>0</td>\n",
       "      <td>1987</td>\n",
       "      <td>0</td>\n",
       "      <td>98074</td>\n",
       "      <td>47.6168</td>\n",
       "      <td>-122.045</td>\n",
       "      <td>1800</td>\n",
       "      <td>7503</td>\n",
       "    </tr>\n",
       "  </tbody>\n",
       "</table>\n",
       "<p>5 rows × 21 columns</p>\n",
       "</div>"
      ],
      "text/plain": [
       "           id             date     price  bedrooms  bathrooms  sqft_living  \\\n",
       "0  7129300520  20141013T000000  221900.0         3       1.00         1180   \n",
       "1  6414100192  20141209T000000  538000.0         3       2.25         2570   \n",
       "2  5631500400  20150225T000000  180000.0         2       1.00          770   \n",
       "3  2487200875  20141209T000000  604000.0         4       3.00         1960   \n",
       "4  1954400510  20150218T000000  510000.0         3       2.00         1680   \n",
       "\n",
       "   sqft_lot  floors  waterfront  view  ...  grade  sqft_above  sqft_basement  \\\n",
       "0      5650     1.0           0     0  ...      7        1180              0   \n",
       "1      7242     2.0           0     0  ...      7        2170            400   \n",
       "2     10000     1.0           0     0  ...      6         770              0   \n",
       "3      5000     1.0           0     0  ...      7        1050            910   \n",
       "4      8080     1.0           0     0  ...      8        1680              0   \n",
       "\n",
       "   yr_built  yr_renovated  zipcode      lat     long  sqft_living15  \\\n",
       "0      1955             0    98178  47.5112 -122.257           1340   \n",
       "1      1951          1991    98125  47.7210 -122.319           1690   \n",
       "2      1933             0    98028  47.7379 -122.233           2720   \n",
       "3      1965             0    98136  47.5208 -122.393           1360   \n",
       "4      1987             0    98074  47.6168 -122.045           1800   \n",
       "\n",
       "   sqft_lot15  \n",
       "0        5650  \n",
       "1        7639  \n",
       "2        8062  \n",
       "3        5000  \n",
       "4        7503  \n",
       "\n",
       "[5 rows x 21 columns]"
      ]
     },
     "execution_count": 3,
     "metadata": {},
     "output_type": "execute_result"
    }
   ],
   "source": [
    "df = pd.read_csv('./kc_house_data.csv')\n",
    "df.head()"
   ]
  },
  {
   "cell_type": "code",
   "execution_count": 4,
   "id": "4432e1e8-5b79-495d-971d-ec85c4efb988",
   "metadata": {},
   "outputs": [
    {
     "name": "stdout",
     "output_type": "stream",
     "text": [
      "<class 'pandas.core.frame.DataFrame'>\n",
      "RangeIndex: 21613 entries, 0 to 21612\n",
      "Data columns (total 21 columns):\n",
      " #   Column         Non-Null Count  Dtype  \n",
      "---  ------         --------------  -----  \n",
      " 0   id             21613 non-null  int64  \n",
      " 1   date           21613 non-null  object \n",
      " 2   price          21613 non-null  float64\n",
      " 3   bedrooms       21613 non-null  int64  \n",
      " 4   bathrooms      21613 non-null  float64\n",
      " 5   sqft_living    21613 non-null  int64  \n",
      " 6   sqft_lot       21613 non-null  int64  \n",
      " 7   floors         21613 non-null  float64\n",
      " 8   waterfront     21613 non-null  int64  \n",
      " 9   view           21613 non-null  int64  \n",
      " 10  condition      21613 non-null  int64  \n",
      " 11  grade          21613 non-null  int64  \n",
      " 12  sqft_above     21613 non-null  int64  \n",
      " 13  sqft_basement  21613 non-null  int64  \n",
      " 14  yr_built       21613 non-null  int64  \n",
      " 15  yr_renovated   21613 non-null  int64  \n",
      " 16  zipcode        21613 non-null  int64  \n",
      " 17  lat            21613 non-null  float64\n",
      " 18  long           21613 non-null  float64\n",
      " 19  sqft_living15  21613 non-null  int64  \n",
      " 20  sqft_lot15     21613 non-null  int64  \n",
      "dtypes: float64(5), int64(15), object(1)\n",
      "memory usage: 3.5+ MB\n"
     ]
    }
   ],
   "source": [
    "df.info()"
   ]
  },
  {
   "cell_type": "code",
   "execution_count": 5,
   "id": "226fcb33-c8e4-422d-8c14-d23fb927e971",
   "metadata": {},
   "outputs": [
    {
     "data": {
      "text/html": [
       "<div>\n",
       "<style scoped>\n",
       "    .dataframe tbody tr th:only-of-type {\n",
       "        vertical-align: middle;\n",
       "    }\n",
       "\n",
       "    .dataframe tbody tr th {\n",
       "        vertical-align: top;\n",
       "    }\n",
       "\n",
       "    .dataframe thead th {\n",
       "        text-align: right;\n",
       "    }\n",
       "</style>\n",
       "<table border=\"1\" class=\"dataframe\">\n",
       "  <thead>\n",
       "    <tr style=\"text-align: right;\">\n",
       "      <th></th>\n",
       "      <th>id</th>\n",
       "      <th>price</th>\n",
       "      <th>bedrooms</th>\n",
       "      <th>bathrooms</th>\n",
       "      <th>sqft_living</th>\n",
       "      <th>sqft_lot</th>\n",
       "      <th>floors</th>\n",
       "      <th>waterfront</th>\n",
       "      <th>view</th>\n",
       "      <th>condition</th>\n",
       "      <th>grade</th>\n",
       "      <th>sqft_above</th>\n",
       "      <th>sqft_basement</th>\n",
       "      <th>yr_built</th>\n",
       "      <th>yr_renovated</th>\n",
       "      <th>zipcode</th>\n",
       "      <th>lat</th>\n",
       "      <th>long</th>\n",
       "      <th>sqft_living15</th>\n",
       "      <th>sqft_lot15</th>\n",
       "    </tr>\n",
       "  </thead>\n",
       "  <tbody>\n",
       "    <tr>\n",
       "      <th>count</th>\n",
       "      <td>2.161300e+04</td>\n",
       "      <td>2.161300e+04</td>\n",
       "      <td>21613.000000</td>\n",
       "      <td>21613.000000</td>\n",
       "      <td>21613.000000</td>\n",
       "      <td>2.161300e+04</td>\n",
       "      <td>21613.000000</td>\n",
       "      <td>21613.000000</td>\n",
       "      <td>21613.000000</td>\n",
       "      <td>21613.000000</td>\n",
       "      <td>21613.000000</td>\n",
       "      <td>21613.000000</td>\n",
       "      <td>21613.000000</td>\n",
       "      <td>21613.000000</td>\n",
       "      <td>21613.000000</td>\n",
       "      <td>21613.000000</td>\n",
       "      <td>21613.000000</td>\n",
       "      <td>21613.000000</td>\n",
       "      <td>21613.000000</td>\n",
       "      <td>21613.000000</td>\n",
       "    </tr>\n",
       "    <tr>\n",
       "      <th>mean</th>\n",
       "      <td>4.580302e+09</td>\n",
       "      <td>5.400881e+05</td>\n",
       "      <td>3.370842</td>\n",
       "      <td>2.114757</td>\n",
       "      <td>2079.899736</td>\n",
       "      <td>1.510697e+04</td>\n",
       "      <td>1.494309</td>\n",
       "      <td>0.007542</td>\n",
       "      <td>0.234303</td>\n",
       "      <td>3.409430</td>\n",
       "      <td>7.656873</td>\n",
       "      <td>1788.390691</td>\n",
       "      <td>291.509045</td>\n",
       "      <td>1971.005136</td>\n",
       "      <td>84.402258</td>\n",
       "      <td>98077.939805</td>\n",
       "      <td>47.560053</td>\n",
       "      <td>-122.213896</td>\n",
       "      <td>1986.552492</td>\n",
       "      <td>12768.455652</td>\n",
       "    </tr>\n",
       "    <tr>\n",
       "      <th>std</th>\n",
       "      <td>2.876566e+09</td>\n",
       "      <td>3.671272e+05</td>\n",
       "      <td>0.930062</td>\n",
       "      <td>0.770163</td>\n",
       "      <td>918.440897</td>\n",
       "      <td>4.142051e+04</td>\n",
       "      <td>0.539989</td>\n",
       "      <td>0.086517</td>\n",
       "      <td>0.766318</td>\n",
       "      <td>0.650743</td>\n",
       "      <td>1.175459</td>\n",
       "      <td>828.090978</td>\n",
       "      <td>442.575043</td>\n",
       "      <td>29.373411</td>\n",
       "      <td>401.679240</td>\n",
       "      <td>53.505026</td>\n",
       "      <td>0.138564</td>\n",
       "      <td>0.140828</td>\n",
       "      <td>685.391304</td>\n",
       "      <td>27304.179631</td>\n",
       "    </tr>\n",
       "    <tr>\n",
       "      <th>min</th>\n",
       "      <td>1.000102e+06</td>\n",
       "      <td>7.500000e+04</td>\n",
       "      <td>0.000000</td>\n",
       "      <td>0.000000</td>\n",
       "      <td>290.000000</td>\n",
       "      <td>5.200000e+02</td>\n",
       "      <td>1.000000</td>\n",
       "      <td>0.000000</td>\n",
       "      <td>0.000000</td>\n",
       "      <td>1.000000</td>\n",
       "      <td>1.000000</td>\n",
       "      <td>290.000000</td>\n",
       "      <td>0.000000</td>\n",
       "      <td>1900.000000</td>\n",
       "      <td>0.000000</td>\n",
       "      <td>98001.000000</td>\n",
       "      <td>47.155900</td>\n",
       "      <td>-122.519000</td>\n",
       "      <td>399.000000</td>\n",
       "      <td>651.000000</td>\n",
       "    </tr>\n",
       "    <tr>\n",
       "      <th>25%</th>\n",
       "      <td>2.123049e+09</td>\n",
       "      <td>3.219500e+05</td>\n",
       "      <td>3.000000</td>\n",
       "      <td>1.750000</td>\n",
       "      <td>1427.000000</td>\n",
       "      <td>5.040000e+03</td>\n",
       "      <td>1.000000</td>\n",
       "      <td>0.000000</td>\n",
       "      <td>0.000000</td>\n",
       "      <td>3.000000</td>\n",
       "      <td>7.000000</td>\n",
       "      <td>1190.000000</td>\n",
       "      <td>0.000000</td>\n",
       "      <td>1951.000000</td>\n",
       "      <td>0.000000</td>\n",
       "      <td>98033.000000</td>\n",
       "      <td>47.471000</td>\n",
       "      <td>-122.328000</td>\n",
       "      <td>1490.000000</td>\n",
       "      <td>5100.000000</td>\n",
       "    </tr>\n",
       "    <tr>\n",
       "      <th>50%</th>\n",
       "      <td>3.904930e+09</td>\n",
       "      <td>4.500000e+05</td>\n",
       "      <td>3.000000</td>\n",
       "      <td>2.250000</td>\n",
       "      <td>1910.000000</td>\n",
       "      <td>7.618000e+03</td>\n",
       "      <td>1.500000</td>\n",
       "      <td>0.000000</td>\n",
       "      <td>0.000000</td>\n",
       "      <td>3.000000</td>\n",
       "      <td>7.000000</td>\n",
       "      <td>1560.000000</td>\n",
       "      <td>0.000000</td>\n",
       "      <td>1975.000000</td>\n",
       "      <td>0.000000</td>\n",
       "      <td>98065.000000</td>\n",
       "      <td>47.571800</td>\n",
       "      <td>-122.230000</td>\n",
       "      <td>1840.000000</td>\n",
       "      <td>7620.000000</td>\n",
       "    </tr>\n",
       "    <tr>\n",
       "      <th>75%</th>\n",
       "      <td>7.308900e+09</td>\n",
       "      <td>6.450000e+05</td>\n",
       "      <td>4.000000</td>\n",
       "      <td>2.500000</td>\n",
       "      <td>2550.000000</td>\n",
       "      <td>1.068800e+04</td>\n",
       "      <td>2.000000</td>\n",
       "      <td>0.000000</td>\n",
       "      <td>0.000000</td>\n",
       "      <td>4.000000</td>\n",
       "      <td>8.000000</td>\n",
       "      <td>2210.000000</td>\n",
       "      <td>560.000000</td>\n",
       "      <td>1997.000000</td>\n",
       "      <td>0.000000</td>\n",
       "      <td>98118.000000</td>\n",
       "      <td>47.678000</td>\n",
       "      <td>-122.125000</td>\n",
       "      <td>2360.000000</td>\n",
       "      <td>10083.000000</td>\n",
       "    </tr>\n",
       "    <tr>\n",
       "      <th>max</th>\n",
       "      <td>9.900000e+09</td>\n",
       "      <td>7.700000e+06</td>\n",
       "      <td>33.000000</td>\n",
       "      <td>8.000000</td>\n",
       "      <td>13540.000000</td>\n",
       "      <td>1.651359e+06</td>\n",
       "      <td>3.500000</td>\n",
       "      <td>1.000000</td>\n",
       "      <td>4.000000</td>\n",
       "      <td>5.000000</td>\n",
       "      <td>13.000000</td>\n",
       "      <td>9410.000000</td>\n",
       "      <td>4820.000000</td>\n",
       "      <td>2015.000000</td>\n",
       "      <td>2015.000000</td>\n",
       "      <td>98199.000000</td>\n",
       "      <td>47.777600</td>\n",
       "      <td>-121.315000</td>\n",
       "      <td>6210.000000</td>\n",
       "      <td>871200.000000</td>\n",
       "    </tr>\n",
       "  </tbody>\n",
       "</table>\n",
       "</div>"
      ],
      "text/plain": [
       "                 id         price      bedrooms     bathrooms   sqft_living  \\\n",
       "count  2.161300e+04  2.161300e+04  21613.000000  21613.000000  21613.000000   \n",
       "mean   4.580302e+09  5.400881e+05      3.370842      2.114757   2079.899736   \n",
       "std    2.876566e+09  3.671272e+05      0.930062      0.770163    918.440897   \n",
       "min    1.000102e+06  7.500000e+04      0.000000      0.000000    290.000000   \n",
       "25%    2.123049e+09  3.219500e+05      3.000000      1.750000   1427.000000   \n",
       "50%    3.904930e+09  4.500000e+05      3.000000      2.250000   1910.000000   \n",
       "75%    7.308900e+09  6.450000e+05      4.000000      2.500000   2550.000000   \n",
       "max    9.900000e+09  7.700000e+06     33.000000      8.000000  13540.000000   \n",
       "\n",
       "           sqft_lot        floors    waterfront          view     condition  \\\n",
       "count  2.161300e+04  21613.000000  21613.000000  21613.000000  21613.000000   \n",
       "mean   1.510697e+04      1.494309      0.007542      0.234303      3.409430   \n",
       "std    4.142051e+04      0.539989      0.086517      0.766318      0.650743   \n",
       "min    5.200000e+02      1.000000      0.000000      0.000000      1.000000   \n",
       "25%    5.040000e+03      1.000000      0.000000      0.000000      3.000000   \n",
       "50%    7.618000e+03      1.500000      0.000000      0.000000      3.000000   \n",
       "75%    1.068800e+04      2.000000      0.000000      0.000000      4.000000   \n",
       "max    1.651359e+06      3.500000      1.000000      4.000000      5.000000   \n",
       "\n",
       "              grade    sqft_above  sqft_basement      yr_built  yr_renovated  \\\n",
       "count  21613.000000  21613.000000   21613.000000  21613.000000  21613.000000   \n",
       "mean       7.656873   1788.390691     291.509045   1971.005136     84.402258   \n",
       "std        1.175459    828.090978     442.575043     29.373411    401.679240   \n",
       "min        1.000000    290.000000       0.000000   1900.000000      0.000000   \n",
       "25%        7.000000   1190.000000       0.000000   1951.000000      0.000000   \n",
       "50%        7.000000   1560.000000       0.000000   1975.000000      0.000000   \n",
       "75%        8.000000   2210.000000     560.000000   1997.000000      0.000000   \n",
       "max       13.000000   9410.000000    4820.000000   2015.000000   2015.000000   \n",
       "\n",
       "            zipcode           lat          long  sqft_living15     sqft_lot15  \n",
       "count  21613.000000  21613.000000  21613.000000   21613.000000   21613.000000  \n",
       "mean   98077.939805     47.560053   -122.213896    1986.552492   12768.455652  \n",
       "std       53.505026      0.138564      0.140828     685.391304   27304.179631  \n",
       "min    98001.000000     47.155900   -122.519000     399.000000     651.000000  \n",
       "25%    98033.000000     47.471000   -122.328000    1490.000000    5100.000000  \n",
       "50%    98065.000000     47.571800   -122.230000    1840.000000    7620.000000  \n",
       "75%    98118.000000     47.678000   -122.125000    2360.000000   10083.000000  \n",
       "max    98199.000000     47.777600   -121.315000    6210.000000  871200.000000  "
      ]
     },
     "execution_count": 5,
     "metadata": {},
     "output_type": "execute_result"
    }
   ],
   "source": [
    "df.describe()"
   ]
  },
  {
   "cell_type": "markdown",
   "id": "a0ea2816-7210-4ff6-89c2-8ebc1e0440aa",
   "metadata": {},
   "source": [
    "So we have 21,613 records, 21 columns, and no missing values."
   ]
  },
  {
   "cell_type": "code",
   "execution_count": 6,
   "id": "0bdd5164-f886-4683-aac1-f0121a894d98",
   "metadata": {},
   "outputs": [
    {
     "data": {
      "text/plain": [
       "id\n",
       "795000620     3\n",
       "8651510380    2\n",
       "2568300045    2\n",
       "9353300600    2\n",
       "4139480200    2\n",
       "             ..\n",
       "2767603649    1\n",
       "1446403617    1\n",
       "5602000275    1\n",
       "1786200010    1\n",
       "1523300157    1\n",
       "Name: count, Length: 21436, dtype: int64"
      ]
     },
     "execution_count": 6,
     "metadata": {},
     "output_type": "execute_result"
    }
   ],
   "source": [
    "df.id.value_counts()"
   ]
  },
  {
   "cell_type": "markdown",
   "id": "ad88d872-554b-4b02-9e96-4d3134202275",
   "metadata": {},
   "source": [
    "* `id` - This column has 21,436 distinct values (so some properties are listed multiple times; some twice and one thrice).\n",
    "* `date` - This column appears to be a string in `YYYYMMDDTHHMMSS` format.\n",
    "* `price` - The sale price for the house (assumed to be in USD(\\\\$)) ranging from \\\\$75,000 to \\\\$7,700,000 (\\\\$540,000 +/- \\\\$367,000).\n",
    "* `bedrooms` - Number of bedrooms ranging from 0 to 33.\n",
    "* `bathrooms` - Number of bathrooms ranging from 0 to 8 (as a float, so there must be half baths accounted for).\n",
    "* `sqft_living` - Square footage of living space ranging from 290 to 13,540.\n",
    "* `sqft_lot` - Lot size in square feet ranging from 520 to 1,651,000.\n",
    "* `floors` - Number of floors ranging from 1 to 3.5 (not quite sure what a 1/2 floor is).\n",
    "* `waterfront` - Boolean indicator (0 or 1) if the living space overlooks waterfront.\n",
    "* `view` - An index from 0 (worst) to 4 (best) of how good the view is.\n",
    "* `condition` - An index from 1 (worst) to 5 (best) of the condition of the living space.\n",
    "* `grade` - An index from 1-3 (falls short), 4-10 (average), 11-13 (high) of the construction and design quality.\n",
    "* `sqft_above` - The square footage of the house that is above ground level ranging from 290 to 9410.\n",
    "* `sqft_basement` - The square footage of the house that is below ground level ranging from 0 to 4820.\n",
    "* `yr_built` - The year the house was built ranging from 1900 to 2015 (note that 1900 likely means unknown).\n",
    "* `yr_renovated` - The year the house was last renovated ranging from 0 to 2015 (0 likely means never renovated or unknown).\n",
    "* `zipcode` - The 5-digit zip code ranging from 98001 to 98199.\n",
    "* `lat` - The latitude (degrees north of equator) ranging from 47.1 to 47.7.\n",
    "* `long` - The longitude (degrees east of prime meridian, negative meaning west) ranging from -122.5 to -121.3.\n",
    "* `sqft_living15` - Living room size in 2015 (must assume renovations?).\n",
    "* `sqft_lot15` - Lot size in 2015 (must assume renovations?)."
   ]
  },
  {
   "cell_type": "markdown",
   "id": "52b7f4f7-412f-492e-a64c-c7ca2208b93a",
   "metadata": {},
   "source": [
    "### ID Analysis\n",
    "\n",
    "There were duplicate property records in the original dataset.  Let us filter down to only the most recent record for each property."
   ]
  },
  {
   "cell_type": "code",
   "execution_count": 7,
   "id": "64380992-4676-4133-b547-bd7be63a3f66",
   "metadata": {},
   "outputs": [
    {
     "data": {
      "text/plain": [
       "(21436, 21)"
      ]
     },
     "execution_count": 7,
     "metadata": {},
     "output_type": "execute_result"
    }
   ],
   "source": [
    "filtered_df = df[df.groupby(\"id\", as_index=False).date.transform(max) == df.date].copy()\n",
    "filtered_df.shape"
   ]
  },
  {
   "cell_type": "markdown",
   "id": "886e471e-3bb0-429f-9a7f-0fff1a9733a4",
   "metadata": {},
   "source": [
    "### Date Analysis\n",
    "\n",
    "Let us extract the year the property was sold as an int so that we can derive an age property."
   ]
  },
  {
   "cell_type": "code",
   "execution_count": 8,
   "id": "deeb8034-55b6-4179-8d17-161ff480e7b6",
   "metadata": {},
   "outputs": [
    {
     "data": {
      "text/plain": [
       "count    21436.000000\n",
       "mean      2014.325247\n",
       "std          0.468478\n",
       "min       2014.000000\n",
       "25%       2014.000000\n",
       "50%       2014.000000\n",
       "75%       2015.000000\n",
       "max       2015.000000\n",
       "Name: yr_sold, dtype: float64"
      ]
     },
     "execution_count": 8,
     "metadata": {},
     "output_type": "execute_result"
    }
   ],
   "source": [
    "filtered_df[\"yr_sold\"] = filtered_df.date.apply(lambda value: int(value[:4]))\n",
    "filtered_df.yr_sold.describe()"
   ]
  },
  {
   "cell_type": "markdown",
   "id": "6feb91c6-92a2-4198-931d-4775fb380cb1",
   "metadata": {},
   "source": [
    "### Bedrooms Analysis\n",
    "\n",
    "Let us look at the distinct values for bedrooms and a histogram plot."
   ]
  },
  {
   "cell_type": "code",
   "execution_count": 9,
   "id": "b9b63b14-8f79-4f2b-a228-23395c5cfbf5",
   "metadata": {},
   "outputs": [
    {
     "data": {
      "text/plain": [
       "bedrooms\n",
       "3     9731\n",
       "4     6849\n",
       "2     2736\n",
       "5     1586\n",
       "6      265\n",
       "1      194\n",
       "7       38\n",
       "0       13\n",
       "8       13\n",
       "9        6\n",
       "10       3\n",
       "11       1\n",
       "33       1\n",
       "Name: count, dtype: int64"
      ]
     },
     "execution_count": 9,
     "metadata": {},
     "output_type": "execute_result"
    }
   ],
   "source": [
    "filtered_df.bedrooms.value_counts()"
   ]
  },
  {
   "cell_type": "code",
   "execution_count": 10,
   "id": "261ec77c-fe6a-48d2-bb98-fd0af91dd27d",
   "metadata": {},
   "outputs": [
    {
     "data": {
      "image/png": "[encoded data removed]",
      "text/plain": [
       "<Figure size 960x720 with 1 Axes>"
      ]
     },
     "metadata": {},
     "output_type": "display_data"
    }
   ],
   "source": [
    "plot_bedrooms = sns.histplot(filtered_df.bedrooms, bins=30)\n",
    "plot_bedrooms.set(xlabel=\"Bedrooms\", ylabel=\"Count\");"
   ]
  },
  {
   "cell_type": "markdown",
   "id": "b4e27e6f-41ce-49ce-95eb-e5448aa38404",
   "metadata": {},
   "source": [
    "We can see that 13 properties have a bedroom count of zero.  We can exclude these.  We can also see that there is one big outlier with a bedroom count of 33 that we should definitely exclude.  However, there are only 10 properties with more than 8 bedrooms (6 with 9, 3 with 10, and 1 with 11).  We don't have a large enough sample to split into valid train/test groups for those so we will also exclude those extremes.\n",
    "\n",
    "We will also convert the remaining columns to a categorical type."
   ]
  },
  {
   "cell_type": "code",
   "execution_count": 11,
   "id": "a9915e6a-185d-4374-9e27-893939233c6b",
   "metadata": {},
   "outputs": [
    {
     "data": {
      "text/plain": [
       "(21412, 22)"
      ]
     },
     "execution_count": 11,
     "metadata": {},
     "output_type": "execute_result"
    }
   ],
   "source": [
    "filtered_df = filtered_df[(filtered_df.bedrooms >= 1) & (filtered_df.bedrooms <= 8)]\n",
    "filtered_df.shape"
   ]
  },
  {
   "cell_type": "code",
   "execution_count": 12,
   "id": "b5e89f88-2331-4d01-bd69-1f625821c0e9",
   "metadata": {},
   "outputs": [
    {
     "data": {
      "text/plain": [
       "Index([1, 2, 3, 4, 5, 6, 7, 8], dtype='int64')"
      ]
     },
     "execution_count": 12,
     "metadata": {},
     "output_type": "execute_result"
    }
   ],
   "source": [
    "filtered_df.bedrooms = filtered_df.bedrooms.astype('category')\n",
    "filtered_df.bedrooms.cat.categories"
   ]
  },
  {
   "cell_type": "markdown",
   "id": "3420aa0d-0d0a-4b52-b0a8-100ee75a423a",
   "metadata": {},
   "source": [
    "### Bathrooms Analysis\n",
    "\n",
    "Let us look at the distinct values for bathrooms and a histogram plot."
   ]
  },
  {
   "cell_type": "code",
   "execution_count": 13,
   "id": "8b46db36-3fa5-4f41-8534-7d7e275ac683",
   "metadata": {},
   "outputs": [
    {
     "data": {
      "text/plain": [
       "bathrooms\n",
       "2.50    5352\n",
       "1.00    3794\n",
       "1.75    3019\n",
       "2.25    2031\n",
       "2.00    1912\n",
       "1.50    1429\n",
       "2.75    1182\n",
       "3.00     743\n",
       "3.50     729\n",
       "3.25     586\n",
       "3.75     155\n",
       "4.00     133\n",
       "4.50      97\n",
       "4.25      79\n",
       "0.75      70\n",
       "4.75      23\n",
       "5.00      21\n",
       "5.25      12\n",
       "5.50      10\n",
       "1.25       9\n",
       "6.00       6\n",
       "0.50       4\n",
       "5.75       4\n",
       "0.00       3\n",
       "6.75       2\n",
       "8.00       2\n",
       "6.25       2\n",
       "6.50       2\n",
       "7.75       1\n",
       "Name: count, dtype: int64"
      ]
     },
     "execution_count": 13,
     "metadata": {},
     "output_type": "execute_result"
    }
   ],
   "source": [
    "filtered_df.bathrooms.value_counts()"
   ]
  },
  {
   "cell_type": "code",
   "execution_count": 14,
   "id": "9de706d5-6c65-465d-a973-83b95fc688e0",
   "metadata": {},
   "outputs": [
    {
     "data": {
      "image/png": "[encoded data removed]",
      "text/plain": [
       "<Figure size 960x720 with 1 Axes>"
      ]
     },
     "metadata": {},
     "output_type": "display_data"
    }
   ],
   "source": [
    "plot_bathrooms = sns.histplot(filtered_df.bathrooms, bins=15)\n",
    "plot_bathrooms.set(xlabel=\"Bathrooms\", ylabel=\"Count\");"
   ]
  },
  {
   "cell_type": "markdown",
   "id": "984d15f4-0fba-4f7e-8f0c-d5a273cb2dfc",
   "metadata": {},
   "source": [
    "We can see that there are 3 remaining properties with zero bathrooms listed that we can likely filter out.  There are also a whole number of bathrooms between 1 and 8 but with only 15 with 6 or more.  We can also see that there is a fractional bathroom (quarter, half, three-quarters) with 4 at 0.50 and 70 at 0.75.  This is interesting, because we can ignore the 0 bathrooms items, but if we split out the partial bathrooms from the full bathrooms we will be left with zero whole bathrooms and that will be valid data."
   ]
  },
  {
   "cell_type": "code",
   "execution_count": 15,
   "id": "677a9373-683f-4386-9d3b-bb1edd65f6d8",
   "metadata": {},
   "outputs": [
    {
     "data": {
      "text/plain": [
       "(21394, 22)"
      ]
     },
     "execution_count": 15,
     "metadata": {},
     "output_type": "execute_result"
    }
   ],
   "source": [
    "filtered_df = filtered_df[(filtered_df.bathrooms > 0) & (filtered_df.bathrooms < 6)]\n",
    "filtered_df.shape"
   ]
  },
  {
   "cell_type": "markdown",
   "id": "0258f1ce-2fb5-4fee-b017-ce87ea4a7587",
   "metadata": {},
   "source": [
    "So we are down to 21394 rows.  Let us create a new `whole_bathrooms` feature."
   ]
  },
  {
   "cell_type": "code",
   "execution_count": 16,
   "id": "b0c50946-4ed6-4ea8-8789-ea872a8f3a03",
   "metadata": {},
   "outputs": [
    {
     "data": {
      "text/plain": [
       "Index([0, 1, 2, 3, 4, 5], dtype='int64')"
      ]
     },
     "execution_count": 16,
     "metadata": {},
     "output_type": "execute_result"
    }
   ],
   "source": [
    "filtered_df['whole_bathrooms'] = filtered_df.bathrooms.apply(lambda value: np.trunc(value)).astype('int64').astype('category')\n",
    "filtered_df.whole_bathrooms.cat.categories"
   ]
  },
  {
   "cell_type": "markdown",
   "id": "82aea060-d1a3-4442-b146-10afd482a9e5",
   "metadata": {},
   "source": [
    "And let us convert the partial bathroom information into a categorical feature `partial_bathroom`: 0 - none, 1 - 0.25, 2 - 0.50, 3 - 0.75."
   ]
  },
  {
   "cell_type": "code",
   "execution_count": 17,
   "id": "a28c92a8-334e-493e-935e-7722835af3d8",
   "metadata": {},
   "outputs": [
    {
     "data": {
      "text/plain": [
       "Index([0, 1, 2, 3], dtype='int64')"
      ]
     },
     "execution_count": 17,
     "metadata": {},
     "output_type": "execute_result"
    }
   ],
   "source": [
    "filtered_df['partial_bathroom'] = filtered_df.bathrooms.apply(lambda value: 4 * (value - np.trunc(value))).astype('int64').astype('category')\n",
    "filtered_df.partial_bathroom.cat.categories"
   ]
  },
  {
   "cell_type": "markdown",
   "id": "3e53b7fd-4405-4dff-9945-ee974e9760d5",
   "metadata": {},
   "source": [
    "### Square Footage - Living Space Analysis\n",
    "\n",
    "Let us look at `sqft_living`."
   ]
  },
  {
   "cell_type": "code",
   "execution_count": 19,
   "id": "30937e33-b8bd-4b32-9cad-b28851492e40",
   "metadata": {},
   "outputs": [
    {
     "data": {
      "image/png": "[encoded data removed]",
      "text/plain": [
       "<Figure size 960x720 with 1 Axes>"
      ]
     },
     "metadata": {},
     "output_type": "display_data"
    }
   ],
   "source": [
    "living_plot = sns.histplot(filtered_df.sqft_living)\n",
    "living_plot.set(xlabel=\"Living Space (Sq. Ft.)\", ylabel=\"Count\");"
   ]
  },
  {
   "cell_type": "markdown",
   "id": "906d38b5-abd6-48db-98e9-93e071ec8f01",
   "metadata": {},
   "source": [
    "We can see we have a skewed distribution that trails off around 6,000 square feet.  We can truncate that tail."
   ]
  },
  {
   "cell_type": "code",
   "execution_count": 20,
   "id": "aab2f997-43a7-4ffd-85cf-99fc91f4e3d8",
   "metadata": {},
   "outputs": [
    {
     "data": {
      "text/plain": [
       "(21339, 24)"
      ]
     },
     "execution_count": 20,
     "metadata": {},
     "output_type": "execute_result"
    }
   ],
   "source": [
    "filtered_df = filtered_df[(filtered_df.sqft_living > 0) & (filtered_df.sqft_living <= 6000)]\n",
    "filtered_df.shape"
   ]
  },
  {
   "cell_type": "markdown",
   "id": "19533e9c-021a-4bc1-acd9-1290ac2fa7ec",
   "metadata": {},
   "source": [
    "And we can see we are down to 21,339 rows."
   ]
  },
  {
   "cell_type": "markdown",
   "id": "46282a8e-b871-427e-8aeb-a5d4ad747811",
   "metadata": {},
   "source": [
    "### Square Footage - Lot Size Analysis\n",
    "\n",
    "Let us look at `sqft_lot`."
   ]
  },
  {
   "cell_type": "code",
   "execution_count": 22,
   "id": "d4a1965d-3191-42dd-9670-f84c9e3fcc50",
   "metadata": {},
   "outputs": [
    {
     "data": {
      "image/png": "[encoded data removed]",
      "text/plain": [
       "<Figure size 960x720 with 1 Axes>"
      ]
     },
     "metadata": {},
     "output_type": "display_data"
    }
   ],
   "source": [
    "lot_plot = sns.histplot(filtered_df.sqft_lot, bins=30)\n",
    "lot_plot.set(xlabel=\"Lot Size (Sq. Ft.)\", ylabel=\"Count\");"
   ]
  },
  {
   "cell_type": "markdown",
   "id": "ca68f5f9-08a8-4ae2-a188-56e6c576f884",
   "metadata": {},
   "source": [
    "There is something drastically wrong with some outliers in this distribution.  Let us find those outliers and try again."
   ]
  },
  {
   "cell_type": "code",
   "execution_count": 25,
   "id": "f6ef1d4d-6633-4e0b-857c-48aa0fb1b75f",
   "metadata": {},
   "outputs": [
    {
     "data": {
      "text/plain": [
       "(69, 24)"
      ]
     },
     "execution_count": 25,
     "metadata": {},
     "output_type": "execute_result"
    }
   ],
   "source": [
    "filtered_df[filtered_df.sqft_lot > 300000].shape"
   ]
  },
  {
   "cell_type": "markdown",
   "id": "02b1ce2e-b5bc-41ba-95cc-9229b9a13a58",
   "metadata": {},
   "source": [
    "So there are about 69 reamining properties with lot sizes over 300K sq. ft.  Let us exclude those and generate a new histogram."
   ]
  },
  {
   "cell_type": "code",
   "execution_count": 27,
   "id": "1075598b-decb-452c-9507-c45a55454b37",
   "metadata": {},
   "outputs": [
    {
     "data": {
      "image/png": "[encoded data removed]",
      "text/plain": [
       "<Figure size 960x720 with 1 Axes>"
      ]
     },
     "metadata": {},
     "output_type": "display_data"
    }
   ],
   "source": [
    "filtered_df = filtered_df[filtered_df.sqft_lot <= 300000]\n",
    "lot_plot = sns.histplot(filtered_df.sqft_lot)\n",
    "lot_plot.set(xlabel=\"Lot Size (Sq. Ft.)\", ylabel=\"Count\");"
   ]
  },
  {
   "cell_type": "markdown",
   "id": "62c6b08a-2294-4770-9520-5378c751da39",
   "metadata": {},
   "source": [
    "That gives us a slightly better view of the histogram, but we can still see it is heavily skewed.  Let us drop that tail down to 100K sq. ft."
   ]
  },
  {
   "cell_type": "code",
   "execution_count": 28,
   "id": "5ca80a17-456d-4ece-b30d-e7fef91ffe4e",
   "metadata": {},
   "outputs": [
    {
     "data": {
      "image/png": "[encoded data removed]",
      "text/plain": [
       "<Figure size 960x720 with 1 Axes>"
      ]
     },
     "metadata": {},
     "output_type": "display_data"
    }
   ],
   "source": [
    "filtered_df = filtered_df[filtered_df.sqft_lot <= 100000]\n",
    "lot_plot = sns.histplot(filtered_df.sqft_lot)\n",
    "lot_plot.set(xlabel=\"Lot Size (Sq. Ft.)\", ylabel=\"Count\");"
   ]
  },
  {
   "cell_type": "markdown",
   "id": "b9f3441f-ab21-4027-82bb-1a6e9888f1d8",
   "metadata": {},
   "source": [
    "This is still immensely skewed, but we will leave the rest of the data for now.  In part 4 (feature engineering) we can convert the lot size into a categorical variable using bins."
   ]
  },
  {
   "cell_type": "code",
   "execution_count": 29,
   "id": "46d3de34-c897-48af-a1e6-6b72b19a9b20",
   "metadata": {},
   "outputs": [
    {
     "data": {
      "text/plain": [
       "(20891, 24)"
      ]
     },
     "execution_count": 29,
     "metadata": {},
     "output_type": "execute_result"
    }
   ],
   "source": [
    "filtered_df.shape"
   ]
  },
  {
   "cell_type": "markdown",
   "id": "f002b781-8059-47d7-8470-7f28eca2808e",
   "metadata": {},
   "source": [
    "We can see we are down to 20,891 rows."
   ]
  },
  {
   "cell_type": "markdown",
   "id": "eddee580-de0d-4ce4-91b8-3a7e5a4873b0",
   "metadata": {},
   "source": [
    "### Floors Analysis\n",
    "\n",
    "Let us analyze `floors`."
   ]
  },
  {
   "cell_type": "code",
   "execution_count": 30,
   "id": "a498197c-e566-4298-9889-7a4073fbf748",
   "metadata": {},
   "outputs": [
    {
     "data": {
      "text/plain": [
       "floors\n",
       "1.0    10362\n",
       "2.0     7947\n",
       "1.5     1828\n",
       "3.0      604\n",
       "2.5      144\n",
       "3.5        6\n",
       "Name: count, dtype: int64"
      ]
     },
     "execution_count": 30,
     "metadata": {},
     "output_type": "execute_result"
    }
   ],
   "source": [
    "filtered_df.floors.value_counts()"
   ]
  },
  {
   "cell_type": "markdown",
   "id": "1e1c0315-4478-4500-bda7-4d86ed0f2d3a",
   "metadata": {},
   "source": [
    "This is another interesting case where we have half-floors being recorded.  Let us split this up like we did with bathrooms."
   ]
  },
  {
   "cell_type": "code",
   "execution_count": 31,
   "id": "d27eb1c4-fcc2-475c-be2b-d0e67ffb1c07",
   "metadata": {},
   "outputs": [
    {
     "data": {
      "text/plain": [
       "Index([1, 2, 3], dtype='int64')"
      ]
     },
     "execution_count": 31,
     "metadata": {},
     "output_type": "execute_result"
    }
   ],
   "source": [
    "filtered_df['whole_floors'] = filtered_df.floors.apply(lambda value: np.trunc(value)).astype('int64').astype('category')\n",
    "filtered_df.whole_floors.cat.categories"
   ]
  },
  {
   "cell_type": "code",
   "execution_count": 32,
   "id": "f077251e-644c-4106-aa43-5150f8f2abf3",
   "metadata": {},
   "outputs": [
    {
     "data": {
      "text/plain": [
       "Index([0, 1], dtype='int64')"
      ]
     },
     "execution_count": 32,
     "metadata": {},
     "output_type": "execute_result"
    }
   ],
   "source": [
    "filtered_df['partial_floors'] = filtered_df.floors.apply(lambda value: 2 * (value - np.trunc(value))).astype('int64').astype('category')\n",
    "filtered_df.partial_floors.cat.categories"
   ]
  },
  {
   "cell_type": "markdown",
   "id": "abdf4388-48df-4f13-ba4a-ee23f7445a91",
   "metadata": {},
   "source": [
    "### Waterfront Analysis\n",
    "\n",
    "Let us analyze `waterfront`."
   ]
  },
  {
   "cell_type": "code",
   "execution_count": 34,
   "id": "0b9143a6-de48-4aa2-a095-ba6a666300a4",
   "metadata": {},
   "outputs": [
    {
     "data": {
      "text/plain": [
       "waterfront\n",
       "0    20739\n",
       "1      152\n",
       "Name: count, dtype: int64"
      ]
     },
     "execution_count": 34,
     "metadata": {},
     "output_type": "execute_result"
    }
   ],
   "source": [
    "filtered_df.waterfront.value_counts()"
   ]
  },
  {
   "cell_type": "markdown",
   "id": "e78ab09f-3993-4aeb-9b74-a99adb154226",
   "metadata": {},
   "source": [
    "We only appear to have 152 remaining properties with a waterfront view.  We can just convert this to a categorical and move on."
   ]
  },
  {
   "cell_type": "code",
   "execution_count": 36,
   "id": "8c8bbca7-2e3b-49c2-88c2-2c8251416c36",
   "metadata": {},
   "outputs": [
    {
     "data": {
      "text/plain": [
       "Index([0, 1], dtype='int64')"
      ]
     },
     "execution_count": 36,
     "metadata": {},
     "output_type": "execute_result"
    }
   ],
   "source": [
    "filtered_df.waterfront = filtered_df.waterfront.astype('category')\n",
    "filtered_df.waterfront.cat.categories"
   ]
  },
  {
   "cell_type": "markdown",
   "id": "778d37fe-d28d-41e4-86e6-963c8e582d72",
   "metadata": {},
   "source": [
    "### View Analysis\n",
    "\n",
    "Let us analyze the `view` feature."
   ]
  },
  {
   "cell_type": "code",
   "execution_count": 37,
   "id": "21763c89-1450-4a84-85d7-11c3f97c48b9",
   "metadata": {},
   "outputs": [
    {
     "data": {
      "text/plain": [
       "view\n",
       "0    18891\n",
       "2      912\n",
       "3      466\n",
       "1      326\n",
       "4      296\n",
       "Name: count, dtype: int64"
      ]
     },
     "execution_count": 37,
     "metadata": {},
     "output_type": "execute_result"
    }
   ],
   "source": [
    "filtered_df.view.value_counts()"
   ]
  },
  {
   "cell_type": "markdown",
   "id": "270406a4-b10c-49fa-acdb-98aeae7ec427",
   "metadata": {},
   "source": [
    "This one is interesting.  The majority of all properties have a zero value which likely means there is no view.  The remaining properties have values from 1 to 4.  We will also convert this to a categorical variable since the scale between better views isn't likely going to be linear."
   ]
  },
  {
   "cell_type": "code",
   "execution_count": 40,
   "id": "2ba8a7fb-7e6f-490b-9eb7-9d0de248c163",
   "metadata": {},
   "outputs": [
    {
     "data": {
      "text/plain": [
       "Index([0, 1, 2, 3, 4], dtype='int64')"
      ]
     },
     "execution_count": 40,
     "metadata": {},
     "output_type": "execute_result"
    }
   ],
   "source": [
    "filtered_df.view = filtered_df.view.astype('category')\n",
    "filtered_df.view.cat.categories"
   ]
  },
  {
   "cell_type": "code",
   "execution_count": null,
   "id": "a2521b17-94d2-48c7-8c8f-7b08be6e756f",
   "metadata": {},
   "outputs": [],
   "source": []
  }
 ],
 "metadata": {
  "kernelspec": {
   "display_name": "Python 3 (ipykernel)",
   "language": "python",
   "name": "python3"
  },
  "language_info": {
   "codemirror_mode": {
    "name": "ipython",
    "version": 3
   },
   "file_extension": ".py",
   "mimetype": "text/x-python",
   "name": "python",
   "nbconvert_exporter": "python",
   "pygments_lexer": "ipython3",
   "version": "3.11.5"
  }
 },
 "nbformat": 4,
 "nbformat_minor": 5
}
