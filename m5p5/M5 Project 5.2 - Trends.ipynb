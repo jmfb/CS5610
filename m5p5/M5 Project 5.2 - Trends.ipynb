{
 "cells": [
  {
   "cell_type": "markdown",
   "id": "2efe3486-ff8b-4c04-a27f-df267bded350",
   "metadata": {},
   "source": [
    "# Time Series Forecasting (Continued)\n",
    "**Project**: M5 Project 5\n",
    "**Author**: Jacob Buysse\n",
    "\n",
    "In this project we will be performing regression modeling on flights from the New York area and adding complimentary data to see how it improves perfromance.\n",
    "\n",
    "In this notebook we will be using..."
   ]
  },
  {
   "cell_type": "code",
   "execution_count": 1,
   "id": "35bda5ea-a5c3-4c84-908c-27d155798252",
   "metadata": {},
   "outputs": [],
   "source": [
    "import pandas as pd\n",
    "import numpy as np\n",
    "import datetime\n",
    "import matplotlib as plt\n",
    "import seaborn as sns"
   ]
  },
  {
   "cell_type": "markdown",
   "id": "63b1fd43-d0c0-4fda-a2f4-0e9c39b5e371",
   "metadata": {},
   "source": [
    "We will configure our plots for readable labels, high resolution, and automatic layout."
   ]
  },
  {
   "cell_type": "code",
   "execution_count": 2,
   "id": "df778854-38da-411b-805b-10480ca9f255",
   "metadata": {},
   "outputs": [],
   "source": [
    "plt.rc(\"axes\", labelsize=18)\n",
    "plt.rc(\"figure\", dpi=150, autolayout=True)"
   ]
  },
  {
   "cell_type": "markdown",
   "id": "79c69af6-b956-422a-b524-16f472e70d6a",
   "metadata": {},
   "source": [
    "## Part II\n",
    "\n",
    "We will load our cleaned dataset and split it into a train/test set keeping the last year out for the testing set."
   ]
  },
  {
   "cell_type": "code",
   "execution_count": 3,
   "id": "5bec3bd8-6bf5-4d07-a210-873082815d2f",
   "metadata": {},
   "outputs": [
    {
     "name": "stdout",
     "output_type": "stream",
     "text": [
      "<class 'pandas.core.frame.DataFrame'>\n",
      "RangeIndex: 1826 entries, 0 to 1825\n",
      "Data columns (total 31 columns):\n",
      " #   Column                       Non-Null Count  Dtype         \n",
      "---  ------                       --------------  -----         \n",
      " 0   date                         1826 non-null   datetime64[ns]\n",
      " 1   count                        1826 non-null   int64         \n",
      " 2   year                         1826 non-null   category      \n",
      " 3   doy                          1826 non-null   int64         \n",
      " 4   month                        1826 non-null   category      \n",
      " 5   weekday                      1826 non-null   category      \n",
      " 6   weekend                      1826 non-null   bool          \n",
      " 7   leapday                      1826 non-null   bool          \n",
      " 8   PRCP                         1826 non-null   int64         \n",
      " 9   SNOW                         1826 non-null   int64         \n",
      " 10  SNWD                         1826 non-null   int64         \n",
      " 11  TMAX                         1826 non-null   int64         \n",
      " 12  TMIN                         1826 non-null   int64         \n",
      " 13  4th of July                  1826 non-null   bool          \n",
      " 14  Christmas Day                1826 non-null   bool          \n",
      " 15  Christmas Eve                1826 non-null   bool          \n",
      " 16  Columbus Day                 1826 non-null   bool          \n",
      " 17  Eastern Easter               1826 non-null   bool          \n",
      " 18  Juneteenth                   1826 non-null   bool          \n",
      " 19  Labor Day                    1826 non-null   bool          \n",
      " 20  Labor Day Weekend            1826 non-null   bool          \n",
      " 21  Martin Luther King, Jr. Day  1826 non-null   bool          \n",
      " 22  Memorial Day                 1826 non-null   bool          \n",
      " 23  New Year's Day               1826 non-null   bool          \n",
      " 24  New Year’s Eve               1826 non-null   bool          \n",
      " 25  Thanksgiving Day             1826 non-null   bool          \n",
      " 26  Thanksgiving Eve             1826 non-null   bool          \n",
      " 27  Valentine’s Day              1826 non-null   bool          \n",
      " 28  Veterans Day                 1826 non-null   bool          \n",
      " 29  Washington's Birthday        1826 non-null   bool          \n",
      " 30  Western Easter               1826 non-null   bool          \n",
      "dtypes: bool(20), category(3), datetime64[ns](1), int64(7)\n",
      "memory usage: 156.2 KB\n"
     ]
    }
   ],
   "source": [
    "df = pd.read_feather('./counts.feather')\n",
    "df.info()"
   ]
  },
  {
   "cell_type": "code",
   "execution_count": 4,
   "id": "0e5c69af-e279-49a5-a476-bc1386dc3aaa",
   "metadata": {},
   "outputs": [
    {
     "name": "stdout",
     "output_type": "stream",
     "text": [
      "Training size: (1461, 31), Testing size: (365, 31)\n"
     ]
    }
   ],
   "source": [
    "test_mask = df.year == 2017\n",
    "train_df = df[~test_mask]\n",
    "test_df = df[test_mask]\n",
    "print(f\"Training size: {train_df.shape}, Testing size: {test_df.shape}\")"
   ]
  },
  {
   "cell_type": "code",
   "execution_count": null,
   "id": "9292e58a-5a8f-4da9-95d3-3955d07a91d3",
   "metadata": {},
   "outputs": [],
   "source": []
  }
 ],
 "metadata": {
  "kernelspec": {
   "display_name": "Python 3 (ipykernel)",
   "language": "python",
   "name": "python3"
  },
  "language_info": {
   "codemirror_mode": {
    "name": "ipython",
    "version": 3
   },
   "file_extension": ".py",
   "mimetype": "text/x-python",
   "name": "python",
   "nbconvert_exporter": "python",
   "pygments_lexer": "ipython3",
   "version": "3.11.5"
  }
 },
 "nbformat": 4,
 "nbformat_minor": 5
}
