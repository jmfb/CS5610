{
 "cells": [
  {
   "cell_type": "markdown",
   "id": "4e5a1321-d51f-4147-863f-167ecd280c8c",
   "metadata": {},
   "source": [
    "# Time Series Forecasting (Continued)\n",
    "**Project**: M5 Project 5\n",
    "**Author**: Jacob Buysse\n",
    "\n",
    "In this project we will be performing regression modeling on flights from the New York area and adding complimentary data to see how it improves perfromance.\n",
    "\n",
    "In this notebook we will be using..."
   ]
  },
  {
   "cell_type": "code",
   "execution_count": 1,
   "id": "bdd1d258-d9c7-4a03-82c5-67c75b8e19ed",
   "metadata": {},
   "outputs": [],
   "source": [
    "import pandas as pd\n",
    "import numpy as np\n",
    "import datetime\n",
    "import matplotlib as plt\n",
    "import seaborn as sns\n",
    "import scipy.sparse as sp\n",
    "from sklearn.preprocessing import OneHotEncoder\n",
    "from sklearn.preprocessing import StandardScaler\n",
    "from sklearn.linear_model import Ridge"
   ]
  },
  {
   "cell_type": "markdown",
   "id": "c441cfda-9836-42e0-b4ec-af7231ef1f98",
   "metadata": {},
   "source": [
    "We will configure our plots for readable labels, high resolution, and automatic layout."
   ]
  },
  {
   "cell_type": "code",
   "execution_count": 2,
   "id": "42fb7f35-f292-4de5-b1cc-eeaf954f641f",
   "metadata": {},
   "outputs": [],
   "source": [
    "plt.rc(\"axes\", labelsize=18)\n",
    "plt.rc(\"figure\", dpi=150, autolayout=True)"
   ]
  },
  {
   "cell_type": "markdown",
   "id": "2f27d950-bac7-407f-a3cf-ff55ff5276ea",
   "metadata": {},
   "source": [
    "## Part IV\n",
    "\n",
    "Now we will use the entire dataset to train a Ridge model (gave the best predictions) and forecast the next year (2018).  We will need to get the features for 2018 like we did when cleaning the original data."
   ]
  },
  {
   "cell_type": "code",
   "execution_count": 3,
   "id": "723b803b-3114-4ab4-a0f1-93454c08a160",
   "metadata": {},
   "outputs": [],
   "source": [
    "df = pd.read_feather('./counts.feather')\n",
    "first_date = datetime.datetime(year=2013, month=1, day=1)\n",
    "df['day_serial'] = df.date.apply(lambda value: (value - first_date).days + 1)"
   ]
  },
  {
   "cell_type": "markdown",
   "id": "0df73373-dabe-4774-aa17-cd1095aa70cb",
   "metadata": {},
   "source": [
    "We will one hot encode the categorical features."
   ]
  },
  {
   "cell_type": "code",
   "execution_count": 4,
   "id": "4e2f771a-6ac7-4075-8ba4-5c583a6e0af7",
   "metadata": {},
   "outputs": [],
   "source": [
    "hot_enc = OneHotEncoder()\n",
    "cat_features = [\"month\", \"weekday\"]\n",
    "hot_enc.fit(df[cat_features])\n",
    "train_hot = hot_enc.transform(df[cat_features])"
   ]
  },
  {
   "cell_type": "markdown",
   "id": "57538072-e9a9-4637-8939-2b61546e5c3c",
   "metadata": {},
   "source": [
    "We will scale the numeric features."
   ]
  },
  {
   "cell_type": "code",
   "execution_count": 5,
   "id": "490f48ea-6888-415f-94d8-56d161746470",
   "metadata": {},
   "outputs": [],
   "source": [
    "scaler = StandardScaler()\n",
    "num_features = [\"year\", \"doy\", \"PRCP\", \"SNOW\", \"SNWD\", \"TMAX\", \"TMIN\", \"day_serial\"]\n",
    "scaler.fit(df[num_features])\n",
    "train_num = scaler.transform(df[num_features])"
   ]
  },
  {
   "cell_type": "markdown",
   "id": "0b5fbe99-cf8f-4450-b4c6-0dda5f82364e",
   "metadata": {},
   "source": [
    "Next we will collect our bool features."
   ]
  },
  {
   "cell_type": "code",
   "execution_count": 6,
   "id": "e477a5f7-f370-47c0-80ca-71f5a6052495",
   "metadata": {},
   "outputs": [],
   "source": [
    "bool_features = [\"weekend\", \"leapday\"] + df.columns[df.columns.str.contains(\"holiday_\")].values.tolist()\n",
    "train_bool = df[bool_features]"
   ]
  },
  {
   "cell_type": "markdown",
   "id": "b4ac4ab5-bee1-49d5-890f-7408353d2521",
   "metadata": {},
   "source": [
    "And finally we combined all of the datasets into X,y for train and test."
   ]
  },
  {
   "cell_type": "code",
   "execution_count": 7,
   "id": "79d13eae-1b74-4d6a-bde6-dc18568fac06",
   "metadata": {},
   "outputs": [
    {
     "name": "stdout",
     "output_type": "stream",
     "text": [
      "Train X (1826, 155), y 1826\n"
     ]
    }
   ],
   "source": [
    "train_X = sp.hstack((train_hot, train_num, train_bool))\n",
    "train_y = df['count'].values\n",
    "print(f\"Train X {train_X.shape}, y {len(train_y)}\")"
   ]
  },
  {
   "cell_type": "markdown",
   "id": "8e02e541-6d4b-41c9-a91f-62cdd0699a78",
   "metadata": {},
   "source": [
    "Now we will train our model on the entire known dataset."
   ]
  },
  {
   "cell_type": "code",
   "execution_count": 8,
   "id": "4a4ad2f1-114e-4d46-83c7-a18264152563",
   "metadata": {},
   "outputs": [
    {
     "data": {
      "text/html": [
       "<style>#sk-container-id-1 {color: black;}#sk-container-id-1 pre{padding: 0;}#sk-container-id-1 div.sk-toggleable {background-color: white;}#sk-container-id-1 label.sk-toggleable__label {cursor: pointer;display: block;width: 100%;margin-bottom: 0;padding: 0.3em;box-sizing: border-box;text-align: center;}#sk-container-id-1 label.sk-toggleable__label-arrow:before {content: \"▸\";float: left;margin-right: 0.25em;color: #696969;}#sk-container-id-1 label.sk-toggleable__label-arrow:hover:before {color: black;}#sk-container-id-1 div.sk-estimator:hover label.sk-toggleable__label-arrow:before {color: black;}#sk-container-id-1 div.sk-toggleable__content {max-height: 0;max-width: 0;overflow: hidden;text-align: left;background-color: #f0f8ff;}#sk-container-id-1 div.sk-toggleable__content pre {margin: 0.2em;color: black;border-radius: 0.25em;background-color: #f0f8ff;}#sk-container-id-1 input.sk-toggleable__control:checked~div.sk-toggleable__content {max-height: 200px;max-width: 100%;overflow: auto;}#sk-container-id-1 input.sk-toggleable__control:checked~label.sk-toggleable__label-arrow:before {content: \"▾\";}#sk-container-id-1 div.sk-estimator input.sk-toggleable__control:checked~label.sk-toggleable__label {background-color: #d4ebff;}#sk-container-id-1 div.sk-label input.sk-toggleable__control:checked~label.sk-toggleable__label {background-color: #d4ebff;}#sk-container-id-1 input.sk-hidden--visually {border: 0;clip: rect(1px 1px 1px 1px);clip: rect(1px, 1px, 1px, 1px);height: 1px;margin: -1px;overflow: hidden;padding: 0;position: absolute;width: 1px;}#sk-container-id-1 div.sk-estimator {font-family: monospace;background-color: #f0f8ff;border: 1px dotted black;border-radius: 0.25em;box-sizing: border-box;margin-bottom: 0.5em;}#sk-container-id-1 div.sk-estimator:hover {background-color: #d4ebff;}#sk-container-id-1 div.sk-parallel-item::after {content: \"\";width: 100%;border-bottom: 1px solid gray;flex-grow: 1;}#sk-container-id-1 div.sk-label:hover label.sk-toggleable__label {background-color: #d4ebff;}#sk-container-id-1 div.sk-serial::before {content: \"\";position: absolute;border-left: 1px solid gray;box-sizing: border-box;top: 0;bottom: 0;left: 50%;z-index: 0;}#sk-container-id-1 div.sk-serial {display: flex;flex-direction: column;align-items: center;background-color: white;padding-right: 0.2em;padding-left: 0.2em;position: relative;}#sk-container-id-1 div.sk-item {position: relative;z-index: 1;}#sk-container-id-1 div.sk-parallel {display: flex;align-items: stretch;justify-content: center;background-color: white;position: relative;}#sk-container-id-1 div.sk-item::before, #sk-container-id-1 div.sk-parallel-item::before {content: \"\";position: absolute;border-left: 1px solid gray;box-sizing: border-box;top: 0;bottom: 0;left: 50%;z-index: -1;}#sk-container-id-1 div.sk-parallel-item {display: flex;flex-direction: column;z-index: 1;position: relative;background-color: white;}#sk-container-id-1 div.sk-parallel-item:first-child::after {align-self: flex-end;width: 50%;}#sk-container-id-1 div.sk-parallel-item:last-child::after {align-self: flex-start;width: 50%;}#sk-container-id-1 div.sk-parallel-item:only-child::after {width: 0;}#sk-container-id-1 div.sk-dashed-wrapped {border: 1px dashed gray;margin: 0 0.4em 0.5em 0.4em;box-sizing: border-box;padding-bottom: 0.4em;background-color: white;}#sk-container-id-1 div.sk-label label {font-family: monospace;font-weight: bold;display: inline-block;line-height: 1.2em;}#sk-container-id-1 div.sk-label-container {text-align: center;}#sk-container-id-1 div.sk-container {/* jupyter's `normalize.less` sets `[hidden] { display: none; }` but bootstrap.min.css set `[hidden] { display: none !important; }` so we also need the `!important` here to be able to override the default hidden behavior on the sphinx rendered scikit-learn.org. See: https://github.com/scikit-learn/scikit-learn/issues/21755 */display: inline-block !important;position: relative;}#sk-container-id-1 div.sk-text-repr-fallback {display: none;}</style><div id=\"sk-container-id-1\" class=\"sk-top-container\"><div class=\"sk-text-repr-fallback\"><pre>Ridge(random_state=777)</pre><b>In a Jupyter environment, please rerun this cell to show the HTML representation or trust the notebook. <br />On GitHub, the HTML representation is unable to render, please try loading this page with nbviewer.org.</b></div><div class=\"sk-container\" hidden><div class=\"sk-item\"><div class=\"sk-estimator sk-toggleable\"><input class=\"sk-toggleable__control sk-hidden--visually\" id=\"sk-estimator-id-1\" type=\"checkbox\" checked><label for=\"sk-estimator-id-1\" class=\"sk-toggleable__label sk-toggleable__label-arrow\">Ridge</label><div class=\"sk-toggleable__content\"><pre>Ridge(random_state=777)</pre></div></div></div></div></div>"
      ],
      "text/plain": [
       "Ridge(random_state=777)"
      ]
     },
     "execution_count": 8,
     "metadata": {},
     "output_type": "execute_result"
    }
   ],
   "source": [
    "model = Ridge(random_state=777)\n",
    "model.fit(train_X, train_y)"
   ]
  },
  {
   "cell_type": "markdown",
   "id": "c931993b-4c6d-4465-8c51-329f1751f98f",
   "metadata": {},
   "source": [
    "Now we need to construct our forecast features which are all based purely off of the date."
   ]
  },
  {
   "cell_type": "code",
   "execution_count": 9,
   "id": "439dc958-e406-4609-bfab-c3652f948bd1",
   "metadata": {},
   "outputs": [
    {
     "data": {
      "text/html": [
       "<div>\n",
       "<style scoped>\n",
       "    .dataframe tbody tr th:only-of-type {\n",
       "        vertical-align: middle;\n",
       "    }\n",
       "\n",
       "    .dataframe tbody tr th {\n",
       "        vertical-align: top;\n",
       "    }\n",
       "\n",
       "    .dataframe thead th {\n",
       "        text-align: right;\n",
       "    }\n",
       "</style>\n",
       "<table border=\"1\" class=\"dataframe\">\n",
       "  <thead>\n",
       "    <tr style=\"text-align: right;\">\n",
       "      <th></th>\n",
       "      <th>date</th>\n",
       "      <th>year</th>\n",
       "      <th>month</th>\n",
       "      <th>weekday</th>\n",
       "      <th>doy</th>\n",
       "      <th>day_serial</th>\n",
       "      <th>weekend</th>\n",
       "      <th>leapday</th>\n",
       "    </tr>\n",
       "  </thead>\n",
       "  <tbody>\n",
       "    <tr>\n",
       "      <th>1461</th>\n",
       "      <td>2018-01-01</td>\n",
       "      <td>2018</td>\n",
       "      <td>1</td>\n",
       "      <td>0</td>\n",
       "      <td>1</td>\n",
       "      <td>1827</td>\n",
       "      <td>False</td>\n",
       "      <td>False</td>\n",
       "    </tr>\n",
       "    <tr>\n",
       "      <th>1462</th>\n",
       "      <td>2018-01-02</td>\n",
       "      <td>2018</td>\n",
       "      <td>1</td>\n",
       "      <td>1</td>\n",
       "      <td>2</td>\n",
       "      <td>1828</td>\n",
       "      <td>False</td>\n",
       "      <td>False</td>\n",
       "    </tr>\n",
       "    <tr>\n",
       "      <th>1463</th>\n",
       "      <td>2018-01-03</td>\n",
       "      <td>2018</td>\n",
       "      <td>1</td>\n",
       "      <td>2</td>\n",
       "      <td>3</td>\n",
       "      <td>1829</td>\n",
       "      <td>False</td>\n",
       "      <td>False</td>\n",
       "    </tr>\n",
       "    <tr>\n",
       "      <th>1464</th>\n",
       "      <td>2018-01-04</td>\n",
       "      <td>2018</td>\n",
       "      <td>1</td>\n",
       "      <td>3</td>\n",
       "      <td>4</td>\n",
       "      <td>1830</td>\n",
       "      <td>False</td>\n",
       "      <td>False</td>\n",
       "    </tr>\n",
       "    <tr>\n",
       "      <th>1465</th>\n",
       "      <td>2018-01-05</td>\n",
       "      <td>2018</td>\n",
       "      <td>1</td>\n",
       "      <td>4</td>\n",
       "      <td>5</td>\n",
       "      <td>1831</td>\n",
       "      <td>False</td>\n",
       "      <td>False</td>\n",
       "    </tr>\n",
       "  </tbody>\n",
       "</table>\n",
       "</div>"
      ],
      "text/plain": [
       "           date  year month weekday  doy  day_serial  weekend  leapday\n",
       "1461 2018-01-01  2018     1       0    1        1827    False    False\n",
       "1462 2018-01-02  2018     1       1    2        1828    False    False\n",
       "1463 2018-01-03  2018     1       2    3        1829    False    False\n",
       "1464 2018-01-04  2018     1       3    4        1830    False    False\n",
       "1465 2018-01-05  2018     1       4    5        1831    False    False"
      ]
     },
     "execution_count": 9,
     "metadata": {},
     "output_type": "execute_result"
    }
   ],
   "source": [
    "forecast_dates = df[df.year == 2017].date.apply(lambda value: value + datetime.timedelta(days=365))\n",
    "forecast_df = pd.DataFrame(forecast_dates)\n",
    "forecast_df[\"year\"] = forecast_df.date.apply(lambda value: value.year)\n",
    "forecast_df[\"month\"] = forecast_df.date.apply(lambda value: value.month).astype(\"category\")\n",
    "forecast_df[\"weekday\"] = forecast_df.date.apply(lambda value: value.weekday()).astype(\"category\")\n",
    "forecast_df[\"doy\"] = forecast_df.date.apply(lambda value: value.timetuple().tm_yday)\n",
    "forecast_df['day_serial'] = forecast_df.date.apply(lambda value: (value - first_date).days + 1)\n",
    "forecast_df['weekend'] = forecast_df.date.apply(lambda value: value.weekday() >= 5)\n",
    "forecast_df['leapday'] = False\n",
    "forecast_df.head()"
   ]
  },
  {
   "cell_type": "markdown",
   "id": "89b9e6c5-fa73-4884-afc7-0eef50211c62",
   "metadata": {},
   "source": [
    "Now we can load our climate data."
   ]
  },
  {
   "cell_type": "code",
   "execution_count": 10,
   "id": "699fe1dc-a0b3-4d4f-b292-3c9e5659494e",
   "metadata": {},
   "outputs": [],
   "source": [
    "climate_df = pd.read_csv(\n",
    "    './USW00014732.csv',\n",
    "    header=None, names=['id', 'ymd', 'element', 'value', 'mflag', 'qflag', 'sflag', 'time'],\n",
    "    usecols=['ymd', 'element', 'value'])\n",
    "climate_mask = \\\n",
    "    (climate_df.ymd >= 20180000) & \\\n",
    "    (climate_df.ymd < 20190000) & \\\n",
    "    (climate_df.element.isin(['PRCP', 'SNOW', 'SNWD', 'TMAX', 'TMIN']))\n",
    "cdf = climate_df[climate_mask].pivot(index='ymd', columns='element', values='value')\n",
    "cdf['date'] = cdf.index.map(lambda value: datetime.datetime(year=int(value / 1e4), month=int((value % 1e4) / 1e2), day=int(value % 1e2)))"
   ]
  },
  {
   "cell_type": "markdown",
   "id": "c947ef89-99ae-4537-a4cb-6a6c1170fcb5",
   "metadata": {},
   "source": [
    "Now we can load our holiday data."
   ]
  },
  {
   "cell_type": "code",
   "execution_count": 11,
   "id": "3bf2f33e-33a6-49ce-ab94-33a97fc956b8",
   "metadata": {},
   "outputs": [],
   "source": [
    "holiday_df = pd.read_csv('./US Holiday Dates (2004-2021).csv')\n",
    "holiday_df[\"date\"] = pd.to_datetime(holiday_df.Date)\n",
    "holiday_df.Holiday = \"holiday_\" + holiday_df.Holiday\n",
    "holiday_df = holiday_df.drop(columns=[\"Date\", \"WeekDay\", \"Month\", \"Day\", \"Year\"])\n",
    "def get_offsets(offset):\n",
    "    result_df = holiday_df.copy()\n",
    "    result_df.date = result_df.date.apply(lambda value: value + datetime.timedelta(days=offset))\n",
    "    result_df.Holiday = result_df.Holiday + f\" {offset:+d}\"\n",
    "    return result_df\n",
    "offsets = list(map(get_offsets, [-3, -2, -1, 1, 2, 3]))\n",
    "offsets.append(holiday_df)\n",
    "all_holiday_df = pd.concat(offsets)\n",
    "all_holiday_df['value'] = True\n",
    "hdf = all_holiday_df \\\n",
    "    .pivot(index='date', columns='Holiday', values='value') \\\n",
    "    .fillna(False) \\\n",
    "    .groupby('date') \\\n",
    "    .max()"
   ]
  },
  {
   "cell_type": "markdown",
   "id": "7e07a70c-1230-4f06-87a0-583419dce06d",
   "metadata": {},
   "source": [
    "And we can merge our data."
   ]
  },
  {
   "cell_type": "code",
   "execution_count": 12,
   "id": "df5b6e55-767e-4bb3-a462-63ff83c7de11",
   "metadata": {},
   "outputs": [
    {
     "name": "stdout",
     "output_type": "stream",
     "text": [
      "Forecast X (365, 155)\n"
     ]
    }
   ],
   "source": [
    "fdf = forecast_df \\\n",
    "    .merge(cdf, on='date', how='inner') \\\n",
    "    .merge(hdf, on='date', how='left')\n",
    "for column in hdf.columns.values:\n",
    "    fdf[column] = fdf[column].fillna(False)\n",
    "forecast_hot = hot_enc.transform(fdf[cat_features])\n",
    "forecast_num = scaler.transform(fdf[num_features])\n",
    "forecast_bool = fdf[bool_features]\n",
    "forecast_X = sp.hstack((forecast_hot, forecast_num, forecast_bool))\n",
    "print(f\"Forecast X {forecast_X.shape}\")"
   ]
  },
  {
   "cell_type": "markdown",
   "id": "02a498d2-6b76-4d99-b406-1d970c855376",
   "metadata": {},
   "source": [
    "And we can forecast the next year."
   ]
  },
  {
   "cell_type": "code",
   "execution_count": 13,
   "id": "78cc4bfa-4f1b-480d-aee7-282ea5db7bb0",
   "metadata": {},
   "outputs": [],
   "source": [
    "forecast_y = model.predict(forecast_X)"
   ]
  },
  {
   "cell_type": "markdown",
   "id": "a8a7d6b5-6339-46bf-8dd3-963cc0890d9c",
   "metadata": {},
   "source": [
    "And we can plot the actual values and forecasted values together."
   ]
  },
  {
   "cell_type": "code",
   "execution_count": 14,
   "id": "0148030a-43f9-4c09-9ded-c6fd20faac27",
   "metadata": {},
   "outputs": [
    {
     "data": {
      "image/png": "[encoded data removed]",
      "text/plain": [
       "<Figure size 960x720 with 1 Axes>"
      ]
     },
     "metadata": {},
     "output_type": "display_data"
    }
   ],
   "source": [
    "plot = sns.lineplot(df, x='date', y='count', label='Actual')\n",
    "sns.lineplot(x=fdf.date, y=forecast_y, label='Forecast')\n",
    "plot.set(title='Schedule Flight Count by Date', xlabel='Date', ylabel='Count');\n",
    "plot.figure.savefig('forecast.png')"
   ]
  },
  {
   "cell_type": "code",
   "execution_count": null,
   "id": "4b17e41c-46c8-43c3-be6c-65a6f9e6b665",
   "metadata": {},
   "outputs": [],
   "source": []
  }
 ],
 "metadata": {
  "kernelspec": {
   "display_name": "Python 3 (ipykernel)",
   "language": "python",
   "name": "python3"
  },
  "language_info": {
   "codemirror_mode": {
    "name": "ipython",
    "version": 3
   },
   "file_extension": ".py",
   "mimetype": "text/x-python",
   "name": "python",
   "nbconvert_exporter": "python",
   "pygments_lexer": "ipython3",
   "version": "3.11.5"
  }
 },
 "nbformat": 4,
 "nbformat_minor": 5
}
